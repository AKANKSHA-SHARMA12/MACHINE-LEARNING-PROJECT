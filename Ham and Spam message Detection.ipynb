{
 "cells": [
  {
   "cell_type": "code",
   "execution_count": 2,
   "metadata": {},
   "outputs": [],
   "source": [
    "import numpy as np\n",
    "import matplotlib.pyplot as plt\n",
    "import pandas as pd\n",
    "import seaborn as sns"
   ]
  },
  {
   "cell_type": "code",
   "execution_count": 4,
   "metadata": {},
   "outputs": [
    {
     "data": {
      "text/html": [
       "<div>\n",
       "<style scoped>\n",
       "    .dataframe tbody tr th:only-of-type {\n",
       "        vertical-align: middle;\n",
       "    }\n",
       "\n",
       "    .dataframe tbody tr th {\n",
       "        vertical-align: top;\n",
       "    }\n",
       "\n",
       "    .dataframe thead th {\n",
       "        text-align: right;\n",
       "    }\n",
       "</style>\n",
       "<table border=\"1\" class=\"dataframe\">\n",
       "  <thead>\n",
       "    <tr style=\"text-align: right;\">\n",
       "      <th></th>\n",
       "      <th>Label</th>\n",
       "      <th>Message</th>\n",
       "    </tr>\n",
       "  </thead>\n",
       "  <tbody>\n",
       "    <tr>\n",
       "      <th>0</th>\n",
       "      <td>ham</td>\n",
       "      <td>Go until jurong point, crazy.. Available only ...</td>\n",
       "    </tr>\n",
       "    <tr>\n",
       "      <th>1</th>\n",
       "      <td>ham</td>\n",
       "      <td>Ok lar... Joking wif u oni...</td>\n",
       "    </tr>\n",
       "    <tr>\n",
       "      <th>2</th>\n",
       "      <td>spam</td>\n",
       "      <td>Free entry in 2 a wkly comp to win FA Cup fina...</td>\n",
       "    </tr>\n",
       "    <tr>\n",
       "      <th>3</th>\n",
       "      <td>ham</td>\n",
       "      <td>U dun say so early hor... U c already then say...</td>\n",
       "    </tr>\n",
       "    <tr>\n",
       "      <th>4</th>\n",
       "      <td>ham</td>\n",
       "      <td>Nah I don't think he goes to usf, he lives aro...</td>\n",
       "    </tr>\n",
       "  </tbody>\n",
       "</table>\n",
       "</div>"
      ],
      "text/plain": [
       "  Label                                            Message\n",
       "0   ham  Go until jurong point, crazy.. Available only ...\n",
       "1   ham                      Ok lar... Joking wif u oni...\n",
       "2  spam  Free entry in 2 a wkly comp to win FA Cup fina...\n",
       "3   ham  U dun say so early hor... U c already then say...\n",
       "4   ham  Nah I don't think he goes to usf, he lives aro..."
      ]
     },
     "execution_count": 4,
     "metadata": {},
     "output_type": "execute_result"
    }
   ],
   "source": [
    "names=['Label',\"Message\"]\n",
    "data=pd.read_csv(r\"SMSSpamCollection.csv\",sep=\"\\t\",names=names)\n",
    "data.head()"
   ]
  },
  {
   "cell_type": "code",
   "execution_count": 5,
   "metadata": {},
   "outputs": [
    {
     "data": {
      "text/html": [
       "<div>\n",
       "<style scoped>\n",
       "    .dataframe tbody tr th:only-of-type {\n",
       "        vertical-align: middle;\n",
       "    }\n",
       "\n",
       "    .dataframe tbody tr th {\n",
       "        vertical-align: top;\n",
       "    }\n",
       "\n",
       "    .dataframe thead th {\n",
       "        text-align: right;\n",
       "    }\n",
       "</style>\n",
       "<table border=\"1\" class=\"dataframe\">\n",
       "  <thead>\n",
       "    <tr style=\"text-align: right;\">\n",
       "      <th></th>\n",
       "      <th>Label</th>\n",
       "      <th>Message</th>\n",
       "    </tr>\n",
       "  </thead>\n",
       "  <tbody>\n",
       "    <tr>\n",
       "      <th>count</th>\n",
       "      <td>5572</td>\n",
       "      <td>5572</td>\n",
       "    </tr>\n",
       "    <tr>\n",
       "      <th>unique</th>\n",
       "      <td>2</td>\n",
       "      <td>5169</td>\n",
       "    </tr>\n",
       "    <tr>\n",
       "      <th>top</th>\n",
       "      <td>ham</td>\n",
       "      <td>Sorry, I'll call later</td>\n",
       "    </tr>\n",
       "    <tr>\n",
       "      <th>freq</th>\n",
       "      <td>4825</td>\n",
       "      <td>30</td>\n",
       "    </tr>\n",
       "  </tbody>\n",
       "</table>\n",
       "</div>"
      ],
      "text/plain": [
       "       Label                 Message\n",
       "count   5572                    5572\n",
       "unique     2                    5169\n",
       "top      ham  Sorry, I'll call later\n",
       "freq    4825                      30"
      ]
     },
     "execution_count": 5,
     "metadata": {},
     "output_type": "execute_result"
    }
   ],
   "source": [
    "data.describe()"
   ]
  },
  {
   "cell_type": "code",
   "execution_count": null,
   "metadata": {},
   "outputs": [],
   "source": []
  },
  {
   "cell_type": "code",
   "execution_count": 6,
   "metadata": {},
   "outputs": [
    {
     "data": {
      "text/html": [
       "<div>\n",
       "<style scoped>\n",
       "    .dataframe tbody tr th:only-of-type {\n",
       "        vertical-align: middle;\n",
       "    }\n",
       "\n",
       "    .dataframe tbody tr th {\n",
       "        vertical-align: top;\n",
       "    }\n",
       "\n",
       "    .dataframe thead th {\n",
       "        text-align: right;\n",
       "    }\n",
       "</style>\n",
       "<table border=\"1\" class=\"dataframe\">\n",
       "  <thead>\n",
       "    <tr style=\"text-align: right;\">\n",
       "      <th></th>\n",
       "      <th>Message</th>\n",
       "    </tr>\n",
       "    <tr>\n",
       "      <th>Label</th>\n",
       "      <th></th>\n",
       "    </tr>\n",
       "  </thead>\n",
       "  <tbody>\n",
       "    <tr>\n",
       "      <th>ham</th>\n",
       "      <td>4825</td>\n",
       "    </tr>\n",
       "    <tr>\n",
       "      <th>spam</th>\n",
       "      <td>747</td>\n",
       "    </tr>\n",
       "  </tbody>\n",
       "</table>\n",
       "</div>"
      ],
      "text/plain": [
       "       Message\n",
       "Label         \n",
       "ham       4825\n",
       "spam       747"
      ]
     },
     "execution_count": 6,
     "metadata": {},
     "output_type": "execute_result"
    }
   ],
   "source": [
    "data.groupby(\"Label\").count()"
   ]
  },
  {
   "cell_type": "code",
   "execution_count": 7,
   "metadata": {},
   "outputs": [
    {
     "data": {
      "text/plain": [
       "5572"
      ]
     },
     "execution_count": 7,
     "metadata": {},
     "output_type": "execute_result"
    }
   ],
   "source": [
    "data.duplicated().count()"
   ]
  },
  {
   "cell_type": "code",
   "execution_count": 8,
   "metadata": {},
   "outputs": [],
   "source": [
    "X=data.drop_duplicates()\n"
   ]
  },
  {
   "cell_type": "code",
   "execution_count": 9,
   "metadata": {},
   "outputs": [
    {
     "data": {
      "text/html": [
       "<div>\n",
       "<style scoped>\n",
       "    .dataframe tbody tr th:only-of-type {\n",
       "        vertical-align: middle;\n",
       "    }\n",
       "\n",
       "    .dataframe tbody tr th {\n",
       "        vertical-align: top;\n",
       "    }\n",
       "\n",
       "    .dataframe thead th {\n",
       "        text-align: right;\n",
       "    }\n",
       "</style>\n",
       "<table border=\"1\" class=\"dataframe\">\n",
       "  <thead>\n",
       "    <tr style=\"text-align: right;\">\n",
       "      <th></th>\n",
       "      <th>Label</th>\n",
       "      <th>Message</th>\n",
       "    </tr>\n",
       "  </thead>\n",
       "  <tbody>\n",
       "    <tr>\n",
       "      <th>0</th>\n",
       "      <td>ham</td>\n",
       "      <td>Go until jurong point, crazy.. Available only ...</td>\n",
       "    </tr>\n",
       "    <tr>\n",
       "      <th>1</th>\n",
       "      <td>ham</td>\n",
       "      <td>Ok lar... Joking wif u oni...</td>\n",
       "    </tr>\n",
       "    <tr>\n",
       "      <th>2</th>\n",
       "      <td>spam</td>\n",
       "      <td>Free entry in 2 a wkly comp to win FA Cup fina...</td>\n",
       "    </tr>\n",
       "    <tr>\n",
       "      <th>3</th>\n",
       "      <td>ham</td>\n",
       "      <td>U dun say so early hor... U c already then say...</td>\n",
       "    </tr>\n",
       "    <tr>\n",
       "      <th>4</th>\n",
       "      <td>ham</td>\n",
       "      <td>Nah I don't think he goes to usf, he lives aro...</td>\n",
       "    </tr>\n",
       "  </tbody>\n",
       "</table>\n",
       "</div>"
      ],
      "text/plain": [
       "  Label                                            Message\n",
       "0   ham  Go until jurong point, crazy.. Available only ...\n",
       "1   ham                      Ok lar... Joking wif u oni...\n",
       "2  spam  Free entry in 2 a wkly comp to win FA Cup fina...\n",
       "3   ham  U dun say so early hor... U c already then say...\n",
       "4   ham  Nah I don't think he goes to usf, he lives aro..."
      ]
     },
     "execution_count": 9,
     "metadata": {},
     "output_type": "execute_result"
    }
   ],
   "source": [
    "X.head()"
   ]
  },
  {
   "cell_type": "code",
   "execution_count": 10,
   "metadata": {},
   "outputs": [
    {
     "data": {
      "text/plain": [
       "(5169, 2)"
      ]
     },
     "execution_count": 10,
     "metadata": {},
     "output_type": "execute_result"
    }
   ],
   "source": [
    "X.shape\n"
   ]
  },
  {
   "cell_type": "code",
   "execution_count": 11,
   "metadata": {},
   "outputs": [
    {
     "data": {
      "text/html": [
       "<div>\n",
       "<style scoped>\n",
       "    .dataframe tbody tr th:only-of-type {\n",
       "        vertical-align: middle;\n",
       "    }\n",
       "\n",
       "    .dataframe tbody tr th {\n",
       "        vertical-align: top;\n",
       "    }\n",
       "\n",
       "    .dataframe thead tr th {\n",
       "        text-align: left;\n",
       "    }\n",
       "\n",
       "    .dataframe thead tr:last-of-type th {\n",
       "        text-align: right;\n",
       "    }\n",
       "</style>\n",
       "<table border=\"1\" class=\"dataframe\">\n",
       "  <thead>\n",
       "    <tr>\n",
       "      <th></th>\n",
       "      <th colspan=\"4\" halign=\"left\">Message</th>\n",
       "    </tr>\n",
       "    <tr>\n",
       "      <th></th>\n",
       "      <th>count</th>\n",
       "      <th>unique</th>\n",
       "      <th>top</th>\n",
       "      <th>freq</th>\n",
       "    </tr>\n",
       "    <tr>\n",
       "      <th>Label</th>\n",
       "      <th></th>\n",
       "      <th></th>\n",
       "      <th></th>\n",
       "      <th></th>\n",
       "    </tr>\n",
       "  </thead>\n",
       "  <tbody>\n",
       "    <tr>\n",
       "      <th>ham</th>\n",
       "      <td>4516</td>\n",
       "      <td>4516</td>\n",
       "      <td>Hello which the site to download songs its urg...</td>\n",
       "      <td>1</td>\n",
       "    </tr>\n",
       "    <tr>\n",
       "      <th>spam</th>\n",
       "      <td>653</td>\n",
       "      <td>653</td>\n",
       "      <td>Sorry! U can not unsubscribe yet. THE MOB offe...</td>\n",
       "      <td>1</td>\n",
       "    </tr>\n",
       "  </tbody>\n",
       "</table>\n",
       "</div>"
      ],
      "text/plain": [
       "      Message                                                               \n",
       "        count unique                                                top freq\n",
       "Label                                                                       \n",
       "ham      4516   4516  Hello which the site to download songs its urg...    1\n",
       "spam      653    653  Sorry! U can not unsubscribe yet. THE MOB offe...    1"
      ]
     },
     "execution_count": 11,
     "metadata": {},
     "output_type": "execute_result"
    }
   ],
   "source": [
    "X.groupby('Label').describe()"
   ]
  },
  {
   "cell_type": "code",
   "execution_count": 12,
   "metadata": {},
   "outputs": [
    {
     "name": "stderr",
     "output_type": "stream",
     "text": [
      "D:\\Anaconda3\\lib\\site-packages\\ipykernel_launcher.py:1: SettingWithCopyWarning: \n",
      "A value is trying to be set on a copy of a slice from a DataFrame.\n",
      "Try using .loc[row_indexer,col_indexer] = value instead\n",
      "\n",
      "See the caveats in the documentation: http://pandas.pydata.org/pandas-docs/stable/indexing.html#indexing-view-versus-copy\n",
      "  \"\"\"Entry point for launching an IPython kernel.\n"
     ]
    }
   ],
   "source": [
    "X['length']=X['Message'].apply(len)"
   ]
  },
  {
   "cell_type": "code",
   "execution_count": 13,
   "metadata": {},
   "outputs": [
    {
     "data": {
      "text/html": [
       "<div>\n",
       "<style scoped>\n",
       "    .dataframe tbody tr th:only-of-type {\n",
       "        vertical-align: middle;\n",
       "    }\n",
       "\n",
       "    .dataframe tbody tr th {\n",
       "        vertical-align: top;\n",
       "    }\n",
       "\n",
       "    .dataframe thead th {\n",
       "        text-align: right;\n",
       "    }\n",
       "</style>\n",
       "<table border=\"1\" class=\"dataframe\">\n",
       "  <thead>\n",
       "    <tr style=\"text-align: right;\">\n",
       "      <th></th>\n",
       "      <th>Label</th>\n",
       "      <th>Message</th>\n",
       "      <th>length</th>\n",
       "    </tr>\n",
       "  </thead>\n",
       "  <tbody>\n",
       "    <tr>\n",
       "      <th>0</th>\n",
       "      <td>ham</td>\n",
       "      <td>Go until jurong point, crazy.. Available only ...</td>\n",
       "      <td>111</td>\n",
       "    </tr>\n",
       "    <tr>\n",
       "      <th>1</th>\n",
       "      <td>ham</td>\n",
       "      <td>Ok lar... Joking wif u oni...</td>\n",
       "      <td>29</td>\n",
       "    </tr>\n",
       "    <tr>\n",
       "      <th>2</th>\n",
       "      <td>spam</td>\n",
       "      <td>Free entry in 2 a wkly comp to win FA Cup fina...</td>\n",
       "      <td>155</td>\n",
       "    </tr>\n",
       "    <tr>\n",
       "      <th>3</th>\n",
       "      <td>ham</td>\n",
       "      <td>U dun say so early hor... U c already then say...</td>\n",
       "      <td>49</td>\n",
       "    </tr>\n",
       "    <tr>\n",
       "      <th>4</th>\n",
       "      <td>ham</td>\n",
       "      <td>Nah I don't think he goes to usf, he lives aro...</td>\n",
       "      <td>61</td>\n",
       "    </tr>\n",
       "  </tbody>\n",
       "</table>\n",
       "</div>"
      ],
      "text/plain": [
       "  Label                                            Message  length\n",
       "0   ham  Go until jurong point, crazy.. Available only ...     111\n",
       "1   ham                      Ok lar... Joking wif u oni...      29\n",
       "2  spam  Free entry in 2 a wkly comp to win FA Cup fina...     155\n",
       "3   ham  U dun say so early hor... U c already then say...      49\n",
       "4   ham  Nah I don't think he goes to usf, he lives aro...      61"
      ]
     },
     "execution_count": 13,
     "metadata": {},
     "output_type": "execute_result"
    }
   ],
   "source": [
    "X.head()"
   ]
  },
  {
   "cell_type": "code",
   "execution_count": 14,
   "metadata": {},
   "outputs": [
    {
     "data": {
      "text/plain": [
       "(5169, 3)"
      ]
     },
     "execution_count": 14,
     "metadata": {},
     "output_type": "execute_result"
    }
   ],
   "source": [
    "X.shape"
   ]
  },
  {
   "cell_type": "code",
   "execution_count": 15,
   "metadata": {},
   "outputs": [],
   "source": [
    "import string\n",
    "from nltk.corpus import stopwords\n",
    "from nltk.stem.porter import PorterStemmer\n",
    "ps = PorterStemmer()"
   ]
  },
  {
   "cell_type": "code",
   "execution_count": 16,
   "metadata": {},
   "outputs": [
    {
     "data": {
      "text/plain": [
       "'Free entry in 2 a wkly comp to win FA Cup final tkts 21st May 2005 Text FA to 87121 to receive entry questionstd txt rateTCs apply 08452810075over18s'"
      ]
     },
     "execution_count": 16,
     "metadata": {},
     "output_type": "execute_result"
    }
   ],
   "source": [
    "temp=[char for char in X['Message'][2] if char not in string.punctuation]\n",
    "temp=\"\".join(temp)\n",
    "temp"
   ]
  },
  {
   "cell_type": "code",
   "execution_count": null,
   "metadata": {},
   "outputs": [],
   "source": []
  },
  {
   "cell_type": "code",
   "execution_count": 17,
   "metadata": {},
   "outputs": [],
   "source": [
    "def clean(X):\n",
    "    temp=[char for char in X if char not in string.punctuation]\n",
    "    temp=\"\".join(temp)\n",
    "    temp=temp.lower()\n",
    "    temp=temp.split()\n",
    "    temp=[ps.stem(word) for word in temp if word not in stopwords.words(\"english\")]\n",
    "    temp=\" \".join(temp)\n",
    "    return temp"
   ]
  },
  {
   "cell_type": "code",
   "execution_count": 18,
   "metadata": {},
   "outputs": [
    {
     "name": "stderr",
     "output_type": "stream",
     "text": [
      "D:\\Anaconda3\\lib\\site-packages\\ipykernel_launcher.py:1: SettingWithCopyWarning: \n",
      "A value is trying to be set on a copy of a slice from a DataFrame.\n",
      "Try using .loc[row_indexer,col_indexer] = value instead\n",
      "\n",
      "See the caveats in the documentation: http://pandas.pydata.org/pandas-docs/stable/indexing.html#indexing-view-versus-copy\n",
      "  \"\"\"Entry point for launching an IPython kernel.\n"
     ]
    }
   ],
   "source": [
    "X['Message']=X['Message'].apply(clean)"
   ]
  },
  {
   "cell_type": "code",
   "execution_count": 19,
   "metadata": {},
   "outputs": [
    {
     "data": {
      "text/html": [
       "<div>\n",
       "<style scoped>\n",
       "    .dataframe tbody tr th:only-of-type {\n",
       "        vertical-align: middle;\n",
       "    }\n",
       "\n",
       "    .dataframe tbody tr th {\n",
       "        vertical-align: top;\n",
       "    }\n",
       "\n",
       "    .dataframe thead th {\n",
       "        text-align: right;\n",
       "    }\n",
       "</style>\n",
       "<table border=\"1\" class=\"dataframe\">\n",
       "  <thead>\n",
       "    <tr style=\"text-align: right;\">\n",
       "      <th></th>\n",
       "      <th>Label</th>\n",
       "      <th>Message</th>\n",
       "      <th>length</th>\n",
       "    </tr>\n",
       "  </thead>\n",
       "  <tbody>\n",
       "    <tr>\n",
       "      <th>0</th>\n",
       "      <td>ham</td>\n",
       "      <td>go jurong point crazi avail bugi n great world...</td>\n",
       "      <td>111</td>\n",
       "    </tr>\n",
       "    <tr>\n",
       "      <th>1</th>\n",
       "      <td>ham</td>\n",
       "      <td>ok lar joke wif u oni</td>\n",
       "      <td>29</td>\n",
       "    </tr>\n",
       "    <tr>\n",
       "      <th>2</th>\n",
       "      <td>spam</td>\n",
       "      <td>free entri 2 wkli comp win fa cup final tkt 21...</td>\n",
       "      <td>155</td>\n",
       "    </tr>\n",
       "    <tr>\n",
       "      <th>3</th>\n",
       "      <td>ham</td>\n",
       "      <td>u dun say earli hor u c alreadi say</td>\n",
       "      <td>49</td>\n",
       "    </tr>\n",
       "    <tr>\n",
       "      <th>4</th>\n",
       "      <td>ham</td>\n",
       "      <td>nah dont think goe usf live around though</td>\n",
       "      <td>61</td>\n",
       "    </tr>\n",
       "  </tbody>\n",
       "</table>\n",
       "</div>"
      ],
      "text/plain": [
       "  Label                                            Message  length\n",
       "0   ham  go jurong point crazi avail bugi n great world...     111\n",
       "1   ham                              ok lar joke wif u oni      29\n",
       "2  spam  free entri 2 wkli comp win fa cup final tkt 21...     155\n",
       "3   ham                u dun say earli hor u c alreadi say      49\n",
       "4   ham          nah dont think goe usf live around though      61"
      ]
     },
     "execution_count": 19,
     "metadata": {},
     "output_type": "execute_result"
    }
   ],
   "source": [
    "X.head()"
   ]
  },
  {
   "cell_type": "code",
   "execution_count": 38,
   "metadata": {},
   "outputs": [
    {
     "data": {
      "text/plain": [
       "'free entri 2 wkli comp win fa cup final tkt 21st may 2005 text fa 87121 receiv entri questionstd txt ratetc appli 08452810075over18'"
      ]
     },
     "execution_count": 38,
     "metadata": {},
     "output_type": "execute_result"
    }
   ],
   "source": [
    "X['Message'][2]"
   ]
  },
  {
   "cell_type": "code",
   "execution_count": 21,
   "metadata": {},
   "outputs": [],
   "source": [
    "from sklearn.feature_extraction.text import CountVectorizer\n",
    "cv=CountVectorizer()"
   ]
  },
  {
   "cell_type": "code",
   "execution_count": 22,
   "metadata": {},
   "outputs": [
    {
     "data": {
      "text/plain": [
       "(5169, 8098)"
      ]
     },
     "execution_count": 22,
     "metadata": {},
     "output_type": "execute_result"
    }
   ],
   "source": [
    "X_count=cv.fit_transform(X['Message'])\n",
    "X_count.shape"
   ]
  },
  {
   "cell_type": "code",
   "execution_count": 23,
   "metadata": {},
   "outputs": [],
   "source": [
    "X_count=X_count.toarray()"
   ]
  },
  {
   "cell_type": "code",
   "execution_count": 49,
   "metadata": {},
   "outputs": [
    {
     "name": "stdout",
     "output_type": "stream",
     "text": [
      "{'go': 3315, 'jurong': 4097, 'point': 5587, 'crazi': 2234, 'avail': 1335, 'bugi': 1739, 'great': 3406, 'world': 7854, 'la': 4241, 'buffet': 1737, 'cine': 2016, 'got': 3368, 'amor': 1146, 'wat': 7650, 'ok': 5215, 'lar': 4276, 'joke': 4063, 'wif': 7766, 'oni': 5245, 'free': 3129, 'entri': 2785, 'wkli': 7813, 'comp': 2112, 'win': 7779, 'fa': 2903, 'cup': 2281, 'final': 3005, 'tkt': 7165, '21st': 452, 'may': 4637, '2005': 439, 'text': 7024, '87121': 869, 'receiv': 5912, 'questionstd': 5824, 'txt': 7347, 'ratetc': 5870, 'appli': 1218, '08452810075over18': 71, 'dun': 2661, 'say': 6185, 'earli': 2677, 'hor': 3692, 'alreadi': 1118, 'nah': 4927, 'dont': 2582, 'think': 7092, 'goe': 3327, 'usf': 7476, 'live': 4396, 'around': 1257, 'though': 7108, 'freemsg': 3137, 'hey': 3601, 'darl': 2336, 'week': 7689, 'word': 7843, 'back': 1379, 'id': 3797, 'like': 4365, 'fun': 3193, 'still': 6731, 'tb': 6966, 'xxx': 7972, 'std': 6708, 'chg': 1965, 'send': 6258, '150': 351, 'rcv': 5881, 'even': 2832, 'brother': 1709, 'speak': 6606, 'treat': 7285, 'aid': 1069, 'patent': 5414, 'per': 5449, 'request': 5990, 'mell': 4671, 'oru': 5299, 'minnaminungint': 4741, 'nurungu': 5150, 'vettam': 7529, 'set': 6282, 'callertun': 1810, 'caller': 1809, 'press': 5690, 'copi': 2185, 'friend': 3157, 'winner': 7786, 'valu': 7503, 'network': 4995, 'custom': 2292, 'select': 6247, 'receivea': 5913, '900': 907, 'prize': 5720, 'reward': 6027, 'claim': 2023, 'call': 1793, '09061701461': 217, 'code': 2073, 'kl341': 4200, 'valid': 7501, '12': 322, 'hour': 3706, 'mobil': 4793, '11': 311, 'month': 4826, 'entitl': 2783, 'updat': 7439, 'latest': 4291, 'colour': 2091, 'camera': 1823, 'co': 2062, '08002986030': 56, 'im': 3823, 'gonna': 3343, 'home': 3665, 'soon': 6565, 'want': 7637, 'talk': 6938, 'stuff': 6792, 'anymor': 1190, 'tonight': 7222, 'ive': 3987, 'cri': 2245, 'enough': 2778, 'today': 7181, 'six': 6436, 'chanc': 1917, 'cash': 1873, '100': 291, '20000': 436, 'pound': 5639, 'csh11': 2262, '87575': 873, 'cost': 2196, '150pday': 358, '6day': 755, '16': 389, 'tsandc': 7313, 'repli': 5983, 'hl': 3633, 'info': 3874, 'urgent': 7457, 'membership': 4676, '100000': 294, 'jackpot': 3996, '81010': 819, 'tc': 6968, 'wwwdbuknet': 7917, 'lccltd': 4303, 'pobox': 5566, '4403ldnw1a7rw18': 626, 'search': 6225, 'right': 6038, 'thank': 7039, 'breather': 1682, 'promis': 5752, 'wont': 7834, 'take': 6932, 'help': 3575, 'grant': 3395, 'fulfil': 3189, 'wonder': 7833, 'bless': 1569, 'time': 7143, 'date': 2344, 'sunday': 6840, 'xxxmobilemovieclub': 7973, 'use': 7473, 'credit': 2241, 'click': 2039, 'wap': 7639, 'link': 4380, 'next': 5011, 'messag': 4698, 'httpwap': 3734, 'xxxmobilemovieclubcomnqjkgighjjgcbl': 7974, 'oh': 5208, 'kim': 4170, 'watch': 7651, 'eh': 2723, 'rememb': 5968, 'spell': 6617, 'name': 4933, 'ye': 7999, 'naughti': 4955, 'make': 4573, 'wet': 7727, 'fine': 3010, 'that': 7048, 'way': 7662, 'feel': 2970, 'gota': 3369, 'england': 2771, 'macedonia': 4540, 'miss': 4756, 'goalsteam': 3320, 'news': 5006, 'ur': 7454, 'nation': 4949, 'team': 6979, '87077': 868, 'eg': 2715, 'trywal': 7311, 'scotland': 6208, '4txtú120': 674, 'poboxox36504w45wq': 5578, 'serious': 6278, 'tri': 7291, 'ha': 3466, 'pay': 5423, 'first': 3026, 'da': 2306, 'stock': 6735, 'comin': 2103, 'aft': 1036, 'finish': 3016, 'lunch': 4508, 'str': 6755, 'lor': 4443, 'ard': 1238, 'smth': 6507, 'ffffffffff': 2984, 'alright': 1120, 'meet': 4660, 'sooner': 6567, 'forc': 3088, 'eat': 2691, 'slice': 6467, 'realli': 5898, 'hungri': 3757, 'tho': 7104, 'suck': 6815, 'mark': 4604, 'get': 3273, 'worri': 7859, 'know': 4206, 'sick': 6392, 'turn': 7331, 'pizza': 5527, 'lol': 4424, 'alway': 1130, 'convinc': 2175, 'catch': 1882, 'bu': 1730, 'fri': 3153, 'egg': 2719, 'tea': 6975, 'mom': 4810, 'left': 4320, 'dinner': 2502, 'love': 4466, 'amp': 1148, 'pack': 5350, 'car': 1847, 'ill': 3820, 'let': 4338, 'there': 7073, 'room': 6074, 'ahhh': 1061, 'work': 7848, 'vagu': 7497, 'wait': 7614, 'clear': 2035, 'sure': 6865, 'sarcast': 6163, 'doesnt': 2557, 'us': 7469, 'yeah': 8000, 'apologet': 1208, 'fallen': 2927, 'actin': 987, 'spoilt': 6642, 'child': 1980, 'caught': 1884, 'till': 7141, 'badli': 1385, 'cheer': 1948, 'tell': 6994, 'anyth': 1193, 'fear': 2961, 'faint': 2917, 'housework': 3711, 'quick': 5825, 'cuppa': 2283, 'subscript': 6809, 'rington': 6045, 'uk': 7375, 'charg': 1924, '5month': 711, 'pleas': 5547, 'confirm': 2147, 'yup': 8080, 'look': 4435, 'msg': 4863, 'xuhui': 7968, 'learn': 4313, '2nd': 518, 'lesson': 4337, '8am': 896, 'oop': 5263, 'roommat': 6076, 'done': 2579, 'see': 6237, 'letter': 4339, 'decid': 2391, 'hello': 3569, 'how': 3712, 'saturday': 6178, 'youd': 8046, 'tomo': 7207, 'invit': 3929, 'pl': 5528, 'ahead': 1059, 'watt': 7660, 'weekend': 7691, 'abiola': 946, 'forget': 3094, 'need': 4974, 'crave': 2233, 'sweet': 6893, 'arabian': 1235, 'steed': 6714, 'mmmmmm': 4783, 'yummi': 8074, '07732584351': 28, 'rodger': 6065, 'burn': 1753, 'sm': 6482, 'nokia': 5074, 'camcord': 1821, '08000930705': 52, 'deliveri': 2419, 'tomorrow': 7210, 'hope': 3688, 'man': 4581, 'well': 7705, 'endow': 2764, 'ltgt': 4493, 'inch': 3847, 'callsmessagesmiss': 1817, 'didnt': 2480, 'hep': 3586, 'immunis': 3833, 'nigeria': 5024, 'fair': 2918, 'tyler': 7356, 'cant': 1839, 'could': 2202, 'mayb': 4638, 'ask': 1280, 'bit': 1552, 'stubborn': 6782, 'hospit': 3698, 'kept': 4148, 'weak': 7669, 'sucker': 6816, 'saw': 6184, 'class': 2029, 'gram': 3389, 'usual': 7484, 'run': 6110, 'half': 3483, 'eighth': 2726, 'smarter': 6488, 'almost': 1114, 'whole': 7756, 'second': 6229, 'fyi': 3206, 'ride': 6037, 'morn': 4835, 'he': 3538, 'crash': 2232, 'place': 5529, 'wow': 7875, 'never': 4998, 'realiz': 5897, 'embarass': 2748, 'accomod': 970, 'thought': 7109, 'sinc': 6414, 'best': 1512, 'seem': 6241, 'happi': 3505, 'cave': 1886, 'sorri': 6576, 'give': 3298, 'offer': 5193, 'ac': 959, 'sptv': 6662, 'new': 5001, 'jersey': 4039, 'devil': 2459, 'detroit': 2455, 'red': 5928, 'wing': 7785, 'play': 5540, 'ice': 3792, 'hockey': 3651, 'correct': 2190, 'incorrect': 3855, 'end': 2761, 'mallika': 4580, 'sherawat': 6327, 'yesterday': 8026, 'find': 3009, 'lturlgt': 4496, 'congrat': 2152, 'year': 8002, 'special': 6608, 'cinema': 2017, 'pass': 5405, '09061209465': 212, 'suprman': 6863, 'matrix3': 4627, 'starwars3': 6700, 'etc': 2818, 'bx420ip45w': 1775, '150pm': 361, 'later': 4289, 'reach': 5885, 'yesgauti': 8019, 'sehwag': 6246, 'odi': 5186, 'seri': 6276, 'pick': 5503, 'burger': 1750, 'move': 4851, 'pain': 5357, 'kill': 4168, 'good': 3345, 'girl': 3292, 'situat': 6433, 'seeker': 6240, 'part': 5396, 'check': 1942, 'iq': 3940, 'took': 7227, 'forev': 3091, 'come': 2096, 'doubl': 2596, 'hair': 3478, 'dresser': 2625, 'said': 6132, 'wun': 7903, 'cut': 2295, 'short': 6362, 'nice': 5017, 'advis': 1021, 'follow': 3074, 'recent': 5914, 'review': 6025, 'mob': 4790, 'award': 1351, '1500': 352, 'bonu': 1609, '09066364589': 261, 'song': 6560, 'dedic': 2397, 'day': 2354, 'valuabl': 7504, 'frnd': 3165, 'rpli': 6088, 'complimentari': 2126, 'trip': 7293, 'eurodisinc': 2825, 'trav': 7280, 'acoentry41': 983, '1000': 292, 'di': 2468, '186': 398, '150morefrmmob': 354, 'shracomorsglsuplt10': 6378, 'ls1': 4483, '3aj': 579, 'hear': 3548, 'divorc': 2538, 'barbi': 1413, 'ken': 4145, 'plane': 5534, 'wah': 7607, 'lucki': 4501, 'save': 6183, 'money': 4816, 'hee': 3561, 'hi': 3606, 'babe': 1370, 'wanna': 7635, 'someth': 6547, 'xx': 7969, 'kkwhere': 4197, 'youhow': 8049, 'perform': 5454, 'machan': 4542, 'cool': 2179, 'gentleman': 3264, 'digniti': 2494, 'respect': 6004, 'peopl': 5448, 'much': 4880, 'shi': 6331, 'pa': 5348, 'oper': 5266, 'job': 4054, 'ta': 6918, 'earn': 2681, 'ah': 1057, 'stop': 6743, 'urgnt': 7461, 'real': 5892, 'yo': 8036, 'ticket': 7132, 'one': 5242, 'jacket': 3995, 'multi': 4889, 'start': 6696, 'came': 1822, 'bed': 1470, 'coin': 2078, 'factori': 2911, 'gotta': 3373, 'nitro': 5046, 'ela': 2731, 'kanoil': 4124, 'download': 2604, 'wen': 7711, 'don': 2577, 'stand': 6689, 'close': 2044, 'you': 8042, 'll': 4401, 'anoth': 1179, 'night': 5026, 'spent': 6619, 'late': 4285, 'afternoon': 1038, 'casualti': 1880, 'mean': 4645, 'havent': 3532, 'stuff42moro': 6793, 'includ': 3850, 'sheet': 6322, 'smile': 6495, 'pleasur': 5550, 'troubl': 7298, 'pour': 5640, 'rain': 5846, 'sum1': 6832, 'hurt': 3768, 'becoz': 1468, 'someon': 6542, 'servic': 6281, 'repres': 5988, '0800': 48, '169': 391, '6031': 723, '10am9pm': 305, 'guarante': 3439, '5000': 684, 'plan': 5533, 'buy': 1766, 'lido': 4350, '530': 695, 'show': 6374, 'collect': 2087, 'simpli': 6411, 'password': 5410, 'mix': 4773, '85069': 854, 'verifi': 7526, 'usher': 7478, 'britney': 1700, 'fml': 3067, 'po': 5564, 'box': 1638, '5249': 692, 'mk17': 4776, '92h': 911, '450ppw': 637, 'telugu': 6998, 'moviewat': 4853, 'abt': 955, 'load': 4408, 'loan': 4409, 'wk': 7809, 'hol': 3655, 'forgot': 3097, 'hairdress': 3480, 'appoint': 1221, 'four': 3112, 'shower': 6375, 'beforehand': 1484, 'caus': 1885, 'prob': 5725, 'coffe': 2075, 'anim': 1167, 'noth': 5103, 'els': 2743, 'okay': 5216, 'price': 5703, 'long': 4431, 'legal': 4323, 'ave': 1342, 'am': 1132, 'gone': 3340, '4the': 671, 'drive': 2630, 'test': 7020, 'yet': 8027, 'your': 8059, 'guess': 3447, 'gave': 3234, 'boston': 1627, 'men': 4680, 'chang': 1918, 'locat': 4412, 'nyc': 5160, 'cuz': 2301, 'signin': 6401, 'page': 5354, 'umma': 7382, 'life': 4352, 'vava': 7514, 'lot': 4451, 'dear': 2374, 'wish': 7795, 'birthday': 1550, 'truli': 7306, 'memor': 4678, 'aight': 1071, 'hit': 3625, 'would': 7871, 'ip': 3934, 'address': 1000, 'consid': 2158, 'comput': 2131, 'isnt': 3955, 'minecraft': 4738, 'server': 6280, 'grumpi': 3432, 'old': 5232, 'better': 1520, 'lie': 4351, 'busi': 1759, 'plural': 5559, 'noun': 5113, 'research': 5993, 'dinnermsg': 2503, 'thing': 7090, 'scare': 6195, 'mah': 4564, 'loud': 4461, 'gent': 3262, 'contact': 2163, 'last': 4283, 'draw': 2615, '09064012160': 236, 'k52': 4103, '12hr': 335, '150ppm': 372, 'wa': 7602, 'openin': 5265, 'sentenc': 6269, 'formal': 3101, 'anyway': 1198, 'juz': 4102, 'tt': 7319, 'eatin': 2693, 'puttin': 5807, 'weighthaha': 7696, 'anythin': 1195, 'happen': 3502, 'enter': 2779, 'cabin': 1782, 'bday': 1457, 'boss': 1626, 'felt': 2977, 'askd': 1281, 'apart': 1201, 'went': 7714, 'holiday': 3661, 'flight': 3049, 'inc': 3846, '0871277810910pmin': 121, '18': 394, 'goodo': 3359, 'must': 4904, 'friday': 3154, 'eggpotato': 2720, 'ratio': 5872, 'tortilla': 7244, 'hmmmi': 3643, 'uncl': 7388, 'inform': 3876, 'school': 6201, 'directli': 2509, 'food': 3080, 'privat': 5717, '2004': 438, 'account': 974, 'statement': 6703, '07742676969': 30, '786': 786, 'unredeem': 7425, '08719180248': 169, 'identifi': 3803, '45239': 639, 'expir': 2885, '2000': 435, '5903': 700, 'landlin': 4265, '09064019788': 242, 'box42wr29c': 1650, 'applespairsal': 1217, 'malarki': 4577, 'voda': 7575, 'number': 5144, '7548': 781, '350': 566, 'match': 4620, '08712300220': 103, 'quot': 5834, '4041': 610, 'standard': 6690, 'rate': 5869, 'app': 1210, 'sao': 6157, 'mu': 4879, 'predict': 5671, 'üll': 8096, 'knowyetund': 4212, 'hasnt': 3519, 'sent': 6267, 'bother': 1629, 'involv': 3932, 'shouldnt': 6371, 'impos': 3839, 'apologis': 1209, 'del': 2412, 'bak': 1392, 'sum': 6831, 'lucyxx': 4505, 'kkhow': 4191, 'tmorrowpl': 7170, 'answer': 1181, 'question': 5823, 'sunshin': 6847, 'quiz': 5830, 'top': 7236, 'soni': 6561, 'dvd': 2670, 'player': 5541, 'countri': 2209, 'algarv': 1098, 'ansr': 1180, '82277': 825, 'sptyron': 6663, 'laid': 4257, 'dog': 2558, 'direct': 2508, 'join': 4060, 'largest': 4280, 'bt': 1722, 'txting': 7352, 'gravel': 3400, '69888': 749, 'nt': 5134, 'ec2a': 2695, '31pmsg150p': 557, 'haf': 3472, 'msn': 4873, 'yijuehotmailcom': 8033, 'befor': 1483, 'activ': 989, 'youll': 8053, 'chat': 1933, 'svc': 6878, 'hardcor': 3510, '69988': 753, 'age': 1045, 'yr': 8072, 'lazi': 4302, 'type': 7357, 'lect': 4318, 'pouch': 5638, 'sir': 6423, 'mail': 4567, 'swt': 6906, 'nver': 5154, 'tire': 7154, 'littl': 4395, 'lovabl': 4465, 'person': 5465, 'cozsomtim': 2221, 'occupi': 5180, 'biggest': 1536, 'heart': 3551, 'gud': 3441, 'ni8': 5014, 'open': 5264, 'ya': 7983, 'dot': 2595, 'what': 7732, 'staff': 6682, 'randi': 5860, 'sexi': 6288, 'femal': 2978, 'local': 4411, 'luv': 4514, 'netcollex': 4991, 'ltd': 4489, '08700621170150p': 73, 'ummmawil': 7383, 'inour': 3893, 'begin': 1488, 'qatar': 5811, 'pray': 5665, 'hard': 3509, 'ki': 4161, 'delet': 2414, 'sindu': 6416, 'birla': 1546, 'soft': 6530, 'wine': 7784, 'flow': 3059, 'thk': 7098, 'plaza': 5546, 'typic': 7359, 'everywher': 2846, 'dirt': 2511, 'floor': 3056, 'window': 7783, 'shirt': 6340, 'sometim': 6549, 'mouth': 4850, 'dream': 2618, 'without': 7803, 'chore': 2003, 'joy': 4077, 'tv': 7333, 'exist': 2875, 'hail': 3477, 'mist': 4765, 'becom': 1467, 'aaooooright': 935, 'leav': 4317, 'hous': 3708, 'interview': 3918, 'boy': 1655, 'mear': 4650, 'annonc': 1173, '07046744435': 21, 'arrang': 1261, '0871277810810': 120, 'keep': 4141, 'safe': 6128, 'envi': 2790, 'everyon': 2841, 'parentsi': 5389, 'hand': 3492, 'excit': 2867, 'spend': 6618, 'bootydeli': 1619, '32f': 562, 'yes434': 8013, 'no434': 5054, 'wwwsmsacubootydeli': 7937, '62468': 731, 'bangbab': 1406, 'order': 5288, 'content': 2165, 'goto': 3372, 'bangb': 1405, 'internetservic': 3917, 'menu': 4686, 'cultur': 2278, 'modul': 4804, '09061701939': 219, 's89': 6119, 'avoid': 1348, 'missunderstd': 4764, 'wit': 7799, 'belov': 1501, 'escap': 2808, 'fanci': 2934, 'bridg': 1686, 'lager': 4256, 'complet': 2123, 'formclark': 3104, 'also': 1124, 'utter': 7487, 'wast': 7649, 'axi': 1358, 'bank': 1408, 'hmmm': 3640, 'hop': 3687, 'muz': 4910, 'discuss': 2524, 'liao': 4343, 'bloodi': 1580, 'hell': 3567, 'believ': 1494, 'surnam': 6869, 'mr': 4857, 'clue': 2055, 'spanish': 6601, 'bath': 1431, 'goodfin': 3349, 'youv': 8066, 'carlo': 1862, 'mall': 4579, 'stay': 6706, 'til': 7140, 'smoke': 6499, 'worth': 7865, 'log': 4416, 'spoke': 6643, 'maneesha': 4588, 'wed': 7681, 'satisfi': 6172, 'experi': 2882, 'toll': 7202, 'lift': 4360, 'especi': 2811, 'approach': 1223, 'studi': 6788, 'gr8': 3382, 'trust': 7308, 'guy': 3458, 'greatby': 3408, 'handsom': 3495, 'toward': 7256, 'net': 4990, 'mummi': 4895, 'where': 7743, 'boytoy': 1659, 'haha': 3473, 'awesom': 1353, 'minut': 4748, 'freephon': 3141, '0808': 60, '145': 347, '4742': 643, '9am11pm': 922, 'xma': 7964, 'radio': 5840, 'ju': 4084, 'si': 6388, 'uniqu': 7412, '30th': 552, 'august': 1325, 'wwwareyouuniquecouk': 7908, 'leagu': 4311, 'touch': 7252, 'deal': 2370, 'cours': 2213, 'howev': 3716, 'suggest': 6827, 'abl': 948, 'or': 5280, 'everi': 2836, 'stool': 6742, 'settl': 6283, 'wishin': 7796, 'mrng': 4859, 'hav': 3526, 'stori': 6753, 'hamster': 3491, 'dead': 2368, 'tmr': 7171, '1pm': 420, 'orchard': 5287, 'mrt': 4860, 'kate': 4130, 'babyjontet': 1376, 'found': 3110, 'enc': 2760, 'buck': 1731, 'darlin': 2337, 'colleg': 2088, 'refil': 5940, 'success': 6814, 'inr': 3896, 'ltdecimalgt': 4490, 'keralacircl': 4150, 'prepaid': 5677, 'balanc': 1395, 'rs': 6091, 'transact': 7272, 'kr': 4225, 'goodmorn': 3353, 'sleep': 6459, 'ga': 3209, 'alter': 1126, 'dat': 2342, 'ericsson': 2796, 'oso': 5302, 'cannot': 1837, 'oredi': 5290, 'straight': 6757, 'dogg': 2560, 'connect': 2154, 'refund': 5945, 'bill': 1538, 'shoot': 6354, 'big': 1534, 'readi': 5890, 'bruv': 1717, 'break': 1676, 'semest': 6254, 'kkgoodstudi': 4190, 'noe': 5064, 'leh': 4325, 'sound': 6587, 'head': 3539, 'slept': 6466, 'past': 5412, 'easi': 2684, 'ahsen': 1066, 'exam': 2863, 'march': 4599, 'gt': 3436, 'atm': 1306, 'regist': 5950, 'os': 5300, 'ubandu': 7363, 'instal': 3903, 'diskyou': 2526, 'import': 3837, 'file': 2999, 'system': 6916, 'repair': 5979, 'shop': 6355, 'romant': 6071, 'nite': 5044, 'sceneri': 6198, '500': 683, '89545': 892, 'todayfrom': 7184, 'www4tcbiz': 7905, '2optout': 523, '08718726270150gbpmtmsg18': 154, 'appreci': 1222, 'partner': 5401, 'career': 1853, 'flyng': 3066, 'horo': 3695, 'star': 6692, 'sign': 6398, 'ari': 1248, 'compani': 2113, 'elama': 2734, 'mudyadhu': 4885, 'strict': 6769, 'teacher': 6977, 'bcoz': 1453, 'teach': 6976, 'conduct': 2142, 'gandhipuram': 3221, 'walk': 7622, 'cross': 2253, 'road': 6058, 'side': 6394, 'street': 6763, 'rubber': 6100, 'batteri': 1435, 'die': 2483, 'yesher': 8021, 'flirt': 3053, '10p': 307, 'sam': 6145, '25': 465, 'recdthirtyeight': 5909, 'penc': 5442, 'print': 5711, 'upstair': 7450, 'closer': 2047, 'youwhen': 8068, 'wil': 7773, 'theori': 7070, 'argument': 1247, 'lose': 4447, 'argu': 1246, 'kick': 4163, '447801259231': 628, 'secret': 6231, 'admir': 1007, 'ufind': 7366, 'rreveal': 6090, 'specialcal': 6609, '09058094597': 202, 'tomarrow': 7204, 'laptop': 4275, 'case': 1872, 'pleassssssseeeee': 5549, 'tel': 6991, 'avent': 1344, 'sportsx': 6651, 'shine': 6337, 'meant': 4648, 'although': 1128, 'told': 7197, 'baig': 1390, 'face': 2906, 'fr': 3118, 'thanx': 7044, 'everyth': 2843, 'uve': 7491, 'commerci': 2108, 'websit': 7679, 'slipper': 6471, 'kalli': 4116, 'bat': 1428, 'inning': 3890, 'goodnight': 3355, 'fix': 3033, 'wake': 7619, 'dearli': 2378, 'congratul': 2153, 'cd': 1892, 'voucher': 7585, '125gift': 332, 'music': 4903, '87066': 866, 'tnc': 7174, 'wwwldewcom1win150ppmx3age16': 7924, 'ranjith': 5865, 'cal': 1788, 'drpd': 2638, 'deeraj': 2403, 'deepak': 2400, '5min': 709, 'hold': 3657, 'bcum': 1455, 'angri': 1166, 'wid': 7764, 'dnt': 2546, 'coz': 2219, 'childish': 1981, 'true': 7303, 'deep': 2399, 'affect': 1027, 'care': 1851, 'kettoda': 4152, 'manda': 4584, 'doinghow': 2566, 'up': 7435, '3day': 582, 'ship': 6339, '2wk': 538, 'usp': 7483, 'lag': 4254, 'bribe': 1685, 'nipost': 5042, 'lemm': 4329, 'necessarili': 4970, 'expect': 2880, 'headin': 3541, 'mmm': 4780, 'jolt': 4068, 'suzi': 6877, 'lover': 4470, 'video': 7538, 'handset': 3494, '750': 779, 'anytim': 1197, 'min': 4730, 'unlimit': 7420, 'park': 5393, 'mini': 4739, 'disturb': 2533, 'luton': 4513, '0125698789': 5, 'ring': 6043, 'horni': 3693, 'nake': 4930, 'hot': 3702, '69698': 745, 'unsubscrib': 7432, 'dint': 2505, 'wana': 7634, 'sometm': 6551, 'club4mobilescom': 2054, 'choos': 2000, 'club': 2052, '87070': 867, '150pwk': 380, 'club4': 2053, 'box1146': 1639, 'mk45': 4777, '2wt': 539, 'evo': 2852, 'flash': 3041, 'jealou': 4026, 'singl': 6419, 'chart': 1930, 'qualiti': 5818, 'sort': 6581, 'narcot': 4942, 'sunni': 6843, 'ray': 5875, 'blue': 1587, 'bay': 1438, 'hmv': 3648, 'genuin': 3267, '86688': 863, 'infowww100percentrealcom': 3880, 'might': 4720, 'object': 5175, 'bf': 1526, 'rob': 6061, 'mack': 4546, 'gf': 3281, 'theater': 7058, 'celebr': 1898, 'full': 3190, 'swing': 6901, 'tool': 7229, 'definit': 2407, 'keepintouch': 4142, 'gdeve': 3248, 'far': 2937, 'oki': 5221, 'ahold': 1065, 'anybodi': 1188, 'throw': 7119, 'babi': 1373, 'cruisin': 2259, 'fone': 3078, 'jenni': 4033, 'ge': 3251, 'dearshal': 2383, 'tonitebusi': 7224, 'streetshal': 6764, 'toniteth': 7225, 'okvarunnathu': 5227, 'edukkukaye': 2706, 'raksha': 5855, 'ollubut': 5233, 'sens': 6263, 'gautham': 3233, 'stupid': 6797, 'cam': 1820, 'buzi': 1769, 'accident': 967, 'resend': 5994, 'tmobil': 7169, 'phone': 5492, 'upgrad': 7441, 'sim': 6407, 'card': 1848, 'loyalti': 4481, '0845': 67, '021': 14, '3680offer': 572, '28thfebtc': 483, 'unless': 7418, 'gurl': 3456, 'appropri': 1224, 'teas': 6981, 'plz': 5561, 'rose': 6077, 'grave': 3399, 'bslvyl': 1718, 'tomoc': 7208, 'somebodi': 6540, 'high': 3611, 'diesel': 2484, 'shit': 6341, 'shock': 6351, 'scari': 6196, 'imagin': 3826, 'def': 2404, 'somewher': 6553, 'taxi': 6961, 'fridg': 3156, 'meal': 4644, 'womdarful': 7829, 'actor': 991, 'blind': 1572, '4u': 675, 'rodds1': 6064, '21m': 451, 'aberdeen': 943, 'unit': 7414, 'kingdom': 4175, 'httpimg': 3732, 'acwicmb3cktz8r74': 993, 'hide': 3609, 'remb': 5967, 'book': 1612, 'jo': 4052, 'friendship': 3160, 'hang': 3496, 'thread': 7113, 'themob': 7064, 'newest': 5003, 'game': 3219, 'tone': 7215, 'gossip': 3366, 'sport': 6650, 'fit': 3030, 'funki': 3199, '82468': 828, 'garag': 3225, 'key': 4153, 'arent': 1241, 'bookshelf': 1615, 'accept': 964, 'dayu': 2364, 'sister': 6427, 'dear1': 2375, 'best1': 1513, 'clos1': 2043, 'lvblefrnd': 4520, 'jstfrnd': 4082, 'cutefrnd': 2297, 'lifpartnr': 4359, 'belovd': 1502, 'swtheart': 6907, 'bstfrnd': 1721, 'enemi': 2765, 'smart': 6486, '200': 434, 'weekli': 7692, '85222': 855, 'nowtc': 5130, 'winnersclub': 7787, '84': 844, 'm26': 4529, '3uz': 601, 'gbp150week': 3242, '2day': 492, 'normal': 5095, 'waythi': 7664, 'uniquei': 7413, 'rest': 6008, 'mylif': 4915, 'wot': 7867, 'lost': 4450, 'made': 4553, 'kkadvanc': 4184, 'pongal': 5603, 'kb': 4136, 'power': 5642, 'yoga': 8037, 'dunno': 2663, 'tahan': 6927, 'anot': 1178, 'lo': 4407, 'dude': 2654, 'afraid': 1033, 'decemb': 2390, '11mth': 321, '08002986906': 57, 'cake': 1786, 'merri': 4693, 'christma': 2008, 'kiss': 4180, 'cud': 2274, 'ppl': 5644, 'gona': 3339, 'l8': 4237, 'buse': 1757, 'gon': 3338, 'waitin': 7616, 'pete': 5472, 'guild': 3451, 'bristol': 1698, 'problem': 5727, 'dahow': 2316, 'track': 7263, 'record': 5922, 'read': 5888, 'women': 7830, 'light': 4361, 'kkapo': 4186, 'kgood': 4159, 'movi': 4852, 'return': 6021, 'immedi': 3832, 'germani': 3272, 'line': 4374, 'via': 7531, 'access': 965, '0844': 64, '861': 860, '85': 851, 'prepay': 5679, 'evapor': 2828, 'violat': 7555, 'privaci': 5716, 'steal': 6711, 'employ': 2755, 'paperwork': 5377, 'report': 5986, 'supervisor': 6853, 'valentin': 7500, 'lifetim': 4357, '83600': 842, '150pmsg': 365, 'rcvd': 5882, 'custcare08718720201': 2291, 'tadaaaaa': 6925, 'dine': 2499, 'sleepingand': 6462, 'surf': 6866, 'post': 5629, 'wiv': 7807, 'carolin': 1864, 'favourit': 2959, 'stranger': 6760, 'interest': 3912, 'two': 7345, 'round': 6079, 'gudnitetcpractic': 3445, 'yiju': 8032, 'huim': 3750, 'num': 5143, 'small': 6484, 'prestig': 5693, 'shag': 6302, 'dointerest': 2569, 'sextextukcom': 6290, 'xxuk': 7971, '69876': 748, 'jeremiah': 4035, 'iphon': 3938, 'apeshit': 1203, 'ever': 2835, 'misbehav': 4751, 'slap': 6457, 'urself': 7468, 'fault': 2951, 'basic': 1424, 'figur': 2998, 'alcohol': 1091, 'jay': 4018, 'weed': 7687, 'ish': 3950, 'ago': 1053, 'wtf': 7896, 'callingforgot': 1813, 'onam': 5239, 'sirjii': 6425, 'met': 4708, 'insur': 3908, 'personmeet': 5467, 'insha': 3898, 'allahrakhesh': 1109, 'ex': 2860, 'tata': 6955, 'aig': 1070, 'tisscotays': 7158, 'cashbal': 1874, 'current': 2286, 'maxim': 4635, 'cashin': 1876, 'cc': 1889, '08708800282': 95, 'hgsuite3422land': 3603, 'roww1j6hl': 6083, 'unemploy': 7402, 'moment': 4811, 'st': 6678, 'andrewsboy': 1163, 'cold': 2081, 'chikku': 1971, 'chikkudb': 1974, 'audrey': 1323, 'statu': 6705, 'forward': 3109, 'dawn': 2353, 'refresh': 5944, 'aliv': 1104, 'breath': 1680, 'air': 1073, 'updatenow': 7440, 'motorola': 4847, 'sonyericsson': 6563, 'bluetooth': 1588, 'orang': 5284, 'mobileupd8': 4796, '08000839402': 51, 'call2optoutf4q': 1797, 'discount': 2522, 'rp176781': 6086, 'wwwregalportfoliocouk': 7931, '08717205546': 142, 'uniform': 7410, 'geeee': 3253, 'woke': 7826, 'cuddl': 2275, 'spoil': 6641, 'agre': 1055, 'will': 7777, 'refer': 5937, 't91': 6917, 'gbp': 3241, '09057039994': 193, 'seen': 6242, 'mei': 4666, 'didt': 2482, 'recognis': 5921, 'lindsay': 4373, 'sigh': 6396, 'bar': 1412, 'ptbo': 5783, 'heron': 3595, 'payasam': 5424, 'rinu': 6050, 'bring': 1695, 'taught': 6958, 'becau': 1465, 'project': 5748, 'prabu': 5652, 'mistak': 4766, 'bodi': 1599, 'quit': 5828, 'slow': 6478, 'guid': 3449, 'ovul': 5336, 'relax': 5958, 'reason': 5902, 'followin': 3075, 'coupl': 2210, 'wallet': 7626, '945': 913, '6month': 761, 'call2optoutn9dx': 1802, 'owl': 5340, 'lick': 4349, 'mm': 4779, '4mth': 663, 'rental': 5977, 'mobilesdirect': 4794, '08000938767': 53, 'or2stoptxt': 5282, 'huh': 3748, 'sat': 6168, 'intro': 3923, 'pilat': 5513, 'kickbox': 4164, 'offic': 5195, 'lap': 4273, 'shut': 6387, 'bout': 1634, '730ish': 775, 'calcul': 1789, 'monthnot': 4829, 'period': 5458, 'actual': 992, 'rock': 6063, 'put': 5806, 'pictur': 5506, 'ass': 1286, 'facebook': 2908, 'al': 1085, 'salam': 6136, 'wahleykkumshar': 7612, 'newsbi': 5007, 'grace': 3386, 'god': 3322, 'tayseertissco': 6965, 'joinedhop': 4061, 'fineinshah': 3012, 'allahmeet': 1108, 'sometimerakheshvisitor': 6550, 'india': 3862, 'hmmmkbut': 3644, 'field': 2989, 'quickli': 5826, 'dai': 2317, 'administr': 1006, '87131': 870, 'poli': 5592, '2814032': 479, '1st': 422, '3x': 604, '150pw': 379, 'nd': 4961, 'chechi': 1941, 'cream': 2237, 'none': 5082, 'yep': 8010, 'loxahatche': 4479, 'tree': 7288, 'stoner': 6741, 'slightli': 6469, 'disastr': 2518, 'pm': 5562, 'fav': 2954, 'wld': 7817, 'drink': 2627, 'busetop': 1758, 'messagesom': 4703, 'sendernam': 6260, 'sentdat': 6268, 'fullonsmscom': 3191, 'iron': 3944, 'yan': 7990, 'jiu': 4050, 'skip': 6449, 'den': 2424, 'blah': 1561, 'wendi': 7712, '09064012103': 235, 'box334sk38ch': 1645, 'whatsup': 7734, 'goal': 3319, '250': 466, 'competit': 2118, '80086': 808, 'wwwtxttowincouk': 7951, 'logo': 4418, 'name1': 4934, 'name2': 4935, 'mobno': 4797, 'adam': 995, 'eve': 2829, '07123456789': 26, 'yahoo': 7986, 'pobox36504w45wq': 5573, 'txtno': 7354, 'ad': 994, '150p': 357, 'yesfrom': 8018, '09111032124': 287, 'pobox12n146tf150p': 5570, 'siva': 6434, 'hostel': 3700, 'aha': 1058, '09058094455': 197, 'land': 4264, '3030': 549, 'voic': 7578, 'express': 2893, '1childish': 405, '2naughti': 517, '3sentiment': 597, '4rowdi': 667, '5ful': 703, 'attitud': 1314, '6romant': 764, '7shi': 798, '8attract': 897, '9funni': 924, 'irrit': 3945, 'shell': 6325, 'aathiwher': 937, 'urin': 7464, 'esplanad': 2813, 'mind': 4733, 'wnt': 7822, 'bmw': 1594, 'urgentlyit': 7459, 'vri': 7589, 'urgentbut': 7458, 'hv': 3773, 'shortag': 6363, 'lacsther': 4250, 'sourc': 6590, 'arng': 1254, 'amt': 1152, 'lacsthat': 4249, 'fifteen': 2993, 'fuck': 3182, 'respond': 6006, '3650': 569, '09066382422': 266, '3min': 591, 'vari': 7508, '300603': 546, 'bcm4284': 1451, 'ldn': 4304, 'wc1n3xx': 7667, 'hillsborough': 3616, 'th': 7035, 'askin': 1282, 'dollar': 2573, 'shoul': 6368, 'iouri': 3933, 'ten': 7004, 'applebe': 1216, 'txtjourney': 7353, 'gdnow': 3249, '50': 682, 'yesh': 8020, 'greatbhaji': 3407, 'cricket': 2247, 'sachin': 6121, 'worldveri': 7857, 'tough': 7253, 'suppos': 6861, 'oic': 5212, 'tot': 7249, 'din': 2498, 'group': 3425, 'wereth': 7720, 'monkeespeopl': 4819, 'monkeyaround': 4821, 'howdi': 3715, 'gorgeou': 3364, 'howu': 3718, 'doin': 2564, 'foundurself': 3111, 'jobyet': 4055, 'sausagelov': 6181, 'jen': 4031, 'blimey': 1571, 'exercis': 2871, 'kinda': 4172, 'hmm': 3638, 'concentr': 2136, '10': 290, 'hank': 3499, 'lotsli': 4454, 'kkwhat': 4195, 'detail': 2452, 'transferacc': 7275, 'optimist': 5276, 'improv': 3843, 'purpos': 5801, '75000': 780, 'homeown': 3670, 'tenant': 7005, 'welcom': 7704, 'previous': 5701, 'refus': 5947, '1956669': 403, 'oreo': 5291, 'truffl': 7305, 'ami': 1138, 'ure': 7455, 'beauti': 1462, 'intellig': 3909, 'woman': 7828, 'result': 6016, 'consist': 2159, 'kind': 4171, 'practicum': 5655, 'ear': 2676, 'ttyl': 7320, '120': 323, 'bad': 1383, 'thru': 7122, 'differ': 2487, 'feelingwav': 2973, 'decis': 2393, 'cope': 2184, 'individualtim': 3867, 'heal': 3544, 'upgrdcentr': 7442, '0207': 8, '153': 386, '9153': 909, '26th': 475, 'juli': 4089, 'optout': 5279, 'bye': 1779, 'railway': 5845, 'princess': 5710, 'oral': 5283, 'doggi': 2561, 'style': 6799, 'fave': 2955, 'posit': 5625, 'enjoy': 2773, 'slipperi': 6472, 'bike': 1537, 'mani': 4591, 'languag': 4270, 'okmail': 5222, 'dave': 2350, 'notic': 5106, 'tenerif': 7007, '09061743806': 222, 'sae': 6126, 'box326': 1643, 'cw25wx': 2302, 'scream': 6214, 'remov': 5973, 'flat': 3042, 'transfer': 7274, 'differb': 2488, '9ja': 925, 'moan': 4789, '69888nyt': 750, 'broken': 1705, 'cum': 2279, 'infront': 3882, 'wise': 7794, '9t': 927, 'aathilov': 936, 'tension': 7009, 'ahwhat': 1068, 'machiani': 4543, '8th': 905, 'whenr': 7741, 'mcr': 4643, 'sec': 6228, 'tast': 6953, 'fb': 2960, 'jaykwon': 4020, 'thuglyf': 7126, 'falconerf': 2925, 'term': 7011, 'condit': 2140, 'visit': 7564, 'www07781482378com': 7904, 'depend': 2432, 'fade': 2912, 'glori': 3307, 'ralph': 5857, 'dri': 2626, 'trade': 7265, 'sorryin': 6580, 'reunion': 6022, 'nowcan': 5120, 'meh': 4665, 'nope': 5089, 'monday': 4813, 'accentur': 963, 'jackson': 3997, 'rec': 5907, 'center': 1901, '7ish': 793, 'fight': 2996, 'either': 2729, 'fightng': 2997, 'some1': 6539, 'dificult': 2491, 'nuerologist': 5142, 'lolnic': 4425, 'fish': 3027, 'water': 7655, '123': 328, '1450': 348, '09050002311': 186, 'b4280703': 1364, 'tcsstop': 6973, '08718727868': 159, 'bore': 1621, 'outsid': 5324, 'westshor': 7726, 'hyde': 3778, 'villag': 7553, 'near': 4963, 'anthoni': 1185, 'fee': 2968, 'rent': 5976, 'signific': 6400, 'opinion': 5267, 'jada': 3999, 'kusruthi': 4232, 'silent': 6404, 'spl': 6633, 'charact': 1923, 'matur': 4631, 'stylish': 6800, 'simpl': 6409, 'gs': 3433, 'scroung': 6217, 'ammo': 1142, 'ak': 1082, 'prabhaim': 5651, 'sorydarealyfrm': 6584, 'sori': 6575, 'forgiven': 3096, 'nojst': 5072, 'tat': 6954, '40gb': 613, 'ipod': 3939, 'mp3': 4855, '83355': 838, 'ibhltd': 3784, 'ldnw15h': 4305, '150pmtmsgrcvd18': 370, 'sno': 6516, 'boltblu': 1605, 'mono': 4823, 'poly3': 5597, 'cha': 1909, 'slide': 6468, 'jamz': 4007, 'toxic': 7260, 'httpwwwbubbletextcom': 3735, 'renew': 5975, 'pin': 5518, 'tgxxrz': 7034, 'transport': 7277, 'less': 4335, 'problemat': 5728, 'no': 5051, 'unconsci': 7392, 'children': 1983, 'adult': 1017, 'behav': 1491, 'abnorm': 949, 'ebay': 2694, 'elsewher': 2744, 'shall': 6308, 'pickl': 5504, 'taco': 6922, 'rude': 6101, 'campu': 1826, '020903': 13, 'attempt': 1310, '08718729755': 161, 'box95qu': 1653, '85023': 853, 'savamob': 6182, 'member': 4675, 'cs': 2261, '08717898035': 148, '300': 544, 'sub': 6802, 'unsub': 7431, 'pretti': 5697, 'ladi': 4252, 'reciev': 5919, 'within': 7802, '24hr': 462, 'channel': 1919, 'teletext': 6993, 'pg': 5479, 'doublefaggot': 2597, '2003': 437, '07815296484': 40, '800': 803, '08718738001': 165, '41782': 617, '181104': 396, 'todaysundaysunday': 7187, 'holidayso': 3662, 'l8r': 4239, 'malaria': 4576, 'bani': 1407, 'lead': 4307, 'passion': 5407, 'across': 984, 'sea': 6224, 'probabl': 5726, 'lt': 4487, 'fat': 2946, 'finger': 3015, 'button': 1765, 'ummmmmaah': 7384, 'tirupur': 7157, 'wwwapplausestorecom': 7907, 'monthlysubscription50pmsg': 4828, 'max6month': 4634, 'tcsc': 6972, 'web': 7674, 'age16': 1046, '2stop': 529, 'famou': 2932, 'develop': 2457, 'abil': 945, 'listen': 4389, 'uncondit': 7391, 'temper': 7002, 'self': 6248, 'confid': 2145, 'marri': 4608, 'oclock': 5183, 'mine': 4736, 'bash': 1423, 'recoveri': 5924, 'rather': 5871, 'coop': 2181, 'hotel': 3703, 'cali': 1790, 'english': 2772, 'bloke': 1575, 'weddin': 7682, 'omw': 5238, 'btw': 1728, 'alibi': 1103, 'sink': 6420, 'pace': 5349, 'cage': 1785, 'cock': 2070, 'surround': 6872, 'remind': 5972, 'own': 5341, 'cuck': 2273, 'hurri': 3766, 'weeddefici': 7688, 'three': 7115, 'acknowledg': 980, 'astoundingli': 1295, 'tactless': 6924, 'gener': 3260, 'faggi': 2913, 'demand': 2423, 'blood': 1578, 'oath': 5171, 'fo': 3070, 'warm': 7641, 'milk': 4725, 'magic': 4562, 'loos': 4441, 'weight': 7695, 'pan': 5363, 'it': 3958, 'cheap': 1938, 'perhap': 5456, 'silli': 6405, 'isn': 3954, 'uv': 7490, 'mutat': 4909, 'sunscreen': 6846, 'essenti': 2815, 'theseday': 7079, 'lunchyou': 4510, 'onlinewhi': 5249, 'pic': 5502, 'aiyo': 1080, 'fast': 2942, 'workin': 7851, 'bao': 1411, 'sugardad': 6826, 'ahge': 1060, 'meim': 4667, 'browni': 1711, 'geeeee': 3254, 'bare': 1415, '2mrw': 515, 'ninish': 5040, 'icki': 3795, 'american': 1137, 'freek': 3134, 'callin': 1812, 'oooh': 5260, 'ridden': 6036, 'ey': 2900, 'gym': 3462, 'whatev': 7733, 'daddi': 2312, 'dick': 2475, 'missi': 4758, 'yar': 7991, 'mum': 4892, 'sch': 6199, 'clean': 2034, 'lab': 4245, 'goggl': 3328, 'door': 2589, 'call09050000327': 1794, '09050005321': 188, 'arngd': 1255, 'marriag': 4609, 'walkin': 7624, 'unfortuntli': 7406, 'snake': 6509, 'bite': 1554, 'danc': 2324, 'frnt': 3170, 'sayin': 6189, 'izzit': 3991, 'textand': 7026, '08002988890': 58, 'exwif': 2899, 'kid': 4166, 'jjc': 4051, 'tendenc': 7006, 'headach': 3540, 'jazz': 4022, 'yogasana': 8038, 'em': 2746, 'meiv': 4668, 'hardli': 3513, 'gotani': 3370, 'srsli': 6673, 'yi': 8030, 'spree': 6658, '80878': 818, 'tsc': 7314, 'wwwtxt2shopcom': 7948, 'custcar': 2290, '08715705022': 139, '1x150pwk': 431, '08712402050': 108, '10ppm': 309, 'ag': 1041, 'promo': 5753, '07753741225': 31, '08715203677': 134, '42478': 621, '241004': 460, 'grand': 3391, 'prix': 5718, 'nitz': 5048, 'announc': 1174, '542': 698, '0825': 63, 'exhaust': 2873, 'train': 7268, 'pie': 5508, 'present': 5686, 'ar': 1233, 'blastin': 1566, 'tsunami': 7318, 'occur': 5181, 'rajnik': 5853, 'swim': 6899, 'indian': 3863, 'oceand': 5182, 'noon': 5086, 'xclusiveclubsaisai': 7962, '2morow': 510, '285': 480, 'soire': 6533, 'zouk': 8094, 'nichol': 5019, 'parisfre': 5391, '0794674629107880867867': 44, 'bridgwat': 1687, 'banter': 1410, 'neva': 4996, 'imma': 3831, 'somethin': 6548, '22': 453, 'euro2004': 2824, 'daili': 2318, '83222': 835, 'que': 5820, 'suit': 6828, 'bestrpli': 1515, 'thanx4': 7045, 'cer': 1904, 'often': 5205, 'soonc': 6566, 'himthen': 3618, 'futur': 3203, 'hundr': 3754, 'aunti': 1327, 'shuhui': 6385, 'leona': 4333, 'reaction': 5887, 'famili': 2929, 'snow': 6519, 'weather': 7673, 'togeth': 7190, 'grow': 3426, 'dismay': 2528, 'alex': 1096, 'concern': 2137, 'pub': 5785, 'bud': 1732, 'offici': 5200, 'paid': 5356, 'market': 4605, 'tootsi': 7235, 'pop': 5613, 'longer': 4432, 'darren': 2339, 'textbuddi': 7028, 'area': 1240, '25p': 470, 'postcod': 5632, 'gaytextbuddycom': 3238, '89693': 894, 'vodafon': 7576, '4882': 645, '09064019014': 241, 'seventeen': 6285, 'seven': 6284, 'ml': 4778, 'holder': 3658, 'pc': 5431, 'httpwwwetlpcoukexpressoff': 3736, 'apply2': 1220, '80062': 805, 'funni': 3200, 'sweetheart': 6895, 'biola': 1544, 'login': 4417, 'dad': 2311, 'fetch': 2981, 'restock': 6010, 'thanksgiv': 7041, 'effect': 2712, 'brighten': 1690, 'wee': 7686, 'thursday': 7128, 'allo': 1112, 'brave': 1670, 'taken': 6934, 'triumph': 7296, 'we': 7668, 'ham': 3489, 'jolli': 4067, 'cartoon': 1871, 'templ': 7003, 'church': 2013, 'uncomfort': 7390, '08715203694': 136, '40533': 612, '311004': 556, 'email': 2747, 'rstm': 6094, 'sw7': 6879, '3ss': 598, 'gentl': 3263, 'sonetim': 6559, 'rough': 6078, 'panic': 5367, 'tuesday': 7322, 'wesley': 7721, 'town': 7257, 'bet': 1516, 'hella': 3568, 'drug': 2639, 'dealer': 2371, 'impati': 3835, 'sun': 6838, 'earth': 2682, 'cloud': 2050, 'river': 6056, 'evng': 2851, 'wikipediacom': 7772, '88800': 882, '89034': 887, 'premium': 5676, '08718711108': 149, 'lay': 4300, 'envelop': 2789, 'paper': 5376, 'repent': 5981, 'de': 2367, 'prepar': 5678, 'kama': 4118, 'sutra': 6875, 'en': 2758, 'nang': 4939, 'bakra': 1393, 'kalstiyathen': 4117, 'teacoffe': 6978, 'carlosl': 1863, 'lakh': 4259, 'ho': 3650, 'belli': 1498, 'laugh': 4293, 'sun0819': 6839, 'helloy': 3574, '20': 433, 'opt': 5275, '08452810071': 69, 'ditto': 2535, 'peac': 5433, 'knw': 4213, 'wetherspoon': 7728, 'piggi': 5512, 'awak': 1350, 'freaki': 3127, 'yell': 8005, 'scrappi': 6212, 'lone': 4429, 'hex': 3600, 'explain': 2888, 'sdryb8i': 6222, 'xy': 7981, 'sue': 6820, 'lapdanc': 4274, 'sex': 6287, 'bedroom': 1475, '89555': 893, 'textoper': 7031, 'g2': 3207, '1da': 407, '150ppmsg': 374, 'king': 4174, 'build': 1740, 'map': 4595, 'imprtant': 3844, 'tomorw': 7213, 'dearm': 2380, 'cherthalain': 1959, 'cochin': 2069, 'bfore': 1528, 'starti': 6698, 'accordinglyor': 973, 'comingtmorow': 2105, 'engag': 2768, 'an': 1155, 'torch': 7242, 'bold': 1602, '448712404000pleas': 630, '08712404000': 113, 'farm': 2938, '4d': 651, '1405': 345, '1680': 390, '1843': 397, 'law': 4298, 'purchas': 5797, 'poop': 5609, 'gpu': 3381, 'entrepreneur': 2784, 'corpor': 2188, 'gap': 3224, 'ku': 4229, 'prevent': 5698, 'dehydr': 2411, 'fluid': 3061, 'weird': 7698, 'idea': 3800, 'deari': 2377, 'soso': 6585, 'smsd': 6503, 'away': 1352, 'trek': 7289, 'harri': 3517, 'drivin': 2632, 'fantast': 2936, 'ngage': 5012, 'deck': 2394, 'wwwcnupdatescomnewslett': 7915, 'alert': 1093, 'height': 3564, 'aeronaut': 1023, 'professor': 5743, 'wer': 7716, 'calld': 1807, 'sit': 6428, 'aeroplan': 1024, 'aftr': 1040, 'ws': 7893, 'student': 6785, 'dey': 2461, 'saidif': 6133, 'studentsthi': 6787, 'datz': 2348, 'shitstorm': 6346, 'attribut': 1317, '08714712388': 125, '10am7pm': 304, 'stress': 6765, 'dorm': 2590, 'sell': 6252, '449071512431': 632, 'uu': 7488, '1250': 331, '09071512433': 271, 'b4': 1362, '050703': 15, 'tcsbcm4235wc1n3xx': 6971, 'callcost': 1805, 'mobilesvari': 4795, 'max': 4632, 'sth': 6725, 'spec': 6607, 'px3748': 5810, '08714712394': 126, 'macha': 4541, 'upseti': 7448, 'assum': 1291, 'mindsetbeliev': 4735, 'uslet': 7479, 'againcal': 1042, 'sfine': 6295, 'wondar': 7831, 'flim': 3050, 'cooki': 2178, 'jelli': 4030, 'stillmayb': 6732, 'sameso': 6149, 'itor': 3976, 'admiti': 1010, 'madthen': 4557, 'correctionor': 2191, 'lifeand': 4353, 'worldmay': 7856, 'runninglet': 6111, 'scrumptiou': 6218, 'ba': 1366, 'dao': 2330, 'half8th': 3484, 'exactli': 2862, 'jide': 4049, 'alertfrom': 1094, 'jeri': 4036, 'stewarts': 6723, '2kbsubject': 507, 'lowcost': 4477, 'prescripiton': 5683, 'drvgsto': 2645, 'spring': 6659, 'yay': 7996, 'steak': 6710, 'convincingjust': 2176, 'twice': 7339, 'neglect': 4982, 'itjust': 3968, 'tonit': 7223, 'opportunityal': 5271, 'fastpl': 2945, 'add': 996, 'prayer': 5666, 'dearrakhesh': 2381, 'offerth': 5194, 'nokia6650': 5077, 'txtauction': 7349, '81151': 820, '4tctxt': 669, '150pmtmsg': 369, 'rite': 6054, 'gd': 3247, 'faster': 2943, 'gal': 3213, 'attach': 1308, 'glad': 3301, 'hadnt': 3470, 'clock': 2042, 'shout': 6372, 'realis': 5895, 'wahay': 7609, 'shorter': 6365, 'gaze': 3239, 'eye': 2901, '930': 912, 'subscrib': 6807, '82324': 827, 'helplin': 3581, '08706091795': 88, 'weve': 7729, 'spoken': 6644, 'gist': 3296, '40': 606, 'thousand': 7111, 'tattoo': 6956, 'premier': 5675, 'gimm': 3289, 'lip': 4385, 'caveboy': 1887, 'librari': 4348, 'reali': 5894, 'sorryi': 6579, 'confus': 2151, 'holla': 3663, 'anyon': 1191, 'spare': 6602, 'faith': 2919, 'possiblehop': 5628, 'worklov': 7852, 'beautifulmay': 1463, 'christmasmerri': 2009, 'youcarlo': 8044, 'isar': 3948, 'vibrat': 7533, 'act': 986, 'pari': 5390, '79': 789, '08704439680tsc': 87, 'grandma': 3393, 'hungov': 3756, 'unclaim': 7389, '09066368327': 262, 'closingdate040902': 2048, 'claimcod': 2024, 'm39m51': 4531, '150pmmorefrommobile2bremovedmobypobox734ls27yf': 364, 'gua': 3437, 'mt': 4875, 'faber': 2905, 'yest': 8025, 'ma': 4535, 'advanc': 1018, 'citi': 2018, 'summer': 6834, 'store': 6751, '88039': 875, 'skilgm': 6442, 'tscs087147403231winawkage16': 7316, '150perwksub': 360, 'goin': 3330, 'meetin': 4662, 'ti': 7130, 'theyr': 7085, 'dramat': 2613, 'appar': 1211, 'anywher': 1199, 'damn': 2321, 'hunt': 3765, 'drunkard': 2643, 'idc': 3798, 'weasel': 7672, 'row': 6082, 'space': 6596, 'trash': 7278, 'beg': 1486, 'sing': 6417, 'slave': 6458, 'punish': 5793, 'beerag': 1481, '0578': 16, 'randomlli': 5863, 'couldnt': 2205, 'she': 6321, 'diff': 2486, 'perfect': 5453, 'commun': 2111, '100psm': 297, 'polyphon': 5601, '087018728737': 81, 'toppoli': 7240, 'tune': 7328, 'subpoli': 6806, '81618': 822, 'pole': 5591, '08718727870': 160, 'fondli': 3077, 'bein': 1493, 'thot': 7106, 'ywhere': 8082, 'dogbreath': 2559, 'jan': 4008, 'omg': 5237, 'weigh': 7694, 'woohoo': 7838, 'uncount': 7394, 'dictionari': 2477, 'piec': 5509, '9996': 919, '14thmarch': 350, 'availa': 1336, 'petey': 5475, 'wherear': 7744, 'friendsar': 3159, 'thekingshead': 7062, 'canlov': 1835, 'nic': 5016, 'pobox84': 5577, 'm263uz': 4530, 'appt': 1227, 'lttimegt': 4494, 'no1': 5052, '8077': 817, 'mate': 4621, 'wwwgetzedcouk': 7921, '36504': 570, 'w45wq': 7600, 'norm150pton': 5094, 'cashto': 1877, '08000407165': 49, 'getstop': 3278, '88222': 879, 'php': 5498, 'rg21': 6028, '4jx': 660, 'dled': 2543, '3d': 581, 'imp': 3834, 'aint': 1072, 'smokin': 6500, 'boooo': 1616, 'bec': 1464, 'ugh': 7368, 'ssnervou': 6677, 'costum': 2198, 'gift': 3286, 'yowif': 8070, 'hint': 3619, 'borrow': 1625, 'bag': 1387, 'outbid': 5314, 'simonwatson5120': 6408, 'shinco': 6335, 'plyr': 5560, 'bid': 1533, 'acsmsreward': 985, 'notif': 5107, 'model': 4801, 'youi': 8050, 'galileo': 3215, 'dobbi': 2548, 'boo': 1610, 'enjoyin': 2774, 'yourjob': 8061, 'gettin': 3279, 'hunnyhop': 3761, 'oktak': 5225, 'llspeak': 4402, '2u': 532, 'soonlot': 6568, 'lovem': 4469, 'xxxx': 7975, 'starshin': 6695, 'ach': 976, 'sip': 6421, 'cappuccino': 1845, 'smsservic': 6505, 'yourinclus': 8060, 'wwwcomuknet': 7916, '3qxj9': 595, 'extra': 2896, '08702840625comuk': 85, '220cm2': 454, '9ae': 920, 'alfi': 1097, 'moon': 4831, 'm8': 4533, 'chariti': 1926, '8007': 806, 'zed': 8087, '08701417012': 76, 'profit': 5745, 'hahahaus': 3474, 'brain': 1663, 'green': 3412, 'burial': 1752, 'mojibiola': 4807, 'reveal': 6023, '09065174042': 247, 'recd': 5908, 'cust': 2289, '07821230901': 41, 'rv': 6114, 'haven': 3531, 'roadsrvx': 6059, 'skype': 6453, 'kz': 4236, 'sura': 6864, 'given': 3299, 'ultimatum': 7380, 'countin': 2207, 'aburo': 957, 'five': 3032, '08002888812': 55, 'inconsider': 3853, 'nag': 4925, 'recess': 5916, 'henc': 3584, 'voucherstext': 7586, 'nowsavamobmemb': 5126, 'soo': 6564, 'understand': 7397, '2morrow': 512, 'comprehens': 2128, 'prashanthettan': 5664, 'mother': 4842, '09066350750': 252, 'ibiza': 3785, '10000': 293, 'await': 1349, '434': 624, 'sk3': 6438, '8wp': 906, 'ppm': 5647, 'kkwhen': 4196, 'meanwhil': 4649, 'xavier': 7960, 'warn': 7642, 'samantha': 6147, 'guitar': 3453, 'impress': 3842, 'doug': 2601, 'stomach': 6738, 'trauma': 7279, 'swear': 6890, 'officewhat': 5199, 'mattermsg': 4629, 'nowi': 5121, 'shoe': 6352, 'wan': 7632, 'inner': 3889, 'tigress': 7137, 'version': 7527, 'poor': 5610, 'babyhop': 1375, 'urfeel': 7456, 'bettersn': 1521, 'probthat': 5734, 'overdos': 5331, 'spk': 6632, 'sn': 6508, 'lovejen': 4468, 'fall': 2926, 'discreet': 2523, 'vip': 7558, '83110': 833, 'hai': 3476, 'ana': 1156, 'sathi': 6170, 'rto': 6097, 'spoon': 6648, 'tampa': 6945, 'geniu': 3261, 'whenev': 7739, 'lotta': 4456, 'corvett': 2194, 'suppli': 6856, 'virgin': 7560, 'mysteri': 4919, '09061104283': 211, 'wwwsmsconet': 7942, 'approx': 1226, 'wall': 7625, 'bunker': 1748, 'matter': 4628, '07808': 37, 'xxxxxx': 7977, '08719899217': 174, '41685': 616, '071104': 25, 'posh': 5623, 'bird': 1545, 'chap': 1920, 'user': 7475, 'trial': 7292, 'prod': 5739, 'champney': 1916, 'dob': 2547, 'asap': 1272, '0721072': 27, 'philosoph': 5488, 'hole': 3659, 'goodno': 3357, 'problembut': 5729, 'drop': 2636, 'nap': 4941, 'atleast': 1305, 'otherwis': 5305, 'shakespear': 6307, 'shesil': 6328, '10k': 306, '5k': 708, 'travel': 7281, '09064011000': 234, 'ntt': 5137, 'cr01327bt': 2224, 'fixedlin': 3035, 'castor': 1879, 'liverpool': 4398, 'mid': 4717, '09058094565': 199, '09065171142stopsms08': 245, 'httpdoit': 3730, 'mymobi': 4916, 'knew': 4203, 'woul': 7870, 'curfew': 2284, 'gibe': 3285, 'midnight': 4719, 'getsleep': 3277, 'studdi': 6784, 'massag': 4614, 'oil': 5213, 'sup': 6849, 'yoyyooo': 8071, 'permiss': 5461, 'mac': 4539, 'usb': 7470, 'gibb': 3284, 'unsoldmik': 7428, 'hussey': 3770, 'fail': 2915, 'sad': 6125, 'unbeliev': 7387, 'faglord': 2914, 'wifehow': 7769, 'murder': 4900, 'nutter': 5153, 'cutter': 2300, 'ctter': 2270, 'cttergg': 2271, 'cttargg': 2269, 'ctargg': 2266, 'ctagg': 2265, 'ie': 3808, 'thu': 7125, 'superb': 6851, 'grate': 3398, 'opportun': 5270, 'happier': 3506, 'agent': 1050, 'due': 2656, 'sever': 6286, 'outstand': 5326, 'invoic': 3931, 'possibl': 5627, 'smell': 6492, 'tobacco': 7177, 'derek': 2437, 'taylor': 6964, 'worst': 7864, 'charl': 1927, 'lastest': 4284, 'stereophon': 6718, 'marley': 4606, 'dizze': 2541, 'racal': 5837, 'libertin': 4347, 'stroke': 6774, 'nookii': 5085, 'bookmark': 1614, 'plu': 5555, 'grinul': 3418, 'greet': 3414, 'white': 7753, 'fudg': 3185, 'januari': 4012, 'male': 4578, 'sale': 6138, 'gay': 3235, 'cheaper': 1939, '08709222922': 96, '15pmin': 388, '78pmin': 788, 'peak': 5435, '08712460324': 116, '10pmin': 308, 'zaher': 8084, 'ym': 8034, 'nauseou': 4956, 'piss': 5523, 'pig': 5511, 'diet': 2485, 'chip': 1994, 'iam': 3782, 'addict': 999, 'msging': 4865, 'wrong': 7889, 'photo': 5496, 'yck': 7997, 'ashley': 1276, 'avalarr': 1339, 'hollalat': 3664, 'attend': 1312, 'todaybut': 7182, 'websitenow': 7680, 'blog': 1574, 'magicalsongsblogspotcom': 4563, 'chikkuil': 1976, 'ate': 1300, 'kvb': 4233, 'acc': 961, '88600': 881, '1million': 415, 'ppt150x3normal': 5649, 'box403': 1648, 'w1t1ji': 7598, 'fridayhop': 3155, 'alternativehop': 1127, 'ore': 5289, 'mo': 4788, 'owo': 5343, 'fro': 3171, 'wherev': 7746, 'samu': 6150, 'shoulder': 6369, 'matthew': 4630, '09063440451': 230, '4lux': 661, 'ppm150': 5648, 'box334': 1644, 'sk38xh': 6439, 'wear': 7671, 'jean': 4027, 'fever': 2982, 'vomitin': 7583, 'kkare': 4187, '09061749602': 226, '528': 694, 'hp20': 3722, '1yf': 432, 'stuf': 6791, 'bleh': 1568, 'least': 4314, 'writh': 7882, 'ton': 7214, 'paypal': 5430, 'voila': 7580, 'pocket': 5582, 'medic': 4656, 'folk': 3073, '150psm': 376, 'sorta': 6582, 'blown': 1585, 'score': 6206, 'sopha': 6573, 'secondari': 6230, 'applic': 1219, 'ogunrind': 5207, 'expens': 2881, '08718720201': 150, '11414': 315, 'tcrw1': 6970, 'lodg': 4415, 'chk': 1996, 'ms': 4862, 'dict': 2476, 'shb': 6319, 'truth': 7309, 'graviti': 3402, 'heavi': 3558, 'bowl': 1637, 'filthi': 3003, 'ull': 7378, 'brand': 1667, 'simpler': 6410, 'welp': 7710, 'retir': 6019, 'natwest': 4954, '09050001808': 185, 'm95': 4534, 'valid12hr': 7502, 'chad': 1911, 'gymnast': 3463, 'site': 6429, 'christian': 2007, 'backa': 1380, 'necklac': 4972, 'token': 7195, 'youthat': 8063, 'wife': 7767, 'likingb': 4367, 'seeno': 6243, 'thatdont': 7051, 'aptitud': 1231, '215': 449, 'hors': 3697, 'race': 5838, 'earlier': 2678, 'chicken': 1968, 'rice': 6033, 'wrongli': 7890, 'crap': 2231, 'borin': 1622, 'boggi': 1600, 'biatch': 1532, 'nxt': 5158, 'il': 3818, 'hesit': 3599, 'notebook': 5102, 'salari': 6137, 'chocol': 1998, 'daysh': 2359, 'potenti': 5636, 'talent': 6937, 'reckon': 5920, 'eightish': 2727, 'carpark': 1866, '3g': 584, 'videophon': 7541, '09063458130': 232, 'videochat': 7539, 'java': 4017, 'dload': 2545, 'polyph': 5600, 'nolin': 5078, 'rentl': 5978, 'fuckin': 3183, 'yun': 8076, 'ahth': 1067, 'ubi': 7364, 'tomorrowcal': 7211, '67441233': 739, 'ireneer': 3942, 'bus822656166382': 1756, 'cresubi': 2244, 'tech': 6982, 'park6ph': 5394, '5wkg': 719, 'daysèn': 2362, 'sd': 6220, 'butt': 1763, 'sore': 6574, '7am': 790, 'parti': 5397, '5ish': 707, 'stripe': 6773, 'skirt': 6450, 'miracl': 4749, 'jesu': 4041, 'escal': 2807, 'yetund': 8029, 'quiet': 5827, 'beth': 1518, 'aunt': 1326, 'charli': 1928, 'helen': 3566, 'nobut': 5063, 'heard': 3549, 'syllabu': 6909, 'panason': 5365, 'bluetoothhdset': 1589, 'doublemin': 2598, 'doubletxt': 2599, 'contract': 2168, '730pm': 776, 'poyyarikaturkolathupalayamunjalur': 5643, 'posterod': 5633, 'heroi': 3594, 'apt': 1230, 'opportunitypl': 5272, 'ltemailgt': 4492, 'kerala': 4149, 'terribl': 7015, 'fan': 2933, 'meat': 4652, 'suprem': 6862, 'toldsh': 7198, 'dearregret': 2382, 'cudnt': 2276, 'calldrov': 1808, 'frm': 3163, 'ctla': 2268, 'homeleft': 3668, 'carent': 1856, 'ishtamayoohappi': 3951, 'bakrid': 1394, 'exe': 2869, 'knowwait': 4211, 'gloriou': 3308, 'anniversari': 1172, 'prey': 5702, 'coax': 2066, 'imag': 3825, 'fond': 3076, 'souveni': 6593, 'cougarpen': 2200, 'secretli': 6233, '09065394514': 248, 'datebox1282essexcm61xn': 2345, '150pmin': 363, 'pattern': 5419, 'throat': 7118, 'scratch': 6213, 'plm': 5552, 'asleep': 1284, 'foreign': 3090, 'stamp': 6688, 'lectur': 4319, 'sheffield': 6323, 'nanni': 4940, 'rais': 5847, 'zoe': 8091, 'shitin': 6343, 'defo': 2409, 'hardest': 3512, 'million': 4728, 'lekdog': 4328, 'fill': 3000, 'loverboy': 4472, 'blanket': 1565, 'suffici': 6822, 'thx': 7129, 'nyt': 5162, 'edison': 2702, 'rightli': 6040, 'fool': 3081, 'speechless': 6613, 'viva': 7569, 'gmgngegnt': 3311, 'atten': 1311, 'roast': 6060, '09058097218': 207, 'ls15hb': 4484, 'educ': 2705, 'doesn': 2556, 'seriou': 6277, 'kickoff': 4165, 'euro': 2823, 'june': 4094, '3rd': 596, 'data': 2343, 'analysi': 1158, 'thesi': 7081, 'belliger': 1499, 'hiya': 3632, 'april': 1228, 'le': 4306, 'rudi': 6102, 'snoringthey': 6518, 'drunk': 2642, 'ink': 3886, '515': 689, 'howr': 3717, 'eastend': 2689, 'flower': 3060, 'compar': 2115, 'violet': 7557, 'tulip': 7326, 'lili': 4369, '84025': 845, 'wkent150p16': 7811, 'technic': 6983, 'support': 6858, 'processnetwork': 5738, 'daysso': 2360, 'finalis': 3006, 'visitne': 7565, 'wwwflirtpartyu': 7918, 'replys150': 5985, 'bitch': 1553, 'dentist': 2430, '09058091854': 194, 'box385': 1646, 'm6': 4532, '6wu': 767, '09050003091': 187, 'c52': 1780, 'xchat': 7961, 'lul': 4507, 'juici': 4087, 'nurs': 5148, 'obes': 5173, 'oyea': 5345, 'oi': 5211, 'parchi': 5385, 'na': 4922, 'kicchu': 4162, 'kaaj': 4106, 'kort': 4222, 'iccha': 3791, 'korch': 4219, 'tul': 7325, 'sculptur': 6219, 'convey': 2174, 'regard': 5949, 'surya': 6874, 'vijay': 7546, 'pokkiri': 5590, 'dearer': 2376, 'dem': 2422, 'attractioni': 1316, 'mesh': 4695, 'thoughtsi': 7110, 'hersh': 3596, 'dreamlov': 2619, 'namemi': 4936, 'hermi': 3592, 'heri': 3590, 'herwil': 3598, 'sorrowsi': 6578, 'craziest': 2235, 'herlov': 3591, 'proov': 5759, 'planeti': 5536, 'prais': 5657, 'curri': 2287, 'maki': 4574, 'sambarlif': 6148, 'thenwil': 7068, 'lotwil': 4458, 'frndship': 3166, 'needl': 4978, 'evn': 2850, 'meetitz': 4663, '4few': 653, 'alwi': 1131, 'conect': 2143, 'spatula': 6605, 'sipix': 6422, 'digit': 2493, '09061221061': 214, '28day': 481, 'box177': 1641, 'm221bp': 4527, '2yr': 542, 'warranti': 7644, '399': 578, '09061790121': 227, 'doctor': 2551, 'complex': 2124, 'freeli': 3135, 'tax': 6960, 'outrag': 5322, 'tomorro': 7209, 'ryder': 6116, 'unsoldnow': 7429, 'receipt': 5910, 'elvi': 2745, 'presley': 5688, 'fret': 3152, 'strip': 6772, 'postal': 5630, 'addressul': 1001, 'alrightokay': 1121, 'cliff': 2040, 'ne': 4962, 'wrking': 7886, 'uni': 7408, 'depress': 2434, 'sittin': 6432, 'wind': 7781, 'black': 1556, 'aiyah': 1078, 'o2': 5168, 'onto': 5255, 'httpwwwurawinnercom': 3739, 'surpris': 6870, 'hen': 3583, 'onlin': 5248, 'italian': 3959, 'grin': 3416, 'math': 4622, 'sfirst': 6296, 'timedhoni': 7144, 'teju': 6990, 'hourish': 3707, 'nothi': 5104, 'groundamla': 3424, 'durban': 2665, 'conveni': 2171, 'evalu': 2827, '449050000301': 631, '09050000301': 178, 'speed': 6614, 'speedchat': 6615, '80155': 810, 'swap': 6884, 'chatter': 1937, 'chat80155': 1934, 'rcd': 5879, 'cancel': 1832, 'cheyyamoand': 1963, '08000776320': 50, 'okok': 5223, 'okthenwhat': 5226, 'aiyar': 1079, 'survey': 6873, '80160': 811, 'wwwtxt43com': 7949, 'who': 7755, 'gayd': 3236, 'hmv1': 3649, 'error': 2800, 'difficulti': 2490, 'howz': 3720, 'painhop': 5358, 'tau': 6957, 'sar': 6159, 'piah': 5501, '1stchoicecouk': 424, '08707808226': 93, 'oha': 5209, 'film': 3001, 'hgsuite3422landsroww1j6hl': 3604, 'shade': 6300, 'notifi': 5108, 'luck': 4499, '84122': 846, '08450542832': 68, 'station': 6704, 'tank': 6946, '4fil': 654, 'sexual': 6291, 'cute': 2296, '69911': 751, 'sitter': 6431, 'kaitlyn': 4111, 'danger': 2329, 'peep': 5438, 'comment': 2107, 'veggi': 7519, 'neighbor': 4984, 'computerless': 2132, 'balloon': 1398, 'passthey': 5409, 'ntswt': 5136, 'drm': 2634, 'wrc': 7877, 'ralli': 5856, 'oz': 5347, 'lucozad': 4503, 'energi': 2766, '61200': 727, 'lucozadecoukwrc': 4504, 'itcould': 3962, 'melodi': 4673, 'horribl': 3696, 'toot': 7233, 'bigger': 1535, 'nw': 5157, 'hme': 3637, 'island': 3952, 'chennai': 1954, 'velacheri': 7521, 'flippin': 3052, 'cstore': 2264, 'annoy': 1175, 'hangin': 3498, 'makin': 4575, 'alivebett': 1105, 'shame': 6309, 'quizz': 5833, 'popcorn': 5614, 'jordan': 4072, 'celeb': 1896, 'pocketbabecouk': 5583, '3wk': 603, '087016248': 79, 'voicemail': 7579, '08719181503': 171, 'thin': 7089, 'faultal': 2952, 'faultf': 2953, 'himso': 3617, '2go': 500, 'thanxxx': 7046, 'neft': 4980, 'beneficiari': 1507, 'natuit': 4952, 'choic': 1999, 'wwwldewcomsubs161win150ppmx3': 7926, 'semi': 6255, 'deliv': 2417, 'exp': 2879, '30apr': 550, 'strong': 6775, 'arm': 1251, 'maaaan': 4536, 'guessin': 3448, 'walmart': 7629, 'ilol': 3822, 'wuldnt': 7902, 'mite': 4769, 'creepi': 2243, 'lunchtim': 4509, 'organis': 5293, '08719181513': 172, 'kkim': 4192, 'finewhen': 3014, 'passabl': 5406, 'phd': 5485, '5year': 721, 'easier': 2685, 'nok': 5073, '87021': 865, 'txtin': 7351, '150ptone': 378, '4info': 659, 'prakesh': 5660, 'rofl': 6066, 'betta': 1519, 'invest': 3927, 'anti': 1186, 'product': 5740, '1hr': 411, 'delay': 2413, 'accommod': 968, 'variou': 7509, 'global': 3306, 'wwwphb1com': 7930, 'ph08700435505150p': 5481, 'submit': 6805, '84128': 847, 'wwwtextcompcom': 7945, '08712405020': 114, '1s': 421, 'snatch': 6512, 'purs': 5802, 'hellodrivby0quit': 3570, 'edrunk': 2704, 'iff': 3809, 'pthi': 5784, 'senrddnot': 6262, 'dancc': 2325, 'drum': 2641, 'basqihav': 1427, '2nhite': 519, 'ro': 6057, 'xxxxxxx': 7978, 'reliev': 5961, 'westonzoyland': 7725, 'europ': 2826, 'nobodi': 5062, 'chines': 1991, 'doc': 2549, 'havin': 3534, 'goin2b': 3331, 'only1mor': 5251, 'mc': 4640, 'hun': 3753, '2nitetel': 522, 'every1': 2837, 'ava': 1334, 'goodtimeoli': 3360, 'rang': 5864, 'melnit': 4672, 'ifink': 3810, 'sortedbut': 6583, 'everythin': 2844, 'monl8rsx': 4822, '08712402779': 110, 'flip': 3051, 'shun': 6386, 'bian': 1531, 'glass': 3304, 'exhibit': 2874, 'el': 2730, 'nino': 5041, 'chikkugo': 1975, 'cbe': 1888, 'honey': 3676, 'jd': 4024, 'execut': 2870, 'parent': 5387, 'downstem': 2606, '08718730555': 163, 'wahala': 7608, 'inperialmus': 3894, 'listening2th': 4390, 'weirdest': 7699, 'by': 1777, 'leafcutt': 4309, 'john': 4059, 'insect': 3897, 'molestedsomeon': 4809, 'plumbingremix': 5558, 'evil': 2849, 'acid': 979, 'didntgiv': 2481, 'bellearli': 1497, 'hunnyjust': 3762, 'bedbut': 1471, 'thepub': 7072, 'l8tr': 4240, 'uwana': 7492, 'upload': 7444, 'jenxxx': 4034, 'exact': 2861, '09096102316': 280, '2moro': 509, 'jane': 4010, 'calls': 1815, '1minmoremobsemspobox45po139wa': 418, 'tee': 6985, 'cheeri': 1949, 'cell': 1899, 'tht': 7124, 'dough': 2602, 'control': 2170, '80488biz': 815, 'weirdo': 7701, 'mode': 4800, 'stalk': 6687, 'profil': 5744, 'jerri': 4038, 'drinkin': 2628, 'other': 5304, 'heygreat': 3602, 'dealfarm': 2372, 'tour': 7255, '9am': 921, '5pm': 713, '95pax': 915, 'deposit': 2433, 'jap': 4014, 'disappear': 2515, 'birthdat': 1549, 'certif': 1908, 'publish': 5788, 'nydc': 5161, 'wheellock': 7737, 'destin': 2450, 'fifti': 2995, 'favour': 2958, 'happenin': 3504, 'ola': 5228, 'cocksuck': 2071, 'ipad': 3936, 'worthless': 7866, 'garbag': 3226, 'novelti': 5114, 'item': 3963, 'tshirt': 7317, 'fran': 3120, 'broke': 1704, 'knacker': 4201, 'janx': 4013, 'ps': 5774, 'design': 2443, 'softwar': 6531, 'jamster': 4004, 'videosound': 7542, 'gold': 3333, 'videosounds2': 7543, 'logosmusicnew': 4422, 'jamstercouk': 4005, '16onli': 392, '09701213186': 288, 'lion': 4382, 'lionm': 4383, 'lionp': 4384, 'wwwringtonescouk': 7933, 'origin': 5296, '3gbp': 585, 'jokin': 4066, 'spirit': 6629, 'bb': 1439, 'shatter': 6317, 'alrit': 1122, 'idiot': 3804, 'girli': 3295, 'darker': 2334, 'whenevr': 7740, 'gray': 3403, 'remembr': 5970, 'listn': 4391, 'watevr': 7657, 'whileamp': 7750, 'potter': 5637, 'phoenix': 5491, 'among': 1144, 'reader': 5889, 'shd': 6320, 'minu': 4747, 'paragraph': 5382, 'coveragd': 2218, 'vasai': 7511, '4o': 664, 'retard': 6018, 'bathroom': 1432, 'sang': 6153, 'uptown': 7452, '80': 802, 'februari': 2966, 'rush': 6113, 'icic': 3793, 'syria': 6914, 'canada': 1829, 'heartsnot': 3554, 'goodnoon': 3358, 'gaug': 3232, 'patti': 5420, 'mondaynxt': 4814, 'vl': 7573, 'ax': 1357, 'chill': 1985, '6hr': 758, 'surgic': 6867, 'emerg': 2751, 'unfold': 7404, 'fren': 3147, 'korean': 4220, 'fredericksburg': 3128, 'pase': 5404, 'un': 7385, 'buen': 1735, 'tiempo': 7133, 'chillin': 1987, 'super': 6850, 'free2day': 3130, 'georg': 3269, 'jordantxt': 4073, '89080': 889, 'sauci': 6180, 'celeb4': 1897, '0870241182716': 82, 'tmrw': 7172, 'compass': 2116, 'soul': 6586, 'worldgnun': 7855, 'way2smscom': 7663, 'baaaaab': 1369, 'misss': 4762, 'youuuuu': 8065, 'ned': 4973, 'witot': 7805, 'main': 4570, 'sweeti': 6896, 'blackberri': 1558, 'buyer': 1767, 'melik': 4670, '4a': 648, 'pple': 5645, 'becz': 1469, 'undrstndng': 7401, 'chain': 1912, 'suffer': 6821, 'whn': 7754, 'arrest': 1262, 'suntec': 6848, 'steamboat': 6713, 'moji': 4806, 'forgiv': 3095, 'messeng': 4706, 'tp': 7262, 'fantasi': 2935, '08707509020': 91, '20p': 445, '1327': 341, 'croydon': 2255, 'cr9': 2225, '5wb': 717, '0870k': 98, 'bbq': 1445, '6ish': 759, 'everyso': 2842, 'panick': 5368, 'outhav': 5319, 'write': 7881, '3cover': 580, 'screen': 6215, '4press': 666, '5gentli': 705, 'bear': 1460, 'nick': 5020, 'tom': 7203, 'fact': 2910, '08718730666': 164, 'huai': 3742, 'juan': 4085, 'linerent': 4376, 'call2optoutlf56': 1801, 'tlk': 7166, 'ideal': 3801, 'path': 5415, 'appear': 1213, 'front': 3176, 'shot': 6367, 'reserv': 5996, 'thirunelvali': 7096, 'tirunelvali': 7156, 'evei': 2831, 'netno': 4994, 'availablei': 1337, 'tackl': 6921, 'storm': 6754, 'phne': 5490, 'wt': 7894, 'margaret': 4601, 'girlfrnd': 3294, 'grahmbel': 3388, 'invnt': 3930, 'telphon': 6997, 'moralon': 4834, '4get': 655, 'tonght': 7220, 'plough': 5553, 'pile': 5514, 'chinki': 1992, 'wi': 7760, 'nz': 5166, 'unsold': 7427, 'geelat': 3255, 'aust': 1328, 'bk': 1555, 'cafe': 1784, 'recharg': 5917, 'papa': 5375, 'shld': 6349, 'stretch': 6767, 'sinco': 6415, 'paye': 5426, 'icicibankcom': 3794, 'urn': 7467, 'bewar': 1524, 'fraud': 3125, 'share': 6316, 'disclos': 2520, 'vote': 7584, 'loser': 4448, 'kaiez': 4109, 'tuition': 7324, 'gee': 3252, 'option': 5278, 'beta': 1517, 'practic': 5654, 'kkani': 4185, 'noncomitt': 5081, 'beneath': 1506, 'pale': 5361, 'goodnit': 3356, '150pmsgrcvdhgsuite3422landsroww1j6hl': 367, 'snicker': 6515, 'total': 7250, 'chord': 2002, 'nofew': 5065, 'beforew': 1485, 'rem': 5965, 'silver': 6406, 'lmao': 4404, 'silenc': 6403, 'wwwldewcom': 7923, 'win150ppmx3age16': 7780, 'revis': 6026, 'boyf': 1656, 'interviw': 3919, 'exet': 2872, 'worriedx': 7860, 'spreadsheet': 6657, 'whose': 7758, 'determin': 2454, 'entir': 2782, 'arsen': 1265, 'dartboard': 2340, 'trebl': 7287, 'coat': 2065, 'everybodi': 2838, 'alon': 1115, 'intrepid': 3922, 'duo': 2664, 'sen': 6257, 'missin': 4759, 'guilti': 3452, 'aiya': 1077, 'cardiff': 1849, 'addi': 998, 'tue': 7321, 'breez': 1683, 'bright': 1689, 'fresh': 3150, 'twitter': 7344, 'yago': 7984, 'restaur': 6009, 'textpod': 7032, 'pod': 5584, 'wwwtextpodnet': 7946, 'duck': 2653, 'chinchilla': 1990, 'function': 3194, 'headstart': 3543, '230ish': 457, 'desper': 2447, 'earlierw': 2679, 'rummer': 6108, 'fli': 3048, 'monkey': 4820, 'certainli': 1907, 'optin': 5277, 'bbc': 1440, 'thanks2': 7040, 'rajini': 5850, 'stupidit': 6798, 'help08714742804': 3579, 'spi': 6620, 'clair': 2025, '2nite': 521, '09099725823': 281, 'bought': 1632, 'yalru': 7988, 'lyfu': 4522, 'astn': 1294, 'innu': 3892, 'mundh': 4897, 'lyf': 4521, 'ali': 1101, 'halla': 3486, 'ke': 4139, 'bilo': 1541, 'marriageprogram': 4610, 'edha': 2701, 'ovr': 5335, 'chikkuali': 1972, 'vargu': 7507, 'meow': 4688, 'meowd': 4689, 'twelv': 7337, 'aah': 933, '09066362231': 258, '07xxxxxxxxx': 47, '020603': 7, 'prone': 5757, '07801543489': 36, 'wordcollect': 7844, 'no83355': 5058, 'tcllc': 6969, 'nyusa': 5165, '150pmt': 368, 'msgrcvd18': 4866, 'luci': 4498, 'hubbi': 3743, 'cumin': 2280, '09099726395': 282, '1minmobsmorelkpobox177hp51fl': 417, '7th': 799, '6th': 765, '5th': 716, '4th': 670, 'natur': 4953, 'dose': 2593, 'tablet': 6920, 'incomm': 3852, 'blake': 1562, 'waitshould': 7617, 'lotr': 4453, 'googl': 3362, 'browsin': 1714, 'compulsori': 2130, 'puriti': 5799, 'messageit': 4699, 'musthu': 4906, 'investig': 3928, '80488': 814, 'www80488biz': 7906, 'vomit': 7582, 'moneya': 4817, 'youmoney': 8055, 'thinghow': 7091, 'sha': 6299, 'vitamin': 7568, 'centr': 1902, 'crucial': 2256, 'jsco': 4080, '2channel': 491, 'leadership': 4308, 'skill': 6443, 'psychic': 5780, 'wquestion': 7876, 'hostbas': 3699, 'idp': 3806, 'linux': 4381, '0870': 72, 'dawhat': 2351, 'convert': 2173, 'along': 1116, 'karaok': 4127, 'sayi': 6188, 'except': 2865, 'nit': 5043, 'petei': 5473, 'leannewhat': 4312, 'eight': 2725, 'format': 3103, 'disc': 2519, 'internet': 3916, 'champ': 1914, 'glasgow': 3303, 'kall': 4115, 'bestcongrat': 1514, 'lovin': 4473, 'arriv': 1263, 'shortli': 6366, 'brows': 1712, 'artist': 1268, 'corect': 2186, 'spele': 6616, 'sarcasm': 6162, '10803': 302, '08714719523': 129, 'forum': 3108, 'ron': 6073, 'hict': 3607, 'employe': 2756, 'nike': 5035, 'sooo': 6570, 'dang': 2328, 'unfortun': 7405, 'airport': 1075, '7250i': 773, 'auction': 1319, '86021': 859, 'roww1jhl': 6084, 'difficult': 2489, 'earliest': 2680, 'nordstrom': 5092, 'konw': 4218, 'waht': 7613, 'rael': 5841, 'gving': 3460, 'yuo': 8078, 'exmpel': 2876, 'jsut': 4083, 'ese': 2809, 'tih': 7138, 'evrey': 2855, 'splle': 6639, 'wrnog': 7888, 'sitll': 6430, 'ra': 5836, 'wihtuot': 7771, 'ayn': 1360, 'mitsak': 4770, 'sleepsweet': 6464, 'confer': 2144, 'wwworangecoukow': 7929, 'degre': 2410, 'financ': 3007, 'prospect': 5766, 'bleak': 1567, 'shant': 6314, 'jia': 4047, 'bishan': 1551, 'nearer': 4965, 'sux': 6876, 'raiden': 5844, 'buff': 1736, 'south': 6591, 'prefer': 5672, 'kegger': 4143, 'tote': 7251, 'pierr': 5510, 'cardin': 1850, 'rhythm': 6032, 'establish': 2816, 'truro': 7307, 'ext': 2894, 'gang': 3223, 'adventur': 1019, 'worryus': 7862, 'cloth': 2049, 'packalso': 5352, 'sunroof': 6845, 'excel': 2864, 'wifi': 7770, 'blank': 1564, 'noi': 5067, 'rumour': 6109, 'kalainar': 4113, 'officethenampet': 5197, '7250': 772, 'nosi': 5100, 'idk': 3805, 'react': 5886, 'freak': 3126, 'satan': 6169, 'impost': 3841, 'mene': 4681, 'priceso': 5704, 'itmay': 3973, 'destini': 2451, 'companion': 2114, 'chef': 1953, 'organ': 5292, 'boyfriend': 1657, 'sympathet': 6911, 'athlet': 1301, 'courag': 2212, 'psychologist': 5781, 'pest': 5471, 'extermin': 2895, 'psychiatrist': 5779, 'healer': 3545, 'stylist': 6801, 'driver': 2631, 'aaniy': 934, 'pudunga': 5789, 'venaam': 7524, 'brotha': 1708, 'chase': 1931, 'chez': 1964, 'jule': 4088, 'hhahhaahahah': 3605, 'nig': 5023, 'leonardo': 4334, 'lt3': 4488, '2year': 541, 'strain': 6758, 'dime': 2496, 'withdraw': 7800, 'anyhow': 1189, 'smeon': 6493, 'miller': 4727, 'fire': 3020, 'spark': 6603, 'flame': 3040, 'rawr': 5874, 'xoxo': 7966, 'somewhr': 6555, 'crush': 2260, 'honeymoon': 3679, 'outfit': 5316, 'propos': 5764, '08719899230': 176, 'blame': 1563, 'chequ': 1957, 'olymp': 5236, 'leo': 4332, 'kthen': 4227, 'donew': 2580, 'haul': 3524, 'wildlif': 7776, 'want2com': 7638, 'that2worzel': 7049, 'wizzl': 7808, 'dippeditinadew': 2507, 'lovingli': 4474, 'itwhichturnedinto': 3982, 'tomeandsaidthi': 7206, 'shanghai': 6312, 'instead': 3906, 'cya': 2303, 'freez': 3145, '645': 735, 'rtking': 6095, 'pro': 5724, 'inforingtonekingcouk': 3875, '08701237397': 75, 'redeem': 5929, 'wwwringtonekingcouk': 7932, 'thnx': 7103, 'sef': 6244, 'anji': 1168, 'batch': 1429, 'fring': 3162, 'flaki': 3039, 'sooooo': 6572, 'tooo': 7231, 'nte': 5135, '09058094599': 203, 'wate': 7654, 'british': 1699, 'london': 4428, '02072069400': 10, 'bx': 1773, '526': 693, 'sw73ss': 6880, '6pm': 762, 'buzz': 1770, 'ador': 1011, 'eeri': 2710, 'titl': 7159, 'dracula': 2610, 'ghost': 3283, 'addamsfa': 997, 'munster': 4898, 'exorcist': 2878, 'twilight': 7341, 'brought': 1710, 'shini': 6338, 'constant': 2161, 'wasnt': 7648, 'french': 3148, '0anetwork': 289, 'allow': 1113, 'respons': 6007, 'supplier': 6857, 'comedyc': 2098, 'freemsgfeelin': 3139, 'lnli': 4406, 'jst': 4081, 'mobi': 4792, 'pictxt': 5507, '82242': 824, 'msg150p': 4864, '2rcv': 528, 'hlp': 3635, '08712317606': 105, 'keen': 4140, 'switch': 6903, 'dammit': 2320, 'wright': 7880, 'somewhat': 6552, 'event': 2833, 'laden': 4251, 'wreck': 7878, 'spontan': 6646, 'goodeven': 3348, 'bagi': 1388, 'lei': 4327, 'action': 988, '80608': 816, 'wwwmovietriviatv': 7927, '08712405022': 115, 'sif': 6395, 'partnership': 5402, 'rgent': 6030, 'lookin': 4437, 'daytim': 2363, 'busti': 1760, '09099726429': 283, 'janinexx': 4011, 'mostli': 4841, 'insid': 3900, 'spageddi': 6598, 'phase': 5484, 'fourth': 3113, 'dimens': 2497, 'yesbut': 8017, 'meaning': 4646, 'compromis': 2129, 'mornin': 4836, 'lmaonic': 4405, '09050001295': 184, 'a21': 930, 'monthli': 4827, 'mobsicom': 4798, '391784': 577, 'dub': 2650, 'je': 4025, 'toughest': 7254, 'unspoken': 7430, 'sight': 6397, 'remain': 5966, 'maintain': 4571, 'shja': 6348, 'squat': 6666, 'cramp': 2230, '0089mi': 1, '09063442151': 231, 'ringtoneget': 6048, 'freesend': 3144, '816183': 823, 'weekstop': 7693, 'sms08718727870': 6502, 'nan': 4938, 'sonathaya': 6558, 'soladha': 6535, 'rape': 5867, 'poker': 5589, 'weightloss': 7697, 'mushi': 4902, 'embarrass': 2749, 'stash': 6701, 'ran': 5859, 'priya': 5719, '81303': 821, 'father': 2948, 'messi': 4707, 'kilo': 4169, 'accid': 966, 'tookplac': 7228, 'ghodbandar': 3282, 'rd': 5883, 'traffic': 7267, 'slove': 6477, 'slip': 6470, 'ahnow': 1064, 'wkg': 7812, 'wherebtw': 7745, 'nu': 5139, 'sc': 6191, 'specialis': 6610, 'wad': 7605, 'dislik': 2527, 'queen': 5821, 'despar': 2446, 'gotten': 3374, 'stereo': 6717, 'mi': 4714, 'unknown': 7417, 'album': 1089, '121': 326, '60pmin': 726, '09094646899': 278, 'vu': 7593, 'bcm1896wc1n3xx': 1450, 'classmat': 2031, 'firesar': 3023, '2007': 441, 'prebook': 5670, 'trackmarqu': 7264, 'infovipclub4u': 3879, 'missionari': 4761, 'hook': 3685, 'entertain': 2780, 'hugh': 3747, 'lauri': 4295, 'stick': 6727, 'inde': 3860, 'prap': 5661, 'jon': 4069, 'bin': 1543, 'spain': 6599, 'dinero': 2500, '12000pe': 324, '48': 644, 'jame': 4003, 'hunnywot': 3763, 'bedroomlov': 1476, 'maangalyam': 4537, 'alaipayuth': 1087, 'complain': 2120, 'mandi': 4587, 'sullivan': 6830, 'hotmix': 3704, 'fmyou': 3068, 'chosen': 2004, '500000': 685, 'easter': 2690, 'drawpleas': 2616, 'telephon': 6992, '09041940223': 177, '290305': 484, 'finn': 3019, 'bahama': 1389, 'callfreefon': 1811, '08081560665': 62, 'cruis': 2258, 'of': 5187, '18onli': 399, '07786200117': 33, 'calm': 1819, 'downon': 2605, 'theacus': 7057, 'itxt': 3983, 'iwana': 3988, 'wotu': 7868, 'thewend': 7083, 'haventcn': 3533, 'agesr': 1051, 'up4': 7436, 'neth': 4993, 'satlov': 6174, 'conact': 2135, 'youto': 8064, '09111030116': 286, 'pobox12n146tf15': 5569, 'vtire': 7592, 'social': 6528, 'inspect': 3901, 'nurseri': 5149, 'detailsi': 2453, 'youmi': 8054, 'slowli': 6480, 'habit': 3468, 'itmail': 3972, 'panren': 5369, 'paru': 5403, 'chuckin': 2012, 'trainner': 7269, 'carryin': 1868, 'bac': 1378, 'schedul': 6200, 'gooddhanush': 3346, 'stuck': 6783, 'chikkusimpl': 1978, 'habbahw': 3467, 'dileepthank': 2495, 'muchand': 4881, 'supportveri': 6860, 'hererememb': 3588, 'venugop': 7525, 'mentionedtomorrow': 4684, 'latei': 4287, 'theregoodnight': 7075, 'everytim': 2845, 'mandan': 4585, '07734396839': 29, 'ibh': 3783, 'nokia6600': 5076, 'txtauctiontxt': 7350, 'wordstart': 7847, 'no81151': 5057, 'now4t': 5117, '3230': 559, 'textbook': 7027, 'algorithm': 1100, 'edit': 2703, 'bun': 1745, 'invad': 3925, 'orig': 5295, 'arcad': 1236, 'consol': 2160, 'o2coukgam': 5169, '09064018838': 240, 'cro1327': 2251, 'atlanta': 1303, 'creat': 2238, 'yessura': 8024, 'tvlol': 7335, 'arun': 1270, 'transfr': 7276, 'takin': 6936, 'philosophi': 5489, '4ui': 676, 'didn': 2479, 'intend': 3910, 'iwasmarinethat': 3989, 'itried2tel': 3978, 'urmomi': 7466, 'careabout': 1852, 'foley': 3072, 'wwwwin82050couk': 7952, 'fake': 2921, 'iraq': 3941, 'afghanistan': 1032, 'stabl': 6680, 'honest': 3673, 'blessget': 1570, '1225': 327, '50award': 687, '3100': 554, 'pai': 5355, 'seh': 6245, 'beer': 1480, 'combin': 2095, 'walsal': 7630, 'terri': 7014, 'jess': 4040, 'sian': 6389, 'ccna': 1891, 'shrek': 6379, '3db': 583, 'dirti': 2512, 'fellow': 2976, 'teresa': 7010, 'packag': 5351, 'dec': 2388, 'yould': 8052, 'bam': 1399, 'usml': 7480, 'squishi': 6670, 'mwah': 4912, 'hottest': 3705, 'g696ga': 3208, 'promin': 5751, 'cheek': 1947, 'septemb': 6274, 'husband': 3769, 'hack': 3469, 'backdoor': 1381, 'fraction': 3119, 'neo69': 4987, '09050280520': 190, 'dp': 2608, 'bcm': 1449, '8027': 813, 'norm': 5093, '415': 615, 'list': 4388, 'joanna': 4053, 'comingdown': 2104, 'dagood': 2314, 'replac': 5982, 'murali': 4899, 'playerwhi': 5542, 'engalnd': 2769, 'telli': 6995, 'mia': 4715, 'elliot': 2741, 'upto': 7451, '12mth': 336, '12price': 337, 'xnet': 7965, 'mins100txtmth': 4743, 'btooth': 1727, '08001950382': 54, '2optoutd3wv': 524, 'wiproy': 7791, 'matric': 4626, '850': 852, 'toa': 7175, 'payoh': 5429, '650': 737, '08718726970': 155, 'btnationalr': 1726, 'payment': 5428, 'fedex': 2967, 'kyou': 4235, 'recept': 5915, 'godi': 3323, 'youclean': 8045, 'bloodsend': 1581, 'itplspl': 3977, 'hate': 3522, 'consensu': 2155, 'tag': 6926, 'wednesday': 7685, 'laundri': 4294, 'underwear': 7399, 'bra': 1661, 'strewn': 6768, 'pillow': 5515, 'wahe': 7610, 'fathima': 2949, 'mmmm': 4781, 'push': 5803, 'knee': 4202, 'expos': 2892, 'pull': 5790, 'wick': 7761, 'sh': 6298, 'readyal': 5891, 'srt': 6674, 'thnk': 7101, 'ps3': 5775, 'jontin': 4071, 'prizeto': 5723, 'nearli': 4966, 'ban': 1401, 'pen': 5441, 'beyond': 1525, 'biro': 1547, 'master': 4617, '09058094594': 201, 'unhappi': 7407, 'excus': 2868, 'jog': 4058, '0776xxxxxxx': 32, '18yr': 401, '09061743811': 224, 'abta': 956, '326': 561, 'season': 6226, 'lark': 4281, '09090900040': 275, 'extrem': 2898, 'sic': 6391, '60p': 725, '247mp': 461, '0870753331018': 92, 'videop': 7540, 'wild': 7774, '150prcvd': 375, 'stop2stop': 6745, 'uh': 7370, 'lim': 4370, 'vday': 7516, 'parachut': 5379, '80182': 812, '08452810073': 70, 'therer': 7077, 'tabl': 6919, 'lambda': 4260, 'snowman': 6522, 'angel': 1165, 'snowbal': 6520, 'ello': 2742, 'ikea': 3815, 'ofic': 5202, 'cn': 2059, 'oficegot': 5203, 'duffer': 2657, 'grr': 3430, 'prescript': 5684, 'pharmaci': 5483, 'cook': 2177, 'electr': 2738, '08715500022': 138, 'rpl': 6087, 'cnl': 2060, 'fffff': 2983, 'kadeem': 4107, 'fujitsu': 3187, 'lifebook': 4354, 'scold': 6203, 'zhong': 8089, 'se': 6223, 'qing': 5816, '46': 640, 'accordingli': 972, 'hypertens': 3779, 'mineal': 4737, 'wud': 7899, 'annoyin': 1176, '08702490080': 83, '09066358152': 253, 'prompt': 5755, 'vpod': 7588, 'carri': 1867, 'avatar': 1340, 'nigro': 5034, 'anyplac': 1192, 'upset': 7447, 'prioriti': 5714, 'constantli': 2162, 'ecstasi': 2699, '09090204448': 274, 'minapn': 4732, 'ls278bb': 4485, 'hittng': 3630, 'reflex': 5942, 'costa': 2197, 'sol': 6534, '09050090044': 189, 'toclaim': 7180, 'pobox334': 5572, 'stockport': 6736, 'max10min': 4633, 'kkwhi': 4198, 'lousi': 4463, 'cat': 1881, '1010': 298, 'woken': 7827, 'hip': 3620, 'adewal': 1002, 'aka': 1083, 'egbon': 2718, 'minstand': 4744, 'ic': 3790, 'mari': 4603, 'deduct': 2398, 'wrk': 7883, 'asshol': 1288, 'grab': 3385, '09065394973': 249, 'payback': 5425, '31': 553, 'honeybe': 3677, 'sweetest': 6894, 'waitu': 7618, 'havnt': 3535, 'moral': 4832, 'crack': 2227, 'gmgngegn': 3310, 'tesco': 7018, 'featheri': 2962, 'bowa': 1636, 'infra': 3881, 'nvm': 5155, 'gep': 3270, 'delhi': 2415, 'thinkin': 7093, '2006': 440, 'fifa': 2992, 'held': 3565, '87239': 872, 'boat': 1596, 'shhhhh': 6330, 'relat': 5956, 'arul': 1269, 'amk': 1140, '09061743810': 223, 'length': 4330, 'distract': 2532, 'santha': 6156, 'corrct': 2189, 'dane': 2327, 'basket': 1425, 'proof': 5758, 'rupaul': 6112, '61610': 728, 'help08712400602450p': 3578, 'provid': 5770, 'tones2youcouk': 7217, 'practis': 5656, 'curtsey': 2288, 'yeh': 8004, 'satjust': 6173, 'payed2day': 5427, 'havbeen': 3529, 'rise': 6052, '4mi': 662, 'havebeen': 3530, 'preschoolcoordin': 5681, '2i': 505, 'feelingood': 2972, 'memori': 4679, 'mon': 4812, 'themobyo': 7066, 'yoher': 8039, 'ssindia': 6676, 'african': 1035, 'soil': 6532, 'major': 4572, 'role': 6068, 'outreach': 5323, 'mel': 4669, 'birth': 1548, '8lb': 900, '7oz': 795, 'brilliantli': 1693, 'intent': 3911, 'visitor': 7566, 'rule': 6105, 'bend': 1505, 'thia': 7088, 'inlud': 3887, 'preview': 5699, 'freefon': 3133, '08006344447': 59, 'ambrithmaduraimet': 1136, 'dha': 2464, 'marrgeremembr': 4607, 'kitti': 4182, 'shave': 6318, 'onward': 5257, 'tact': 6923, 'skillgame1winaweek': 6445, 'age16150ppermesssubscript': 1047, 'theatr': 7059, 'obvious': 5178, 'eggspert': 2721, 'potato': 5635, 'cram': 2229, 'satsgettin': 6175, '447per': 629, 'apolog': 1207, 'admit': 1009, 'pei': 5440, 'boost': 1617, 'subtoitl': 6813, 'jot': 4075, 'storelik': 6752, 'cereal': 1905, 'gari': 3228, 'infern': 3872, 'affair': 1026, 'bold2': 1603, 'calicut': 1791, '09094100151': 276, 'cast': 1878, 'aom': 1200, 'gbp5month': 3244, 'box61m60': 1652, '1er': 408, 'thkin': 7099, 'parco': 5386, 'nb': 4959, 'resub': 6014, 'shadow': 6301, 'breadstick': 1675, 'ahmad': 1063, 'saeed': 6127, 'hallaq': 3487, '09066362220': 257, 'box97n7qp': 1654, 'redim': 5930, 'blueu': 1590, 'purpleu': 5800, 'pinku': 5520, 'orangei': 5285, 'lyk': 4523, 'greeni': 3413, 'yelowi': 8007, 'bck': 1448, 'blackim': 1559, 'giv': 3297, 'color': 2090, 'eldest': 2736, 'drugdeal': 2640, 'gender': 3258, 'wither': 7801, 'eg23f': 2716, 'eg23g': 2717, 'sleepwellamptak': 6465, 'wondarful': 7832, 'messagestext': 4704, 'nowus': 5131, 'web2mobil': 7675, 'txt250com': 7348, 'box139': 1640, 'la32wu': 4244, 'txtx': 7355, 'hunonbu': 3764, 'donyt': 2587, 'homebut': 3666, 'latelyxxx': 4288, '85233': 856, 'freeringtonerepli': 3143, 'mca': 4641, 'rich': 6034, 'justthought': 4100, 'sayhey': 6187, 'doinnearli': 2568, 'endof': 2763, 'offdam': 5191, 'nevamindw': 4997, '2hook': 503, 'uwant': 7493, 'flag': 3037, 'yer': 8011, '84199': 849, 'eng': 2767, 'box39822': 1647, 'w111wx': 7594, 'yor': 8040, 'ownyouv': 5342, 'skalli': 6440, 'jason': 4016, 'soooo': 6571, 'tming': 7168, 'cutest': 2298, 'dice': 2474, 'art': 1266, 'inclus': 3851, 'help08700469649': 3576, 'box420': 1649, 'ip4': 3935, '5we': 718, 'howda': 3714, 'samachara': 6146, 'audri': 1324, 'autocorrect': 1332, 'simul': 6413, 'armand': 1252, 'andor': 1161, 'rub': 6099, 'feet': 2974, 'lara': 4277, 'clever': 2038, '087123002209am7pm': 104, 'med': 4655, '113': 313, 'bray': 1671, 'wicklow': 7763, 'eir': 2728, 'washob': 7646, 'nob': 5060, 'nickey': 5021, 'platt': 5539, 'ryan': 6115, 'vikki': 7548, 'wwwidewcom': 7922, 'skillgam': 6444, '1winaweek': 429, '150ppermesssubscript': 371, 'mad': 4548, 'argh': 1245, 'spotti': 6654, 'provinc': 5771, 'sterl': 6719, 'problemfre': 5730, 'xam': 7959, 'hall': 3485, 'manag': 4582, 'intha': 3920, 'ponnungal': 5605, 'ipaditan': 3937, 'reject': 5954, 'shitload': 6345, 'diamond': 2472, 'tessypl': 7019, 'favor': 2956, 'nimyapl': 5039, 'shija': 6333, 'china': 1988, 'noisi': 5070, 'needa': 4975, 'mcat': 4642, 'sfrom': 6297, 'manual': 4594, 'processit': 5737, 'reset': 5997, 'troubleshoot': 7299, 'b4u': 1365, 'wc': 7665, '2703': 476, 'marsm': 4611, 'wwwb4utelecom': 7910, '08717168528': 141, 'strongli': 6777, 'sacrific': 6124, 'creativ': 2239, 'stifl': 6729, 'morphin': 4838, 'requir': 5991, 'stayin': 6707, 'strangersaw': 6761, 'nowstil': 5129, 'mrur': 4861, '2getha': 498, 'buffi': 1738, 'pix': 5525, 'qlynnbv': 5817, 'help08700621170150p': 3577, '8830': 880, 'cld': 2033, 'nosh': 5099, 'waaaat': 7604, 'lololo': 4426, 'comei': 2099, 'kindli': 4173, 'document': 2552, 'stapati': 6691, 'mile': 4723, 'cuti': 2299, 'wale': 7620, 'hill': 3615, 'colleagu': 2086, 'sed': 6236, 'mood': 4830, 'latr': 4292, 'caken': 1787, 'kidz': 4167, 'sofa': 6529, 'honesti': 3674, 'labor': 4246, 'shakara': 6305, 'beggar': 1487, 'smash': 6490, 'dent': 2428, 'crickit': 2248, 'imin': 3830, 'towndontmatt': 7259, 'urgoin': 7462, 'outl8rjust': 5321, 'reallyne': 5899, '2docdpleas': 494, 'dontpleas': 2586, 'dontignor': 2585, 'mycallsu': 4914, 'thecd': 7060, 'isvimport': 3957, 'tome': 7205, 'yavnt': 7993, 'ibuprofen': 3789, 'grown': 3427, 'chinatown': 1989, 'porridg': 5617, 'claypot': 2032, 'yam': 7989, 'fishhead': 3028, 'beehoon': 1478, 'tok': 7193, 'specif': 6611, 'jaklin': 4001, 'nearbi': 4964, '449month': 633, 'ntwk': 5138, 'bundl': 1747, 'avbl': 1341, 'call2optoutj': 1799, 'mf': 4711, 'ooh': 5259, '4got': 657, 'moseley': 4840, '630': 733, 'thankyou': 7043, 'pendingi': 5445, 'dayswil': 2361, 'thrurespect': 7123, 'homecheck': 3667, 'affection': 1028, 'loveabl': 4467, 'etern': 2819, 'nobl': 5061, 'intim': 3921, 'enam': 2759, 'textin': 7030, 'cousin': 2216, 'rajipl': 5851, 'nimya': 5038, 'leg': 4322, 'neck': 4971, 'amigo': 1139, 'progress': 5747, 'continu': 2167, 'holi': 3660, 'werent': 7719, 'arti': 1267, 'collag': 2084, 'tryin': 7310, 'billion': 1540, '2hr': 504, 'walik': 7621, 'carton': 1870, 'shelv': 6326, '08714712379': 124, 'distanc': 2531, 'mirror': 4750, 'ref': 5934, 'k718': 4105, '450': 635, '09065069120': 243, 'jod': 4057, 'keri': 4151, 'smidgin': 6494, 'collegexx': 2089, 'beliv': 1495, 'empti': 2757, 'slot': 6476, 'accordin': 971, 'knock': 4205, 'sicomo': 6393, 'nolistened2th': 5079, 'plaid': 5532, 'albumquit': 1090, 'gdthe': 3250, 'air1': 1074, 'hilariousalso': 3614, 'braindance': 1664, 'compofstuff': 2127, 'aphex': 1204, 'abelu': 942, 'hav2hear': 3527, 'itc': 3961, 'nelson': 4986, 'temp': 7001, 'unmit': 7421, 'display': 2530, 'newspap': 5010, 'soup': 6589, 'yummmm': 8075, 'puzzel': 5808, '4goten': 658, 'scammer': 6193, 'smartthough': 6489, 'regular': 5953, 'prem': 5673, 'msgsubscript': 4870, '2morro': 511, '09099726481': 284, 'dena': 2425, 'r836': 5835, '09065069154': 244, 'threat': 7114, 'shifad': 6332, 'complaint': 2121, '2godid': 501, 'loung': 4462, 'lk': 4399, 'lov': 4464, 'mindi': 4734, 'toleratbc': 7201, 'comfort': 2102, 'splashmobil': 6635, 'subscrit': 6811, '300p': 548, 'dust': 2668, 'u4': 7361, '01223585334': 4, '2c': 490, '8552': 857, '2end': 495, '88877free': 885, '88877': 884, '88066': 877, '3pound': 594, 'watchin': 7652, 'meaningless': 4647, 'all': 1106, 'brdget': 1673, 'jone': 4070, 'inev': 3869, 'hmmbad': 3639, 'newshyp': 5009, '700': 769, 'studio': 6789, 'takenonli': 6935, 'bedrm900': 1474, 'unabl': 7386, 'velli': 7522, 'wkend': 7810, 'journey': 4076, 'huge': 3746, 'upd8': 7438, '2stoptx': 530, 'anni': 1171, '08718738034': 167, '21870000hi': 450, 'mailbox': 4568, '21': 447, '09056242159': 192, 'retriev': 6020, 'vai': 7498, 'hrishi': 3725, 'nothin': 5105, 'hanger': 3497, 'poem': 5585, 'tear': 6980, 'thatll': 7053, 'quizwin': 5832, 'duchess': 2652, 'cornwal': 2187, '82277unsub': 826, '008704050406': 0, 'sp': 6595, 'arrow': 1264, '08718726971': 156, 'tddnewsletteremc1couk': 6974, 'thedailydraw': 7061, 'dozen': 2607, 'prizeswith': 5722, 'waqt': 7640, 'pehl': 5439, 'naseeb': 4944, 'zyada': 8095, 'kisi': 4179, 'ko': 4214, 'kuch': 4230, 'nahi': 4928, 'miltazindgi': 4729, 'wo': 7823, 'hum': 3751, 'socht': 6527, 'zindgi': 8090, 'jeetey': 4028, 'wors': 7863, 'dan': 2322, 'varaya': 7506, 'elaya': 2735, '100603': 296, '09066368753': 264, '97n7qp': 917, 'anand': 1159, 'beach': 1458, 'aww': 1355, 'deadwel': 2369, 'jez': 4045, 'iscom': 3949, 'todo': 7188, 'workand': 7850, 'whilltak': 7751, 'zogtoriu': 8092, 'stare': 6693, 'whether': 7749, 'financi': 3008, 'problemi': 5731, 'alian': 1102, 'freenokia': 3140, 'or2optouthv9d': 5281, 'posibl': 5624, 'centuri': 1903, 'cm': 2056, 'frwd': 3180, 'unnecessarili': 7422, 'restrict': 6011, 'buddi': 1733, '80082': 807, '08712402902': 111, 'possess': 5626, 'nohe': 5066, 'clarif': 2026, 'spook': 6647, 'halloween': 3488, '08701417012150p': 77, 'logop': 4421, 'issu': 3956, 'regret': 5952, 'footbal': 3083, 'sky': 6451, 'gamestar': 3220, '250k': 467, 'nowski': 5128, '88088': 878, 'coimbator': 2077, 'monoc': 4824, 'polyc': 5598, 'stream': 6762, '0871212025016': 102, 'categori': 1883, 'measur': 4651, 'ethnic': 2820, 'censu': 1900, 'transcrib': 7273, 'propsd': 5765, 'gv': 3459, 'lv': 4519, 'lttr': 4495, 'threw': 7116, 'thm': 7100, 'aproach': 1229, 'dt': 2648, 'truck': 7302, 'wn': 7820, 'girld': 3293, 'hw': 3775, 'instantli': 3905, 'thi': 7087, 'happili': 3508, '2gthr': 502, 'evrydi': 2858, 'msgsd': 4868, 'paragon': 5381, 'bluff': 1591, 'imposs': 3840, 'goodmat': 3352, 'sari': 6164, 'asusual1': 1299, 'franyxxxxx': 3124, 'batt': 1434, 'wwwfullonsmscom': 7919, 'gn': 3313, 'pussi': 5805, 'becausethey': 1466, '09058098002': 208, 'pobox1': 5567, 'w14rg': 7595, 'messageno': 4700, 'responcewhat': 6005, 'happend': 3503, 'wiskey': 7798, 'brandi': 1668, 'rum': 6106, 'gin': 3291, 'vodka': 7577, 'scotch': 6207, 'shampain': 6310, 'kudiyarasu': 4231, 'dhina': 2465, 'vaazhthukk': 7496, 'gain': 3212, 'kg': 4157, 'sugar': 6825, 'pressur': 5692, 'limit': 4371, 'dumb': 2659, 'thangam': 7037, 'okey': 5220, 'doke': 2570, 'dress': 2624, 'neshanthtel': 4989, 'byatch': 1778, 'whassup': 7731, 'kay': 4134, 'roger': 6067, 'cl': 2021, 'nasti': 4945, 'filthyguy': 3004, 'slo': 6473, 'slo4msg': 6474, 'chiong': 1993, 'christ': 2006, 'dialogu': 2471, 'reltnship': 5964, 'wipe': 7789, 'timegud': 7145, 'solv': 6538, '1hi': 410, 'polic': 5593, '2polic': 526, '3wife': 602, 'siri': 6424, '4cook': 650, '5garden': 704, 'veget': 7518, '6housemaid': 757, '7children': 792, '8neighbour': 902, 'brilliant': 1691, 'pose': 5622, 'comb': 2094, 'dryer': 2646, 'fp': 3117, 'scienc': 6202, 'madamregret': 4552, 'disturbancemight': 2534, 'dlf': 2544, 'premaricakindli': 5674, 'informedrgdsrakheshkerala': 3877, 'gotto': 3375, '08702840625': 84, 'comuk220cm2': 2133, 'err': 2799, '8pm': 904, 'bloo': 1577, 'kbut': 4137, 'hitteranyway': 3629, 'offlin': 5201, 'anjola': 1169, 'ithi': 3965, 'wwwasjesuscom': 7909, 'wrote': 7892, 'swiss': 6902, 'director': 2510, 'lac': 4247, 'crore': 2252, 'taxless': 6962, 'budget': 1734, 'lane': 4268, 'supli': 6854, 'citizen': 2019, 'imf': 3829, 'block': 1573, 'politician': 5594, 'corrupt': 2193, 'itna': 3974, 'karo': 4129, 'pura': 5796, 'padhegm': 5353, 'torrent': 7243, 'particularli': 5400, 'commit': 2109, 'random': 5861, '83370': 839, 'wwwmusictrivianet': 7928, 'rightio': 6039, '1148': 317, 'brum': 1716, 'donno': 2581, 'scorabl': 6205, 'paranoid': 5383, 'brin': 1694, 'properli': 5762, 'kgive': 4158, 'onlybettr': 5252, 'bsnl': 1720, 'offc': 5189, 'suganya': 6824, 'dessert': 2449, 'abeg': 941, 'sponsor': 6645, 'onum': 5256, 'candont': 1834, 'poet': 5586, 'imaginationmi': 3827, 'carso': 1869, 'rr': 6089, 'famamu': 2928, 'pongaldo': 5604, 'sri': 6672, 'furnitur': 3201, 'lock': 4414, 'jenn': 4032, 'easiest': 2686, 'barcelona': 1414, 'ru': 6098, 'sppok': 6656, '09066612661': 267, 'complementari': 2122, 'wa14': 7603, '2px': 527, 'sender': 6259, 'kdo': 4138, 'daurgent': 2349, 'pansi': 5370, 'jungl': 4095, 'kanji': 4121, 'drinkpa': 2629, 'sr': 6671, 'drizzl': 2633, 'shove': 6373, 'drama': 2611, 'plsi': 5554, 'struggl': 6780, 'strang': 6759, 'placeno': 5531, 'ego': 2722, 'necess': 4968, 'gowait': 3378, 'reppurcuss': 5987, 'releas': 5959, 'cosign': 2195, 'hvae': 3774, '09061701444': 216, '24': 458, 'acl03530150pm': 981, 'hcl': 3536, 'fresher': 3151, 'processexcel': 5736, 'neededsalari': 4976, 'mssuman': 4874, 'indyarockscom': 3868, 'resum': 6017, 'datoday': 2347, 'restuwud': 6012, 'reliant': 5960, 'fwiw': 3205, 'afford': 1031, 'kanowhr': 4125, 'maga': 4559, 'sq825': 6665, 'yunni': 8077, 'citylink': 2020, 'er': 2794, 'prop': 5760, 'pleasant': 5548, '6230': 730, '83383': 840, 'pobox11414tcrw1': 5568, 'bognor': 1601, 'splendid': 6637, 'yesim': 8022, 'ktv': 4228, 'misplac': 4755, 'mmmmm': 4782, 'medicin': 4657, 'begun': 1489, 'registr': 5951, 'perman': 5460, 'resid': 5998, 'plenti': 5551, 'rel': 5955, 'risk': 6053, 'benefit': 1508, 'amount': 1147, 'hmmmhow': 3642, 'accumul': 975, 'program': 5746, 'belong': 1500, 'herwho': 3597, 'fate': 2947, 'shoranur': 6359, 'incid': 3848, 'fuell': 3186, 'prior': 5713, 'grief': 3415, 'violenc': 7556, 'goodenviron': 3347, 'terrif': 7016, 'text82228': 7025, 'wwwtxt82228com': 7950, 'infotxt82228couk': 3878, 'honestli': 3675, 'promptli': 5756, 'burnt': 1754, 'advic': 1020, 'snap': 6510, 'quizclub': 5831, '80122300pwk': 809, 'sprwm': 6661, 'ph08704050406': 5482, 'gmw': 3312, 'someplac': 6545, 'pressi': 5691, 'dr': 2609, 'superior': 6852, 'ultim': 7379, 'tor': 7241, 'motiv': 4845, 'tui': 7323, 'achiev': 978, 'korli': 4221, 'dock': 2550, 'roll': 6069, 'newscast': 5008, 'dabbl': 2309, 'flute': 3064, 'behind': 1492, 'wheel': 7736, 'bx420': 1774, 'amaz': 1134, 'picsfree1': 5505, 'vid': 7537, 'keyword': 4155, 'ruin': 6104, 'erm': 2797, 'the4th': 7056, 'octob': 5184, '83435': 841, 'elabor': 2732, 'safeti': 6129, 'aspect': 1285, 'tarot': 6951, '85555': 858, 'depart': 2431, 'oursso': 5311, 'youani': 8043, 'hr': 3724, 'conform': 2150, 'horniest': 3694, 'instruct': 3907, 'nytec2a3lpmsg150p': 5163, 'ovarian': 5328, 'cyst': 2305, 'bc': 1446, 'shrink': 6380, 'onit': 5247, 'timin': 7151, 'ape': 1202, 'death': 2386, 'ibm': 3786, 'hp': 3721, 'toshiba': 7247, 'gosh': 3365, 'spose': 6652, 'usualiam': 7485, 'rimac': 6042, 'arestaur': 1242, 'squid': 6669, '1030': 301, 'dosometh': 2594, 'ucal': 7365, 'wrki': 7884, 'dabook': 2310, 'nite2': 5045, 'eachoth': 2675, 'luckili': 4502, 'madam': 4551, 'wwwtklscom': 7947, 'stoptxtstop': 6750, '150week': 382, 'innoc': 3891, 'mental': 4682, 'smoothli': 6501, 'challeng': 1913, '2marrow': 508, 'hon': 3672, 'pple700': 5646, 'nightsexcel': 5030, 'breakfast': 1678, 'hamper': 3490, 'cc100pmin': 1890, 'realiti': 5896, 'daal': 2307, '0870737910216yr': 89, '150wk': 383, 'unni': 7423, 'rechargerakhesh': 5918, 'lack': 4248, 'particular': 5399, 'dramastorm': 2612, 'forfeit': 3093, 'digi': 2492, '9pm': 926, 'fab': 2904, 'coupla': 2211, '077xxx': 34, '09066362206': 256, 'sundayish': 6841, 'prasad': 5662, 'tiwari': 7161, 'rcbbattl': 5878, 'bang': 1404, 'kochi': 4215, 'cancer': 1833, 'checkup': 1946, 'pap': 5374, 'smear': 6491, 'gobi': 3321, 'pandi': 5366, '4w': 678, 'technolog': 6984, 'todayh': 7186, 'olowoyey': 5235, 'uscedu': 7472, 'argentina': 1244, 'secretari': 6232, 'taxt': 6963, 'massagetiepo': 4615, 'lool': 4438, 'shake': 6306, 'booti': 1618, 'timeslil': 7147, 'busyi': 1761, 'scarcasim': 6194, 'naal': 4923, 'eruku': 2802, 'chikkuwat': 1979, 'w4': 7599, '5wq': 720, 'bro': 1701, 'amongst': 1145, 'sensibl': 6265, 'when': 7738, '69696': 744, '3lp': 588, '150msg': 355, 'alsoor': 1125, 'danalla': 2323, 'obedi': 5172, 'ft': 3181, 'needi': 4977, 'pout': 5641, 'stomp': 6739, 'northampton': 5097, 'abj': 947, 'serv': 6279, 'playng': 5545, '1mcflyall': 414, 'ab': 938, 'sara': 6160, 'jorgeshock': 4074, 'smithswitch': 6498, 'anna': 1170, 'nagar': 4926, 'yupz': 8081, 'modelsoni': 4802, 'ericson': 2795, 'der': 2436, 'luk': 4506, 'modl': 4803, 'cheesi': 1951, 'frosti': 3178, 'witin': 7804, '0870141701216': 78, '4txt120p': 673, '10th': 310, 'sept': 6273, '09050000555': 181, 'ba128nnfwfly150ppm': 1367, 'nudist': 5141, 'theme': 7063, 'pump': 5791, 'petrol': 5477, 'feb': 2964, 'ignor': 3813, 'evr': 2854, 'signal': 6399, 'neither': 4985, 'unusu': 7433, 'hug': 3745, 'snog': 6517, 'west': 7722, 'palm': 5362, 'fastest': 2944, '83021': 830, 'state': 6702, 'tariff': 6950, '2stoptxt': 531, 'perpetu': 5462, 'dd': 2366, 'steam': 6712, 'reg': 5948, 'pract': 5653, 'flung': 3062, 'housemaid': 3709, 'public': 5787, 'govtinstituit': 3377, 'closedinclud': 2046, 'officeunderstand': 5198, 'process': 5735, 'justbeen': 4098, 'overa': 5329, 'mush': 4901, 'tund': 7327, 'mission': 4760, 'luxuri': 4518, 'canari': 1831, '20m12aq': 444, 'lux': 4517, '28': 478, 'eh74rr': 2724, 'sleepi': 6460, 'dare': 2332, 'ben': 1504, 'mag': 4558, 'avo': 1347, 'middl': 4718, 'chachi': 1910, 'tiz': 7163, 'kanagu': 4119, 'brat': 1669, 'diwali': 2539, 'tick': 7131, 'nowonion': 5123, 'derp': 2438, 'abus': 958, 'lipo': 4386, 'netflix': 4992, 'thgt': 7086, 'clash': 2028, 'arr': 1260, 'oscar': 5301, 'rebtel': 5906, 'firefox': 3021, 'lower': 4478, '69969': 752, 'bcmsfwc1n3xx': 1452, 'footi': 3085, 'stadium': 6681, 'larg': 4279, 'cocacola': 2067, 'dark': 2333, 'teenag': 6986, 'telugutht': 6999, 'gudk': 3442, 'mittelschmertz': 4771, 'paracetamol': 5378, 'salespe': 6140, 'cthen': 2267, 'enuff': 2788, 'conclus': 2139, 'cover': 2217, 'atyour': 1318, 'instant': 3904, '08715203028': 130, '9th': 928, 'rugbi': 6103, 'affidavit': 1030, 'twigg': 7340, 'divis': 2537, 'courtroom': 2215, 'creep': 2242, 'freemsgfav': 3138, 'tonesrepli': 7218, 'lil': 4368, 'golden': 3335, 'breathe1': 1681, 'crazyin': 2236, 'sleepingwith': 6463, 'finest': 3013, 'ymca': 8035, 'getzedcouk': 3280, 'pobox365o4w45wq': 5574, 'wtc': 7895, 'weiyi': 7702, 'properti': 5763, 'interflora': 3913, '505060': 686, 'godtaken': 3325, 'teethi': 6988, 'romcapspam': 6072, 'presenc': 5685, 'outgo': 5318, 'maggi': 4561, 'mee': 4659, '08712103738': 101, 'cough': 2201, 'com': 2093, '09058099801': 209, 'b4190604': 1363, '7876150ppm': 787, 'bbdpooja': 1442, 'pimpleseven': 5517, 'blackand': 1557, 'sweatter': 6892, 'nicenicehow': 5018, 'ambiti': 1135, 'miiiiiiissssssssss': 4721, 'tunji': 7329, 'iz': 3990, 'yellow': 8006, 'misscal': 4757, 'frndz': 3169, '6miss': 760, 'freemessag': 3136, 'jamsterget': 4006, 'frog': 3172, 'mad1': 4549, 'mad2': 4550, '88888': 886, 'gbpweek': 3246, 'wipro': 7790, 'tall': 6941, 'doubt': 2600, 'handl': 3493, 'note': 5101, 'aveng': 1343, 'japanes': 4015, 'proverb': 5769, 'itu': 3981, 'itleav': 3969, 'strike': 6770, 'toss': 7248, 'gudni8': 3443, 'dancin': 2326, 'explicitli': 2890, 'nora': 5090, 'smith': 6497, 'gayl': 3237, 'crucifi': 2257, 'but': 1762, 'freedom': 3131, 'vs': 7590, 'cedar': 1894, 'twenti': 7338, 'durham': 2666, 'seat': 6227, 'porn': 5616, '69855': 746, '50p': 688, 'stopbcm': 6746, 'sf': 6294, 'paint': 5360, 'printer': 5712, 'groovi': 3422, 'harish': 3515, 'acnt': 982, 'nowadayslot': 5119, 'showroomsc': 6377, 'shape': 6315, 'doinat': 2565, 'callon': 1814, 'low': 4476, 'swatch': 6887, 'kkyesterday': 4199, 'ganesh': 3222, 'pdatenow': 5432, 'call2optoutyhl': 1803, 'configur': 2146, 'anal': 1157, 'pear': 5436, 'helloooo': 3573, 'oooooh': 5261, '09058094454': 196, 'thatnow': 7055, '54': 697, 'resubmit': 6015, 'expiri': 2887, '2geva': 499, 'mint': 4746, 'uxxxx': 7495, 'human': 3752, 'studyn': 6790, 'wuld': 7901, 'everyboy': 2839, 'xxxxxxxx': 7979, '532': 696, '924': 910, '863': 861, '725': 771, 'brilliant1thingi': 1692, 'answr': 1183, 'liquor': 4387, 'flake': 3038, 'loko': 4423, '730': 774, 'tm': 7167, 'fireplac': 3022, 'icon': 3796, '08712400200': 106, 'fifth': 2994, 'woozl': 7841, '08718723815': 151, 'machin': 4544, 'sake': 6134, 'my': 4913, 'bruce': 1715, 'down': 2603, 'fletcher': 3046, '27603': 477, '08714714011': 128, 'cozi': 2220, 'nightnobodi': 5029, 'buzzzz': 1771, 'chest': 1961, 'trend': 7290, 'con': 2134, 'brief': 1688, 'descript': 2440, 'nuclear': 5140, 'fusion': 3202, 'histori': 3624, 'iter': 3964, 'jet': 4042, 'nonenowher': 5083, 'ikno': 3816, 'doesdiscountshitinnit': 2555, 'jabo': 3993, 'abi': 944, 'slower': 6479, 'maniac': 4592, 'hadya': 3471, 'sapna': 6158, 'maneg': 4589, 'yday': 7998, 'hogidhechinnu': 3652, 'swalpa': 6881, 'agidhan': 1052, 'typelyk': 7358, 'footblcrckt': 3084, 'swell': 6897, 'tim': 7142, 'bollox': 1604, 'tol': 7196, 'ingredi': 3884, 'poci': 5580, 'bell': 1496, 'non': 5080, 'call2optout4qf2': 1795, 'senor': 6261, 'giggl': 3287, 'person2di': 5466, 'nvq': 5156, 'profession': 5742, 'tiger': 7134, 'wood': 7836, 'reboot': 5905, 'grinder': 3417, 'pt2': 5782, 'youkwher': 8051, 'understood': 7398, 'bottom': 1631, 'knowh': 4207, 'disconnect': 2521, 'onluy': 5250, 'offcampu': 5190, 'msgs150p': 4867, 'riley': 6041, 'ew': 2859, 'howv': 3719, 'lingo': 4379, '400minscal': 608, 'call2optoutj5q': 1800, 'medont': 4658, 'lm': 4403, 'hm': 3636, '69200': 742, 'chrgd50p': 2005, '2exit': 496, 'salon': 6143, 'sankranti': 6154, 'republ': 5989, 'shivratri': 6347, 'ugadi': 7367, 'independ': 3861, 'friendshipmotherfatherteacherschildren': 3161, 'festiv': 2980, 'dasara': 2341, 'rememberi': 5969, 'theseyour': 7080, 'raj': 5848, 'lifei': 4355, 'daywith': 2365, 'somewheresomeon': 6554, 'tosend': 7246, 'selfless': 6251, 'initi': 3885, 'tallent': 6943, 'usc': 7471, 'portal': 5619, 'dont4get2text': 2583, 'lennon': 4331, 'crab': 2226, 'shoreth': 6361, 'wave': 7661, 'footprint': 3086, 'fox': 3116, 'frndsship': 3168, 'dwn': 2672, 'slaaaaav': 6455, 'summon': 6835, '3365': 565, 'appendix': 1214, 'slob': 6475, 'gudnit': 3444, 'topicsorri': 7238, 'webpag': 7678, 'yeesh': 8003, 'hunk': 3758, 'httpgotbabescouk': 3731, 'gopalettan': 3363, 'particip': 5398, 'admin': 1005, 'kkfrom': 4189, 'abroad': 951, 'xxsp': 7970, 'visionsmscom': 7563, 'stopcost': 6748, '08712400603': 107, 'goodi': 3351, 'mat': 4619, 'ay': 1359, 'satü': 6179, 'andro': 1164, 'isaiahd': 3947, 'foot': 3082, 'peni': 5446, 'expert': 2884, 'ssi': 6675, 'thinl': 7095, 'sachinjust': 6122, 'importantli': 3838, 'tightli': 7136, 'wnevr': 7821, 'fal': 2924, 'vth': 7591, 'yen': 8008, 'madodu': 4554, 'nav': 4957, 'pretsorginta': 5695, 'nammanna': 4937, 'pretsovru': 5696, 'alwa': 1129, 'eveb': 2830, 'lord': 4444, 'ringsreturn': 6044, 'nowrepli': 5125, 'soundtrack': 6588, 'stdtxtrate': 6709, 'homelov': 3669, 'staffsciencenusedusgphyhcmkteachingpc1323': 6683, 'emigr': 2752, 'olol': 5234, 'stagwood': 6685, 'winterston': 7788, 'victor': 7535, 'jp': 4078, 'mofo': 4805, 'pathaya': 5416, 'enketa': 2775, 'maraikara': 4597, 'priest': 5706, 'intrud': 3924, 'walkabout': 7623, '28th': 482, '06': 17, '08708034412': 94, 'prove': 5768, 'blow': 1584, 'phil': 5487, 'nevil': 4999, 'abbey': 939, 'auctionpunj': 1320, 'str8': 6756, 'classic': 2030, 'nokia150p': 5075, 'poly200p': 5596, 'thur': 7127, 'pre': 5669, 'sack': 6123, 'lookatm': 4436, 'clip': 2041, '35p': 568, 'mmsto': 4785, '32323': 560, 'lifethi': 4356, 'twat': 7336, 'dungere': 2662, 'punch': 5792, 'mention': 4683, 'vat': 7512, 'onlydon': 5253, 'grl': 3419, 'hogolo': 3654, 'kodstini': 4216, 'agalla': 1044, 'madstini': 4556, 'hogli': 3653, 'mutai': 4908, 'eerulli': 2711, 'kodthini': 4217, 'kano': 4122, 'thasa': 7047, 'mess': 4697, 'upyeh': 7453, 'shudvetold': 6384, 'urgran': 7463, 'knowneway': 4209, 'illspeak': 3821, 'u2moro': 7360, 'tex': 7021, 'mecaus': 4654, 'werebor': 7718, 'okden': 5219, 'hunni': 3760, 'uin': 7373, 'satsound': 6176, 'likeyour': 4366, 'gr8fun': 3383, 'countinlot': 2208, 'xxxxx': 7976, 'count': 2206, 'hdd': 3537, 'describ': 2439, '09053750005': 191, '310303': 555, '08718725756': 152, '140ppm': 346, 'asu': 1298, 'randomli': 5862, 'reformat': 5943, 'otsid': 5307, 'leu': 4340, 'plumber': 5557, 'tape': 6949, 'wrench': 7879, 'httpwwwetlpcoukreward': 3737, 'appeal': 1212, 'thriller': 7117, '830': 829, 'size': 6437, 'eleph': 2739, 'um': 7381, 'cr': 2223, 'pooki': 5607, 'wouldnt': 7873, 'youdearwith': 8047, 'loverakhesh': 4471, 'nri': 5133, '08712101358': 100, 'x2': 7954, 'deserv': 2442, 'tight': 7135, '88039skilgmetscs087147403231winawkage16': 876, 'diddi': 2478, 'toothpast': 7234, 'av': 1333, 'oneta': 5244, 'poke': 5588, 'everyday': 2840, 'deam': 2373, 'curiou': 2285, 'coccoon': 2068, 'auto': 1331, 'yeahand': 8001, 'newquaysend': 5005, 'postcard': 5631, 'goneu': 3341, '1im': 412, 'talkin': 6940, 'boutxx': 1635, 'bread': 1674, 'windi': 7782, '09066358361': 254, 'y87': 7982, 'mahal': 4565, 'knowthi': 4210, 'tirunelvai': 7155, 'dusk': 2667, 'puzzl': 5809, 'x29': 7955, '09065989180': 250, 'stair': 6686, 'phew': 5486, 'thangamit': 7038, 'redr': 5931, 'bloodblood': 1579, 'heartheart': 3553, '1u': 427, '3u': 599, '4some1': 668, 'recycl': 5927, 'toledo': 7199, 'ding': 2501, 'tai': 6928, 'feng': 2979, 'swimsuit': 6900, 'necessari': 4969, 'watev': 7656, 'squeeeeez': 6667, 'lik': 4364, 'frndshp': 3167, 'luvd': 4515, 'themp': 7067, 'volcano': 7581, 'erupt': 2803, 'aris': 1249, 'hurrican': 3767, 'sway': 6888, 'aroundn': 1258, 'disast': 2517, 'lighter': 4362, '7pm': 796, 'kkit': 4193, 'goodwhen': 3361, 'lasagna': 4282, 'woould': 7840, '08718726978': 157, 'drove': 2637, 'shore': 6360, 'deu': 2456, '44': 625, '7732584351': 784, '3510i': 567, 'deliveredtomorrow': 2418, 'tap': 6948, 'spile': 6625, 'broad': 1702, 'canal': 1830, 'engin': 2770, 'onedg': 5243, 'raviyog': 5873, 'peripher': 5459, 'bhayandar': 1530, 'east': 2688, 'sunoco': 6844, 'howard': 3713, 'plate': 5538, 'leftov': 4321, 'starv': 6699, 'cheat': 1940, 'fatti': 2950, 'badrith': 1386, 'chennaii': 1956, 'usno': 7481, 'owe': 5339, 'checkin': 1944, 'numberso': 5147, 'ittb': 3980, 'armenia': 1253, 'swann': 6883, '09058097189': 206, '09061221066': 215, 'fromm': 3174, '330': 563, '1120': 312, '1205': 325, 'wyli': 7953, 'justifi': 4099, 'in2': 3845, '5226': 691, 'hava': 3528, '1131': 314, 'rct': 5880, 'thnq': 7102, 'adrian': 1014, 'rgd': 6029, 'vatian': 7513, 'babysit': 1377, 'itll': 3971, 'gonnamissu': 3344, 'muchi': 4882, 'butther': 1764, 'abouta': 950, 'merememberin': 4691, 'asther': 1292, 'ofsi': 5204, 'breakin': 1679, 'yaxx': 7994, 'ee': 2708, 'poortiyagi': 5612, 'odalebeku': 5185, 'hanumanji': 3501, '1hanuman': 409, '2bajarangabali': 488, '3maruti': 589, '4pavanaputra': 665, '5sankatmochan': 714, '6ramaduth': 763, '7mahav': 794, 'janarig': 4009, 'ivatt': 3986, 'kalisidar': 4114, 'olag': 5229, 'ondu': 5241, 'keluviri': 4144, 'maretar': 4600, 'ind': 3859, 'dodda': 2553, 'problum': 5733, 'nalli': 4932, 'siguviri': 6402, 'idu': 3807, 'matra': 4625, 'neglet': 4983, 'easili': 2687, 'ijust': 3814, 'opp': 5268, 'gei': 3256, 'tron': 7297, 'dl': 2542, 'selfish': 6250, 'spif': 6624, 'workag': 7849, 'supos': 6855, 'therexx': 7078, 'embassi': 2750, 'lightli': 4363, 'checkbox': 1943, 'sac': 6120, 'hundredh': 3755, 'batsman': 1433, 'yetti': 8028, 'jiayin': 4048, '09050000928': 183, 'pobox45w2tg150p': 5575, 'forgotten': 3098, 'revers': 6024, 'mathemat': 4623, '2waxsto': 536, 'yifeng': 8031, 'theyll': 7084, 'slurp': 6481, 'minimum': 4740, '3mile': 590, 'ing': 3883, 'brainless': 1666, 'dolld': 2574, 'vehicl': 7520, 'sariyag': 6166, 'madok': 4555, 'barolla': 1419, '07090201529': 22, 'postpon': 5634, 'elain': 2733, 'tiim': 7139, 'afternon': 1037, 'resiz': 5999, '09066364349': 260, 'box434sk38wp150ppm18': 1651, 'oppos': 5273, 'drunken': 2644, 'msgwe': 4872, 'shortcod': 6364, '83332pleas': 836, '08081263000': 61, 'refundedthi': 5946, 'somerset': 6546, 'overtim': 5334, 'nigpun': 5033, 'dismissi': 2529, 'screwd': 6216, '08712402972': 112, 'bull': 1743, 'float': 3054, '09058095201': 205, 'heehe': 3562, 'arithmet': 1250, 'percentag': 5451, 'chillaxin': 1986, 'iknow': 3817, 'wellda': 7706, 'peril': 5457, 'studentfinanci': 6786, 'crisisspk': 2250, 'monster': 4825, 'ia': 3781, 'obey': 5174, 'uhhhhrmm': 7371, 'mb': 4639, 'gbpsm': 3245, '600': 722, '400': 607, 'deltomorrow': 2420, '09066368470': 263, '24m': 463, '1month': 419, 'smartcal': 6487, '68866': 740, 'subscriptn3gbpwk': 6810, '08448714184': 66, 'stoptxt': 6749, 'landlineonli': 4266, 'mth': 4877, 'cameravideo': 1824, 'textsweekend': 7033, 'callback': 1804, 'orno': 5297, 'fink': 3018, '09099726553': 285, 'carli': 1860, '1minmobsmor': 416, 'lkpobox177hp51fl': 4400, 'youphon': 8058, 'athom': 1302, 'youwanna': 8067, 'jack': 3994, 'sayask': 6186, 'pretend': 5694, 'hypotheticalhuagauahahuagahyuhagga': 3780, 'braini': 1665, 'occas': 5179, 'reflect': 5941, 'desir': 2444, 'affectionsamp': 1029, 'tradit': 7266, 'cantdo': 1840, 'anythingtomorrow': 1196, 'mypar': 4917, 'aretak': 1243, 'outfor': 5317, 'katexxx': 4131, 'level': 4341, 'gate': 3231, '89105': 890, 'ts': 7312, 'lingeri': 4378, 'wwwbridalpetticoatdreamscouk': 7911, 'weddingfriend': 7683, 'board': 1595, 'overh': 5333, 'reslov': 6000, 'inst': 3902, 'pend': 5443, '8o': 903, 'western': 7723, 'outta': 5327, 'nowaday': 5118, 'notixiqu': 5109, 'laxinorf': 4299, 'bambl': 1400, 'entrop': 2786, 'oblising': 5176, 'masteriast': 4618, 'amplikat': 1149, 'fidalf': 2988, 'champlaxig': 1915, 'atroci': 1307, 'wotz': 7869, 'junna': 4096, 'knicker': 4204, '01223585236': 3, 'nikiyu4net': 5036, 'a30': 931, 'divert': 2536, 'wadebridgei': 7606, 'vill': 7551, 'orc': 5286, 'bloomberg': 1582, '447797706009': 627, 'httpcareer': 3729, 'bloombergcom': 1583, 'seek': 6239, 'priscilla': 5715, 'dayexcept': 2357, 'wisdom': 7793, 'wherr': 7748, 'phone750': 5493, 'resolut': 6001, 'replyb': 5984, 'frankgood': 3121, 'logoff': 4419, 'parkin': 5395, 'kent': 4147, 'vale': 7499, 'cannt': 1838, 'asa': 1271, '09050000878': 182, 'wan2': 7633, 'meetgreet': 4661, 'westlif': 7724, '1unbreak': 428, '2untam': 534, '3unkempt': 600, '83049': 832, 'princ': 5708, 'charm': 1929, 'arnt': 1256, 'xxxxxxxxxxxxxx': 7980, 'dorothykiefercom': 2592, 'granit': 3394, 'strongbuy': 6776, 'explos': 2891, 'nasdaq': 4943, 'symbol': 6910, 'cdgt': 1893, 'moneeppolum': 4815, 'allalo': 1110, 'fundament': 3196, 'carewhoev': 1859, '101mega': 300, 'pixel': 5526, '3optic': 593, '5digit': 701, 'doom': 2588, 'peteynoi': 5476, 'timehop': 7146, 'alritehav': 1123, 'js': 4079, 'amx': 1154, 'burgundi': 1751, 'captain': 1846, 'base': 1422, 'placement': 5530, 'amrita': 1151, 'bpo': 1660, 'nighter': 5027, 'persev': 5463, 'wasn': 7647, 'spous': 6655, 'pmt': 5563, 'sumthin': 6836, '4give': 656, 'shldxxxx': 6350, 'thatd': 7050, 'scenario': 6197, 'spunout': 6664, 'wrld': 7887, 'nytho': 5164, 'tx': 7346, 'fonin': 3079, '2mwen': 516, 'frmcloud': 3164, '09071517866': 272, '150ppmpobox10183bhamb64x': 373, '10am': 303, 'devour': 2460, 'airtel': 1076, 'broadband': 1703, 'tens': 7008, 'sprint': 6660, 'prolli': 5749, 'gower': 3379, 'morrow': 4839, 'chik': 1970, 'filth': 3002, '69669': 743, 'saristar': 6165, 'e14': 2674, '9yt': 929, '08701752560': 80, '450p': 636, 'stop2': 6744, '420': 618, '9061100010': 908, 'wire3net': 7792, '1st4term': 423, 'mobcudb': 4791, 'alreadysabarish': 1119, 'jaya': 4019, '09050000460': 180, 'j89': 3992, 'box245c2150pm': 1642, 'inperson': 3895, 'flea': 3045, 'banneduk': 1409, 'itlet': 3970, 'highest': 3612, 'maximum': 4636, '71': 770, 'ny': 5159, 'taj': 6930, 'lesser': 4336, 'known': 4208, 'mumtaz': 4896, 'shahjahan': 6304, 'hari': 3514, 'okcom': 5217, '69101': 741, 'wwwrtfsphostingcom': 7934, 'webadr': 7676, 'gete': 3275, 'incred': 3857, 'o2fwd': 5170, '18ptxt': 400, 'passport': 5408, 'multipli': 4891, 'decim': 2392, 'twin': 7342, 'strt': 6778, 'ltdhelpdesk': 4491, '02085076972': 12, 'equal': 2793, 'unev': 7403, 'peski': 5470, 'cyclist': 2304, 'werear': 7717, 'nalla': 4931, 'adi': 1003, 'entey': 2781, 'nattil': 4951, 'kittum': 4183, 'kavalan': 4133, 'hire': 3622, 'hitman': 3628, '09066660100': 269, '2309': 456, 'cp': 2222, 'outag': 5313, 'conserv': 2157, 'epi': 2791, 'bhaskar': 1529, 'dubsack': 2651, 'individu': 3866, 'gong': 3342, 'kaypoh': 4135, 'basketbal': 1426, 'outdoor': 5315, 'macho': 4545, 'interfu': 3914, 'hustl': 3771, 'forth': 3106, 'audit': 1322, 'harlem': 3516, 'workout': 7853, 'zac': 8083, 'hui': 3749, 'xin': 7963, 'lib': 4346, 'versu': 7528, 'edg': 2700, 'underdtand': 7396, 'itboth': 3960, 'upnot': 7445, 'muchxxlov': 4884, 'locaxx': 4413, '07090298926': 23, 'reschedul': 5992, 'ref9307622': 5936, 'skateboard': 6441, 'despit': 2448, 'thrown': 7121, 'bandag': 1403, 'mytonecomenjoy': 4920, 'html': 3727, 'gbp450week': 3243, 'mfl': 4712, '1146': 316, '23': 455, 'hectic': 3560, 'fell': 2975, 'swoop': 6905, 'wamma': 7631, 'laidwant': 4258, 'doggin': 2562, 'nownyt': 5122, 'langport': 4269, 'virtual': 7561, 'senthil': 6270, 'apnt': 1205, 'pant': 5371, 'waiti': 7615, 'go2sri': 3317, 'lanka': 4271, 'wordnot': 7845, 'mere': 4690, 'relationshipit': 5957, 'wherevr': 7747, 'forevr': 3092, 'gudnyt': 3446, 'plum': 5556, 'smack': 6483, 'alot': 1117, 'attract': 1315, 'promot': 5754, '8714714': 871, 'vega': 7517, 'lou': 4460, 'lancast': 4263, 'neway': 5002, 'couldn': 2204, 'soc': 6526, 'bsn': 1719, 'lobbi': 4410, 'eryth': 2805, 'vewi': 7530, 'lubli': 4497, 'rs5': 6092, '087147123779am7pm': 123, 'sbut': 6190, 'luck2': 4500, 'specifi': 6612, 'domain': 2576, 'nusstu': 5151, 'ohi': 5210, 'hahatak': 3475, 'bari': 1416, 'hudgi': 3744, 'yorg': 8041, 'pataistha': 5413, 'ertini': 2801, 'hasbroin': 3518, 'jump': 4092, 'hoop': 3686, 'lateso': 4290, 'morningtak': 4837, 'dreamsu': 2622, 'meummifyingby': 4710, 'associ': 1290, 'rip': 6051, 'uteru': 7486, 'pool': 5608, 'jacuzzi': 3998, 'x49': 7956, '09065989182': 251, 'colourredtextcolourtxtstar': 2092, '2night': 520, 'wildest': 7775, 'splwat': 6640, 'whr': 7759, 'aldrin': 1092, 'rakhesh': 5854, 'rtm': 6096, 'herepl': 3587, 'callurg': 1818, 'neces': 4967, 'witout': 7806, 'hwd': 3776, 'watll': 7658, 'wth': 7897, 'espel': 2812, '4wrd': 680, 'dearlov': 2379, 'wthout': 7898, 'takecar': 6933, 'univ': 7415, 'raja': 5849, 'burrito': 1755, 'callcoz': 1806, 'terrorist': 7017, 'itz': 3985, 'confirmd': 2148, 'cnn': 2061, 'ibn': 3787, 'stitch': 6734, 'trouser': 7300, '146tf150p': 349, 'cheeto': 1952, 'sync': 6913, 'shangela': 6311, 'hppnss': 3723, 'sorrow': 6577, 'goodfriend': 3350, '08704439680': 86, 'againlov': 1043, 'poo': 5606, 'gloucesterroad': 3309, 'uup': 7489, 'ouch': 5309, 'fruit': 3179, 'stone': 6740, 'glo': 3305, '09058095107': 204, 's3xi': 6117, 'yesmum': 8023, 'wlcome': 7816, 'eaten': 2692, 'timi': 7150, 'mila': 4722, 'age23': 1048, 'blond': 1576, 'mtalk': 4876, '6986618': 747, '30pptxt': 551, '5free': 702, 'increment': 3858, 'help08718728876': 3580, 'fishrman': 3029, 'ful': 3188, 'strtd': 6779, 'throwin': 7120, 'atlast': 1304, '1stone': 425, 'moraldont': 4833, '08717895698': 147, 'mobstorequiz10ppm': 4799, 'physic': 5500, 'arpraveesh': 1259, 'delici': 2416, 'salad': 6135, 'desert': 2441, 'whore': 7757, 'funk': 3198, 'tones2u': 7216, 'twink': 7343, 'scalli': 6192, 'skin': 6446, 'jock': 4056, '08712466669': 118, '08712460324nat': 117, 'flood': 3055, 'bead': 1459, 'wishlist': 7797, 'section': 6234, 'sold': 6536, 'onionr': 5246, 'petrolr': 5478, 'beerr': 1482, 'fakemi': 2922, 'reffer': 5939, 'uif': 7372, 'geti': 3276, 'rsi': 6093, 'weirdi': 7700, '09061701851': 218, 'k61': 4104, '12hour': 334, 'funer': 3197, 'godnot': 3324, 'chikkuk': 1977, 'vivek': 7570, '74355': 778, 'brah': 1662, 'outif': 5320, 'greec': 3411, 'protect': 5767, 'ethreat': 2821, 'sib': 6390, 'sensit': 6266, 'passwordsatmsm': 5411, 'someday': 6541, 'goodmorningmi': 3354, 'grandfath': 3392, 'expiredso': 2886, 'blu': 1586, 'concert': 2138, 'novemb': 5115, '09061104276': 210, '375max': 575, 'yuou': 8079, 'spot': 6653, 'bunch': 1746, 'lotto': 4457, 'authoris': 1330, '645pm': 736, 'honeydid': 3678, 'gimmi': 3290, 'gossx': 3367, 'painit': 5359, 'todaydo': 7183, 'ystrdayic': 8073, 'chile': 1984, 'sublet': 6804, 'febapril': 2965, 'ammaelif': 1141, 'steer': 6715, 'rounderso': 6080, 'truekdo': 7304, 'lambu': 4261, 'ji': 4046, 'cometil': 2100, 'batchlor': 1430, 'zoom': 8093, 'nowsend': 5127, '62220cncl': 729, 'stopc': 6747, '08717890890': 146, 'chees': 1950, 'pink': 5519, 'ringtonefrom': 6047, 'httptm': 3733, 'widelivecomindex': 7765, 'wmlid1b6a5ecef91ff937819firsttrue180430jul05': 7818, 'xafter': 7958, 'cst': 2263, 'pure': 5798, 'hisher': 3623, 'smiley': 6496, 'gail': 3210, 'wrongtak': 7891, 'worryc': 7861, 'hunlov': 3759, 'yaxxx': 7995, 'theoret': 7069, 'formallypl': 3102, 'prayingwil': 5667, 'multimedia': 4890, 'senthilhsbc': 6271, 'agenc': 1049, 'nicki': 5022, 'gumbi': 3454, 'httpalto18coukwavewaveaspo44345': 3728, 'tarpon': 6952, 'cab': 1781, 'availablethey': 1338, 'step': 6716, 'careumma': 1858, 'call2optouthf8': 1798, '09061702893': 220, '08719181259': 170, '260305': 471, 'deartak': 2385, 'radiat': 5839, 'proper': 5761, 'tongu': 7221, 'qi': 5815, 'suddenli': 6818, 'flurri': 3063, 'melt': 4674, 'ground': 3423, 'eek': 2709, 'born': 1623, 'freerington': 3142, 'real1': 5893, 'pushbutton': 5804, 'dontcha': 2584, 'babygoodby': 1374, 'golddigg': 3334, 'webeburnin': 7677, 'nigh': 5025, 'nooooooo': 5087, 'cabl': 1783, 'so': 6524, 'playin': 5544, 'guoyang': 3455, 'rahul': 5843, 'dengra': 2426, 'antelop': 1184, 'toplay': 7239, 'fieldof': 2990, 'selfindepend': 6249, 'growrandom': 3429, 'gnarl': 3314, 'barkley': 1417, 'borderlin': 1620, '545': 699, 'nightnight': 5028, 'groov': 3421, 'mise': 4752, 'secur': 6235, 'unsecur': 7426, '195': 402, '6669': 738, 'lanr': 4272, 'fakey': 2923, 'eckankar': 2697, 'ph': 5480, '3000': 545, '09061743386': 221, 'heater': 3556, 'dodgey': 2554, 'call2optout674': 1796, 'faceasssssholeee': 2907, 'ceri': 1906, 'rebel': 5904, 'dreamz': 2623, 'ringtonek': 6049, '84484': 850, 'nationwid': 4950, 'newport': 5004, 'juliana': 4090, 'nacho': 4924, 'eta': 2817, 'dizzamn': 2540, 'suitem': 6829, 'nimbomson': 5037, 'contin': 2166, 'housew': 3710, '08717507711': 144, 'btnation': 1725, '087104711148': 99, 'fiendmak': 2991, 'muchimped': 4883, 'ow': 5338, 'deyi': 2463, '60400thousadi': 724, 'sumthinxx': 6837, 'nose': 5098, 'essay': 2814, 'tram': 7270, 'vic': 7534, 'coher': 2076, 'tripl': 7294, 'echo': 2696, 'gran': 3390, 'onlyfound': 5254, 'afew': 1025, 'agocusoon': 1054, 'honi': 3680, 'dial': 2469, 'bx526': 1776, 'univers': 7416, 'southern': 6592, 'california': 1792, 'rayan': 5876, 'macleran': 4547, 'ball': 1396, 'olav': 5230, 'mandara': 4586, 'trishul': 7295, 'woo': 7835, 'hoo': 3682, 'panti': 5373, 'thout': 7112, '09066364311': 259, 'flatter': 3043, 'pint': 5521, 'carlin': 1861, 'liter': 4393, 'ciao': 2014, 'x49your': 7957, 'timey': 7148, 'wknd': 7814, 'yalrigu': 7987, 'heltiniiyo': 3582, 'kothi': 4224, 'meso': 4696, 'meok': 4687, 'chikkub': 1973, 'noic': 5068, 'esaplanad': 2806, '08709501522': 97, '139': 343, 'la3': 4243, '2wu': 540, 'prof': 5741, 'sem': 6253, 'enna': 2776, 'kalaachutaarama': 4112, 'coco': 2072, 'sporad': 6649, '09064017305': 239, 'pobox75ldns7': 5576, 'tbspersolvo': 6967, 'for': 3087, '38': 576, 'kath': 4132, 'manchest': 4583, 'burden': 1749, 'noworriesloanscom': 5124, '08717111821': 140, 'harder': 3511, 'nbme': 4960, 'villa': 7552, 'sathya': 6171, 'gam': 3218, 'religi': 5962, 'hero': 3593, 'tip': 7153, '07973788240': 46, '08715203649': 131, 'muhommad': 4887, 'penni': 5447, 'fite': 3031, 'hwkeep': 3777, 'mj': 4774, 'unconvinc': 7393, 'willpow': 7778, 'absenc': 952, 'answerin': 1182, 'evey': 2847, 'mnth': 4787, 'prin': 5707, 'gsoh': 3435, 'spam': 6600, 'ladiesu': 4253, 'gigolo': 3288, 'oncal': 5240, 'mjzgroup': 4775, '087143423992stop': 122, '150rcvd': 381, 'ashwini': 1277, '08707500020': 90, 'tomorrowtoday': 7212, 'ukp2000': 7377, '09061790125': 228, 'jokethet': 4065, 'skinni': 6447, 'liney': 4377, 'elect': 2737, 'shouldn': 6370, '116': 318, 'hlday': 3634, 'camp': 1825, 'amrca': 1150, 'serena': 6275, 'prescrib': 5682, 'kappa': 4126, 'meatbal': 4653, 'approv': 1225, 'panalambut': 5364, 'spjanuari': 6631, 'fortun': 3107, 'allday': 1111, 'perf': 5452, 'receipts': 5911, 'wel': 7703, '98321561': 918, 'familiar': 2930, 'infact': 3870, 'simpson': 6412, 'band': 1402, 'agreen': 1056, 'bblue': 1444, 'cred': 2240, 'can': 1828, 'shite': 6342, 'kip': 4178, 'hont': 3681, 'amanda': 1133, '3680': 571, 'subject': 6803, 'perspect': 5468, 'sonot': 6562, 'debat': 2387, 'httpwwwwtlpcouktext': 3740, 'jb': 4023, 'youso': 8062, 'florida': 3058, 'teeth': 6987, 'hidden': 3608, 'royal': 6085, 'tog': 7189, 'swhrt': 6898, 'deyhop': 2462, '2daylov': 493, 'misstak': 4763, '0906346330': 233, '47': 641, 'po19': 5565, '2ez': 497, 'ifwhenhow': 3811, 'dayha': 2358, 'valuemorn': 7505, 'hopeafternoon': 3689, 'faitheven': 2920, 'luvnight': 4516, 'restwish': 6013, 'todaygood': 7185, 'jetton': 4043, 'friendofafriend': 3158, 'cmon': 2058, 'sticki': 6728, 'lunsford': 4511, '0796xxxxxx': 45, 'day2': 2355, 'prizeawait': 5721, 'kfc': 4156, 'gravi': 3401, 'dahe': 2315, 'daalway': 2308, 'thisdon': 7097, 'messagepandi': 4701, '07008009200': 20, 'mw': 4911, 'tuth': 7332, 'evict': 2848, 'spiral': 6628, 'michael': 4716, 'riddanc': 6035, 'raglan': 5842, 'edward': 2707, 'closebi': 2045, 'dapleas': 2331, 'skye': 6452, 'bookedth': 1613, 'hut': 3772, 'drastic': 2614, 'indic': 3865, '3750': 574, 'garment': 3229, 'sez': 6293, 'arab': 1234, 'evry1': 2857, 'eshxxxxxxxxxxx': 2810, 'bimbo': 1542, 'ugo': 7369, '241': 459, '3lion': 587, 'porteg': 5620, 'm100': 4526, 'semiobscur': 6256, 'gpr': 3380, 'repeat': 5980, 'loosu': 4442, 'careless': 1855, 'myspac': 4918, 'method': 4709, 'blur': 1592, 'jewelri': 4044, 'breaker': 1677, 'delux': 2421, 'featur': 2963, 'graphic': 3396, 'bbdelux': 1441, 'lush': 4512, 'fumbl': 3192, 'day2find': 2356, 'taunton': 6959, 'weekday': 7690, 'haiz': 3482, 'nail': 4929, 'common': 2110, 'asia': 1278, 'greatest': 3409, 'defeat': 2405, 'heartgn': 3552, 'stil': 6730, 'tobe': 7178, '430': 623, 'pimpl': 5516, 'natalja': 4948, '25f': 469, 'yes440': 8014, 'no440': 5055, 'wwwsmsacunat27081980': 7940, 'asthma': 1293, 'attack': 1309, 'spin': 6626, 'haiyoh': 3481, '02': 6, 'prsn': 5773, 'somtim': 6557, 'sunlight': 6842, 'bcozi': 1454, 'loss': 4449, 'audiit': 1321, 'reloc': 5963, 'pock': 5581, 'brison': 1697, 'cap': 1842, 'bullshit': 1744, 'gwr': 3461, 'motherfuck': 4843, 'kit': 4181, '1013': 299, 'ig11': 3812, 'oja': 5214, '08712402578': 109, 'thesmszonecom': 7082, 'anonym': 1177, 'mask': 4613, 'messagesim': 4702, 'theredo': 7074, 'woodland': 7837, 'avenu': 1345, 'parish': 5392, 'magazin': 4560, 'billi': 1539, 'awww': 1356, 'useless': 7474, 'loo': 4434, 'shelf': 6324, 'swollen': 6904, 'gland': 3302, 'previou': 5700, 'bcaz': 1447, 'stu': 6781, '2im': 506, 'trubl': 7301, 'evon': 2853, 'mokka': 4808, 'view': 7545, 'dual': 2649, 'hostil': 3701, 'haircut': 3479, 'breezi': 1684, '09061744553': 225, 'polyh': 5599, '1appledayno': 404, '1tulsi': 426, 'leafdayno': 4310, '1lemondayno': 413, '1cup': 406, 'milkdayno': 4726, 'bone': 1607, 'problm': 5732, 'litr': 4394, 'watrdayno': 7659, 'diseas': 2525, 'snd': 6513, 'lavend': 4297, 'manki': 4593, 'scous': 6210, 'stevelik': 6722, 'homewot': 3671, 'inmind': 3888, 'recreat': 5926, 'epsilon': 2792, 'mesag': 4694, 'judgementali': 4086, 'hidid': 3610, 'waheeda': 7611, 'bot': 1628, 'eventu': 2834, 'toler': 7200, '0789xxxxxxx': 43, 'hellogorg': 3571, 'lst': 4486, 'nitw': 5047, 'texd': 7023, 'hopeu': 3691, '4ward': 679, 'cin': 2015, 'jaz': 4021, '09058091870': 195, 'exorc': 2877, 'emili': 2753, 'evri': 2856, 'emot': 2754, 'dsnt': 2647, 'wordsevri': 7846, 'prayr': 5668, 'uothrwis': 7434, 'uso': 7482, 'ujhhhhhhh': 7374, 'sandiago': 6151, 'parantella': 5384, 'sweater': 6891, 'mango': 4590, 'massiv': 4616, 'landmark': 4267, 'bob': 1598, 'barri': 1421, '83738': 843, 'fineabsolutli': 3011, 'consent': 2156, 'form': 3100, 'tonex': 7219, 'wwwclubzedcouk': 7914, 'wwwtcbiz': 7943, 'polo': 5595, '373': 573, 'w1j': 7597, '6hl': 756, 'mathew': 4624, 'tait': 6929, 'anderson': 1160, 'haunt': 3525, 'crowd': 2254, '8000930705': 804, 'snowboard': 6521, 'goa': 3318, 'christmassi': 2010, 'recpt': 5925, '13': 338, 'baaaaaaaab': 1368, 'shola': 6353, 'academ': 960, 'sagamu': 6130, 'lautech': 4296, 'vital': 7567, 'zealand': 8085, 'qet': 5814, 'browser': 1713, 'gb': 3240, 'wellyou': 7709, 'lifey': 4358, 'thati': 7052, 'convers': 2172, 'usget': 7477, 'timeyour': 7149, 'sensesrespect': 6264, 'overemphasiseor': 5332, 'headset': 3542, 'adp': 1012, 'intern': 3915, 'extract': 2897, 'godyou': 3326, 'skint': 6448, 'bevieswaz': 1523, 'othr': 5306, 'watchng': 7653, 'planet': 5535, 'earthsofa': 2683, 'comfey': 2101, 'least5tim': 4315, 'wudnt': 7900, 'coast': 2064, 'ima': 3824, 'frequent': 3149, 'cupboard': 2282, 'rout': 6081, '2mro': 514, 'floppi': 3057, 'snappi': 6511, 'grasp': 3397, 'flavour': 3044, 'lareadi': 4278, 'deni': 2427, 'dom': 2575, 'ffffuuuuuuu': 2985, 'julianaland': 4091, 'oblivi': 5177, 'upsetit': 7449, 'mapquest': 4596, 'dogwood': 2563, 'tini': 7152, 'archiv': 1237, 'ukmobiled': 7376, '08719839835': 173, 'mg': 4713, '89123': 891, 'behalf': 1490, 'stun': 6796, 'visa': 7562, 'gucci': 3440, 'babesozi': 1372, 'culdnt': 2277, 'talkbut': 6939, 'wannatel': 7636, 'wenwecan': 7715, 'smsing': 6504, 'effici': 2713, 'explicit': 2889, '30': 543, '02073162414': 11, '20pmin': 446, '515pm': 690, 'erutupalam': 2804, 'thandiyachu': 7036, 'invent': 3926, 'flyim': 3065, 'noit': 5071, 'lyric': 4524, 'nevr': 5000, 'unrecogn': 7424, 'somon': 6556, 'definitli': 2408, 'undrstnd': 7400, 'ger': 3271, 'toke': 7194, 'syd': 6908, 'lehhaha': 4326, 'khelat': 4160, 'kintu': 4176, 'opponent': 5269, 'dhort': 2467, 'lage': 4255, 'looovvv': 4440, 'warwick': 7645, 'tmw': 7173, 'parad': 5380, 'proze': 5772, 'norcorp': 5091, '150mtmsgrcvd18': 356, 'chennaibecaus': 1955, '7cfca1a': 791, 'grumbl': 3431, 'linear': 4375, 'algebra': 1099, 'decor': 2396, '946': 914, 'roomat': 6075, 'graduat': 3387, 'adjust': 1004, 'cooper': 2182, 'nottingham': 5111, '63mile': 734, '40mph': 614, 'clearli': 2037, 'thanku': 7042, '89938': 895, 'string': 6771, '150ea': 353, 'otbox': 5303, '731': 777, 'la1': 4242, '7w': 800, 'itxx': 3984, 'besid': 1511, 'brisk': 1696, 'sexiest': 6289, 'dirtiest': 2513, '89070': 888, 'steve': 6721, 'tellmiss': 6996, 'contribut': 2169, 'greatli': 3410, 'urgh': 7460, 'coach': 2063, 'duvet': 2669, 'chatim': 1935, 'w8in': 7601, '4utxt': 677, 'url': 7465, '24th': 464, 'beverag': 1522, 'vpist': 7587, 'surrend': 6871, 'symptom': 6912, 'rdi': 5884, 'itnow': 3975, 'backward': 1382, 'abstract': 954, 'vikkyim': 7549, 'africa': 1034, 'avin': 1346, 'chitchat': 1995, 'logon': 4420, '8883': 883, '4217': 620, 'w1a': 7596, '6zf': 768, '118pmsg': 320, 'quiteamuz': 5829, 'scool': 6204, 'babeprobpop': 1371, 'cu': 2272, 'satthen': 6177, '4brekki': 649, 'psxtra': 5778, 'lrg': 4482, 'portion': 5621, '1000call': 295, '09071512432': 270, '300603tcsbcm4235wc1n3xxcallcost150ppmmobilesvari': 547, 'fixd': 3034, 'bthmm': 1724, 'njan': 5049, 'vilikkamt': 7550, 'sudn': 6819, 'chapter': 1922, 'chop': 2001, 'noooooooo': 5088, '09065171142stopsms08718727870150ppm': 246, 'firsg': 3025, 'split': 6638, 'heat': 3555, 'sumf': 6833, '86888': 864, 'subscribe6gbpmnth': 6808, '3hr': 586, 'hopeso': 3690, 'amnow': 1143, 'feelin': 2971, 'ithink': 3966, 'tonsolitusaswel': 7226, 'layin': 4301, 'bedreal': 1472, 'lotsof': 4455, 'hiphop': 3621, 'oxygen': 5344, 'resort': 6003, 'roller': 6070, 'cannam': 1836, 'capit': 1844, 'australia': 1329, 'mquiz': 4856, 'showr': 6376, 'upon': 7446, 'ceil': 1895, 'presnt': 5689, 'bcz': 1456, 'jeevithathil': 4029, 'irulina': 3946, 'neekunna': 4979, 'prakasamanu': 5659, 'sneham': 6514, 'prakasam': 5658, 'ennal': 2777, 'prabha': 5650, 'mn': 4786, 'islov': 3953, '7634': 782, '7684': 783, 'firmwar': 3024, 'vijaykanth': 7547, 'comedi': 2097, 'tvhe': 7334, 'anythi': 1194, 'wwwclubmobycom': 7913, '08717509990': 145, 'polytruepixringtonesgam': 5602, 'keypad': 4154, 'btwn': 1729, 'decad': 2389, 'gover': 3376, 'loyal': 4480, '09066380611': 265, 'spice': 6621, 'prasanth': 5663, 'ettan': 2822, '08718738002': 166, '48922': 646, '211104': 448, 'appi': 1215, 'fizz': 3036, 'contain': 2164, 'genu': 3266, 'robinson': 6062, 'nottel': 5110, 'out': 5312, 'soz': 6594, 'imat': 3828, 'freind': 3146, 'msgsometext': 4869, '07099833605': 24, 'ref9280114': 5935, 'chloe': 1997, '150ptext': 377, 'wewa': 7730, '130': 339, 'iriv': 3943, '255': 468, '128': 333, 'bw': 1772, 'dajst': 2319, 'hmmmbut': 3641, 'surli': 6868, '07808726822': 39, '08718729758': 162, 'dokey': 2571, 'mmmmmmm': 4784, 'snuggl': 6523, 'whisper': 7752, 'healthi': 3546, '2bold': 489, 'givit': 3300, 'kanoanyway': 4123, 'scrape': 6211, 'barrel': 1420, 'misfit': 4754, 's8': 6118, 'sleepin': 6461, 'clearer': 2036, 'peach': 5434, 'rayman': 5877, 'golf': 3337, 'activ8': 990, 'termsappli': 7013, 'therel': 7076, 'minor': 4742, 'shindig': 6336, 'minstext': 4745, 'phonebook': 5494, 'keng': 4146, 'ash': 1275, 'shijutta': 6334, 'kafter': 4108, 'offens': 5192, 'bbdtht': 1443, 'dvg': 2671, 'coldheard': 2082, 'vinobanagar': 7554, 'conditionand': 2141, 'ovulatewhen': 5337, 'woah': 7824, 'orh': 5294, 'n8': 4921, 'darlinim': 2338, 'soonxxx': 6569, 'coolmob': 2180, 'frogaxel': 3173, 'akonlon': 1084, 'eyeddont': 2902, 'cashbincouk': 1875, 'wwwcashbincouk': 7912, 'canteen': 1841, 'stressful': 6766, 'ni8swt': 5015, 'presid': 5687, '140': 344, 'ardé': 1239, '180': 395, 'leastwhich': 4316, 'bedrm': 1473, 'hitechn': 3626, 'supportprovid': 6859, 'assist': 1289, '1172': 319, 'built': 1741, 'lonlin': 4433, 'lotz': 4459, 'gailxx': 3211, 'hii': 3613, 'complac': 2119, 'mina': 4731, 'miwa': 4772, 'hsbc': 3726, 'woulda': 7872, '09066649731from': 268, 'opposit': 5274, 'heavili': 3559, 'doll': 2572, 'patrick': 5418, 'swayz': 6889, 'santa': 6155, '09077818151': 273, 'calls150ppm': 1816, 'wwwsantacallingcom': 7935, 'miser': 4753, 'quarter': 5819, 'nervou': 4988, 'limp': 4372, 'aa': 932, '0784987': 42, '08719180219': 168, '060505': 18, 'oga': 5206, 'poorli': 5611, 'brb': 1672, 'smaller': 6485, 'capac': 1843, 'smsshsexnetun': 6506, 'fgkslpopw': 2987, 'fgkslpo': 2986, '0871277810710pmin': 119, 'defer': 2406, 'admiss': 1008, 'checkmat': 1945, 'chess': 1960, 'persian': 5464, 'phrase': 5499, 'shah': 6303, 'maat': 4538, 'rat': 5868, 'pee': 5437, 'photoshop': 5497, '08715203652': 132, '42810': 622, '29100': 485, 'shoppin': 6356, 'toopray': 7232, 'inshah': 3899, 'allah': 1107, 'sthi': 6726, 'increas': 3856, 'wifedont': 7768, 'iti': 3967, 'toolet': 7230, 'north': 5096, 'carolina': 1865, 'texa': 7022, 'gre': 3405, 'bomb': 1606, 'weapon': 7670, 'nightswt': 5032, 'dreamstak': 2621, 'lovli': 4475, 'messagethank': 4705, '150pmsgrcvd': 366, 'customercar': 2293, '08718726270': 153, 'playi': 5543, 'cla': 2022, 'lit': 4392, 'loooooool': 4439, 'couch': 2199, 'swashbuckl': 6885, '5terror': 715, '6cruel': 754, '7romant': 797, '8lovabl': 901, '9decent': 923, 'joker': 4064, 'dip': 2506, 'gek1510': 3257, 'nuther': 5152, 'lyricalladie21f': 4525, 'yes910': 8016, 'no910': 5059, 'wwwsmsacuhmmross': 7939, 'happiest': 3507, 'crisi': 2249, 'whenwher': 7742, 'antibiot': 1187, 'abdomen': 940, 'gyna': 3464, 'infect': 3871, '6time': 766, 'chastiti': 1932, 'devic': 2458, 'beat': 1461, 'gut': 3457, 'tallahasse': 6942, 'ou': 5308, 'taka': 6931, 'pobox202': 5571, 'nr31': 5132, '7z': 801, '450pw': 638, 'ritten': 6055, 'fold': 3071, 'warner': 7643, '83118': 834, 'colin': 2083, 'farrel': 2939, 'swat': 6886, 'popcornjust': 5615, 'msgticketkioskvalid': 4871, '4712': 642, 'kiosk': 4177, 'mre': 4858, 'solihul': 6537, 'nh': 5013, 'mistakeu': 4767, 'bornpleas': 1624, '2b': 487, 'terminatedw': 7012, 'inconveni': 3854, 'henri': 3585, 'yard': 7992, 'bergkamp': 1510, 'margin': 4602, '78': 785, 'itsnot': 3979, 'parentnot': 5388, 'unintent': 7411, 'nonetheless': 5084, 'hooch': 3683, 'toaday': 7176, 'splat': 6636, 'graze': 3404, 'confirmdeni': 2149, 'hearin': 3550, 'yah': 7985, 'tortur': 7245, 'sexychat': 6292, 'startedindia': 6697, 'kkcongratul': 4188, 'court': 2214, 'chapel': 1921, 'frontiervil': 3177, 'mountain': 4848, 'deer': 2402, 'maili': 4569, 'varma': 7510, 'membershiptak': 4677, 'careinsha': 1854, 'fart': 2940, 'ortxt': 5298, 'advisor': 1022, 'diall': 2470, '402': 609, 'woot': 7839, 'ahhhhjust': 1062, 'uphad': 7443, 'thoso': 7105, 'viveki': 7572, '96': 916, 'dado': 2313, 'experiencehttpwwwvouch4mecometlpdiningasp': 2883, 'kaila': 4110, '09058094507': 198, 'donat': 2578, 'unicef': 7409, 'asian': 1279, 'fund': 3195, '864233': 862, 'cme': 2057, 'collaps': 2085, 'jade': 4000, 'paul': 5421, 'barm': 1418, 'thinkthi': 7094, 'goldvik': 3336, '29m': 486, 'yes762': 8015, 'no762': 5056, 'wwwsmsacugoldvik': 7938, 'coulda': 2203, 'phoni': 5495, '1230': 329, 'okday': 5218, 'buz': 1768, 'wedlunch': 7684, 'outsomewher': 5325, 'adrink': 1015, 'towncud': 7258, '2watershd': 535, 'fromwrk': 3175, 'bthere': 1723, 'petexxx': 5474, 'hmph': 3647, 'baller': 1397, 'punto': 5794, 'ayo': 1361, '125': 330, 'freeentri': 3132, 'xt': 7967, 'toyota': 7261, 'camri': 1827, 'olayiwola': 5231, 'mileag': 4724, 'clover': 2051, 'numberpl': 5145, 'idconvey': 3799, 'achanammarakheshqatar': 977, 'rencontr': 5974, '08714712412': 127, 'galsu': 3217, 'nìte': 5167, 'puppi': 5795, 'nois': 5069, 'sarasota': 6161, '150pmeg': 362, '08715203685': 135, 'code4xx26': 2074, '131004': 340, 'deepest': 2401, 'darkest': 2335, '09094646631': 277, 'nat': 4946, 'vldo': 7574, 'adsens': 1016, 'dudett': 2655, 'perumbavoor': 5469, 'stage': 6684, 'cherish': 1958, 'clarifi': 2027, 'prepon': 5680, 'natali': 4947, '20f': 443, 'yes165': 8012, 'no165': 5053, 'wwwsmsacunatalie2k9': 7941, 'younger': 8057, 'wallpap': 7627, '08701213186': 74, 'liver': 4397, 'hmmmstill': 3646, 'loneli': 4430, 'skyve': 6454, 'onword': 5258, 'mtnl': 4878, 'mumbai': 4893, '83039': 831, '62735': 732, 'accommodationvouch': 969, 'mustprovid': 4907, '15541': 387, 'rajitha': 5852, 'ranju': 5866, '5p': 712, 'tscs08714740323': 7315, '1winawk': 430, '150perweeksub': 359, 'dearslp': 2384, 'welltak': 7708, 'careswt': 1857, 'dreamsmuah': 2620, '09066361921': 255, 'disagre': 2514, 'afterward': 1039, 'battl': 1436, 'vivekanand': 7571, 'uawakefeellikw': 7362, 'shitjustfound': 6344, 'alett': 1095, 'thatmum': 7054, 'gotmarri': 3371, '4thnovbehind': 672, 'ourback': 5310, 'fuckinniceselfishdeviousbitchanywayi': 3184, 'rearrang': 5901, 'dormitori': 2591, 'astronom': 1297, 'starer': 6694, 'recount': 5923, 'motherinlaw': 4844, 'hitler': 3627, 'eleven': 2740, 'worm': 7858, 'dysentri': 2673, 'andr': 1162, 'virgil': 7559, 'lorgoin': 4445, 'gokila': 3332, 'shanilrakhesh': 6313, 'herethanksi': 3589, 'exchang': 2866, 'uncut': 7395, 'stuffleav': 6794, 'dino': 2504, 'kkthi': 4194, 'kote': 4223, 'themobhit': 7065, 'panther': 5372, 'sugabab': 6823, 'zebra': 8086, 'badass': 1384, 'hoodi': 3684, 'wallpaperal': 7628, 'resent': 5995, 'queri': 5822, 'customersqueriesnetvisionukcom': 2294, 'hassl': 3520, 'haughaighgtujhyguj': 3523, 'fassyol': 2941, 'blacko': 1560, 'londn': 4427, '4eva': 652, '08715205273': 137, 'vco': 7515, 'reassur': 5903, 'aslamalaikkuminsha': 1283, 'tohar': 7191, 'beeen': 1477, 'muht': 4888, 'albi': 1088, 'mufti': 4886, 'mahfuuzmean': 4566, '078': 35, 'enufcredeit': 2787, 'tocallshal': 7179, 'ileav': 3819, 'okor': 5224, 'ibor': 3788, 'zero': 8088, 'goigng': 3329, 'perfum': 5455, 'sday': 6221, 'joinedso': 4062, 'grocer': 3420, 'franki': 3122, 'benni': 1509, 'diaper': 2473, 'unlik': 7419, 'patient': 5417, 'turkey': 7330, 'dawher': 2352, 'garden': 3227, 'bulb': 1742, 'seed': 6238, '3350': 564, 'scotsman': 6209, 'go2': 3316, 'notxtcouk': 5112, 'wenev': 7713, 'familymay': 2931, 'stabil': 6679, 'tranquil': 7271, 'vibrant': 7532, 'bawl': 1437, 'failur': 2916, 'velusami': 7523, 'facil': 2909, 'karnan': 4128, 'bluray': 1593, 'salt': 6144, 'wound': 7874, 'geoenvironment': 3268, 'implic': 3836, 'gentli': 3265, 'fuuuuck': 3204, 'salmon': 6142, 'wrkin': 7885, 'ree': 5933, 'compens': 2117, 'awkward': 1354, 'splash': 6634, 'musta': 4905, 'overdid': 5330, 'wwwtelediscountcouk': 7944, 'hiwhat': 3631, 'gastroenter': 3230, 'reduc': 5932, 'chuck': 2011, 'nightsw': 5031, 'port': 5618, 'liaotoo': 4345, 'juswok': 4101, 'boatin': 1597, 'spinout': 6627, 'remet': 5971, '08715203656': 133, '42049': 619, '261004': 472, 'uworld': 7494, 'qbank': 5813, 'assess': 1287, 'someonon': 6544, '09064015307': 237, 'tke': 7164, 'temal': 7000, 'vidnot': 7544, 'finishd': 3017, '09061213237': 213, '177': 393, 'm227xi': 4528, 'dull': 2658, 'treadmil': 7283, 'craigslist': 2228, 'absolut': 953, 'drmstake': 2635, 'swan': 6882, 'moyep': 4854, 'sall': 6141, 'hehe': 3563, 'shexi': 6329, 'teethif': 6989, 'asapok': 1273, 'hellohow': 3572, 'doingwhat': 2567, '2when': 537, 'lamp': 4262, 'latebut': 4286, 'kwish': 4234, 'foward': 3114, '09061790126': 229, 'misundrstud': 4768, '2u2': 533, 'gene': 3259, 'wwwldewcom1win150ppmx3age16subscript': 7925, 'reappli': 5900, 'treatin': 7286, 'treacl': 7282, 'mumha': 4894, 'beendrop': 1479, 'theplac': 7071, 'adress': 1013, 'moneyi': 4818, 'favorit': 2957, 'oyster': 5346, 'sashimi': 6167, 'rumbl': 6107, 'marandratha': 4598, 'topic': 7237, 'correctli': 2192, 'sirsalam': 6426, 'alaikkumprid': 1086, 'shopw': 6358, 'qatarrakhesh': 5812, 'indianpl': 3864, 'numberrespect': 5146, 'galcan': 3214, 'boyi': 1658, 'galno': 3216, 'heaven': 3557, 'princegn': 5709, 'pisc': 5522, 'aquariu': 1232, 'steyn': 6724, 'wicket': 7762, 'sterm': 6720, 'resolv': 6002, 'jam': 4002, 'hannaford': 3500, 'wheat': 7735, 'chex': 1962, 'pride': 5705, 'grownup': 3428, 'stuffwhi': 6795, 'jerk': 4037, 'stink': 6733, 'textcomp': 7029, 'subsequ': 6812, 'charged150pmsg2': 1925, '84128custcar': 848, 'upcharg': 7437, '8hr': 899, 'guai': 3438, 'bottl': 1630, 'amus': 1153, 'astrolog': 1296, 'slack': 6456, 'officestil': 5196, 'formsdon': 3105, 'mentor': 4685, 'percent': 5450, '09095350301': 279, 'erot': 2798, 'ecstaci': 2698, 'dept': 2435, '13404': 342, '08717507382': 143, 'datingi': 2346, 'coincid': 2079, 'sane': 6152, '151': 384, 'paus': 5422, 'gr8prize': 3384, '8800': 874, 'psp': 5777, 'wktxt': 7815, 'httpwwwgr8prizescom': 3738, 'spacebuck': 6597, '02070836089': 9, 'squeez': 6668, 'meremov': 4692, '5i': 706, 'dread': 2617, 'thou': 7107, 'forgt': 3099, 'ajith': 1081, 'ooooooh': 5262, 'yovil': 8069, 'mega': 4664, 'asda': 1274, 'bff': 1527, 'someonethat': 6543, 'seperated鈥': 6272, '〨ud': 8097, 'brolli': 1706, 'franxx': 3123, 'welli': 7707, 'prometazin': 5750, 'syrup': 6915, '5ml': 710, 'feed': 2969, 'shu': 6382, 'singapor': 6418, 'victoria': 7536, 'pocay': 5579, 'wocay': 7825, '2morrowxxxx': 513, 'broth': 1707, 'ramen': 5858, 'fowler': 3115, 'ksri': 4226, 'sivatat': 6435, 'flew': 3047, '09058094583': 200, '1526': 385, 'pubcaf': 5786, 'attent': 1313, 'tix': 7162, 'fne': 3069, 'youdo': 8048, 'worc': 7842, 'foreg': 3089, 'shrub': 6381, 'get4an18th': 3274, '32000': 558, 'legitimat': 4324, 'efreefon': 2714, 'shopth': 6357, 'pendent': 5444, 'toilet': 7192, 'stolen': 6737, 'cop': 2183, 'hu': 3741, 'navig': 4958, 'guidanc': 3450, 'chick': 1967, 'boob': 1611, 'sparkl': 6604, '45': 634, '0121': 2, '2025050': 442, 'wwwshortbreaksorguk': 7936, 'gyno': 3465, 'wwwgambtv': 7920, 'treasur': 7284, 'wmlid820554ad0a1705572711firsttrue': 7819, 'ringtone': 6046, '09050000332': 179, 'neg': 4981, 'hmmmm': 3645, 'dhoni': 2466, 'titleso': 7160, 'command': 2106, 'holbi': 3656, '09064017295': 238, 'li': 4342, 'yeovil': 8009, 'motor': 4846, 'rhode': 6031, 'bong': 1608, 'ofcours': 5188, '2p': 525, '08448350055': 65, 'planettalkinstantcom': 5537, 'loti': 4452, 'marvel': 4612, 'spiderman': 6623, 'spider': 6622, '83338': 837, '8ball': 898, 'tamilnaduthen': 6944, '07808247860': 38, '08719899229': 175, '40411': 611, '061104': 19, 'apo': 1206, 'identif': 3802, 'boundari': 1633, 'endless': 2762, 'lorw': 4446, 'young': 8056, 'referin': 5938, 'liaoso': 4344, 'saibaba': 6131, 'colani': 2080, 'chic': 1966, 'declar': 2395, '49557': 647, '261104': 473, 'disappoint': 2516, 'tantrum': 6947, 'compliment': 2125, 'chief': 1969, 'gsex': 3434, '2667': 474, 'wc1n': 7666, '3xx': 605, '3mobil': 592, 'chatlin': 1936, 'inclu': 3849, 'l8er': 4238, 'bailiff': 1391, 'mous': 4849, 'desk': 2445, 'childporn': 1982, 'jumper': 4093, 'hat': 3521, 'belt': 1503, 'cribb': 2246, 'spiritu': 6630, 'sudden': 6817, 'influx': 3873, 'kane': 4120, 'shud': 6383, 'pshewmiss': 5776, 'accent': 962, '4year': 681, 'dental': 2429, 'nmde': 5050, 'dump': 2660, 'heap': 3547, 'salesman': 6139, '087187272008': 158, 'now1': 5116, 'piti': 5524, 'soani': 6525}\n"
     ]
    }
   ],
   "source": [
    "print(cv.vocabulary_)"
   ]
  },
  {
   "cell_type": "code",
   "execution_count": 24,
   "metadata": {},
   "outputs": [],
   "source": [
    "from sklearn.feature_extraction.text import TfidfTransformer"
   ]
  },
  {
   "cell_type": "code",
   "execution_count": 25,
   "metadata": {},
   "outputs": [],
   "source": [
    "tf=TfidfTransformer()"
   ]
  },
  {
   "cell_type": "code",
   "execution_count": 26,
   "metadata": {},
   "outputs": [
    {
     "data": {
      "text/plain": [
       "(5169, 8098)"
      ]
     },
     "execution_count": 26,
     "metadata": {},
     "output_type": "execute_result"
    }
   ],
   "source": [
    "X_tf=tf.fit_transform(X_count)\n",
    "X_tf.shape"
   ]
  },
  {
   "cell_type": "code",
   "execution_count": 27,
   "metadata": {},
   "outputs": [],
   "source": [
    "from sklearn.naive_bayes import MultinomialNB\n",
    "clf = MultinomialNB().fit(X_tf,X['Label'])"
   ]
  },
  {
   "cell_type": "code",
   "execution_count": 28,
   "metadata": {},
   "outputs": [
    {
     "data": {
      "text/plain": [
       "0.975817372799381"
      ]
     },
     "execution_count": 28,
     "metadata": {},
     "output_type": "execute_result"
    }
   ],
   "source": [
    "clf.score(X_tf,X['Label'])"
   ]
  },
  {
   "cell_type": "code",
   "execution_count": 29,
   "metadata": {},
   "outputs": [],
   "source": [
    "prediction=clf.predict(X_tf)\n"
   ]
  },
  {
   "cell_type": "code",
   "execution_count": 30,
   "metadata": {},
   "outputs": [
    {
     "data": {
      "text/plain": [
       "1.0"
      ]
     },
     "execution_count": 30,
     "metadata": {},
     "output_type": "execute_result"
    }
   ],
   "source": [
    "clf.score(X_tf,prediction)"
   ]
  },
  {
   "cell_type": "code",
   "execution_count": 82,
   "metadata": {},
   "outputs": [],
   "source": [
    "new_doc=['Free free entri 2 wkli comp win pizza ']\n",
    "new_cv=cv.transform(new_doc)"
   ]
  },
  {
   "cell_type": "code",
   "execution_count": 83,
   "metadata": {},
   "outputs": [],
   "source": [
    "new_tf=tf.transform(new_cv)\n",
    "prediction=clf.predict(new_tf)"
   ]
  },
  {
   "cell_type": "code",
   "execution_count": 84,
   "metadata": {},
   "outputs": [
    {
     "data": {
      "text/plain": [
       "array(['spam'], dtype='<U4')"
      ]
     },
     "execution_count": 84,
     "metadata": {},
     "output_type": "execute_result"
    }
   ],
   "source": [
    "prediction"
   ]
  },
  {
   "cell_type": "code",
   "execution_count": null,
   "metadata": {},
   "outputs": [],
   "source": []
  },
  {
   "cell_type": "code",
   "execution_count": null,
   "metadata": {},
   "outputs": [],
   "source": []
  }
 ],
 "metadata": {
  "kernelspec": {
   "display_name": "Python 3",
   "language": "python",
   "name": "python3"
  },
  "language_info": {
   "codemirror_mode": {
    "name": "ipython",
    "version": 3
   },
   "file_extension": ".py",
   "mimetype": "text/x-python",
   "name": "python",
   "nbconvert_exporter": "python",
   "pygments_lexer": "ipython3",
   "version": "3.7.3"
  }
 },
 "nbformat": 4,
 "nbformat_minor": 2
}
